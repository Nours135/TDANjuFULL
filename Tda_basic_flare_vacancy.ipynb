{
 "cells": [
  {
   "cell_type": "code",
   "execution_count": 58,
   "metadata": {},
   "outputs": [],
   "source": [
    "import pandas as pd\n",
    "#from utils import randomSplit, Accumulator\n",
    "#import torch\n",
    "#from torch import nn\n",
    "import numpy as np\n",
    "from sklearn.preprocessing import StandardScaler, MinMaxScaler   # 归一化\n",
    "from sklearn.model_selection import KFold         # k折交叉验\n",
    "from sklearn.decomposition import PCA             # pca\n",
    "\n",
    "\n",
    "#import modules\n",
    "import kmapper as km\n",
    "import umap\n",
    "import sklearn\n",
    "import sklearn.manifold as manifold\n",
    "\n",
    "import matplotlib.pyplot as plt\n",
    "from kmapper.jupyter import display\n",
    "\n",
    "from sklearn.decomposition import PCA\n",
    "from sklearn import cluster\n",
    "import networkx as nx\n",
    "from sklearn.decomposition import FactorAnalysis\n",
    "\n",
    "import community  # louvain 算法\n",
    "\n",
    "from scipy import stats  # 统计检验\n"
   ]
  },
  {
   "cell_type": "code",
   "execution_count": 154,
   "metadata": {},
   "outputs": [
    {
     "name": "stderr",
     "output_type": "stream",
     "text": [
      "C:\\Users\\xxxx\\AppData\\Roaming\\Python\\Python39\\site-packages\\umap\\umap_.py:1943: UserWarning:\n",
      "\n",
      "n_jobs value -1 overridden to 1 by setting random_state. Use no seed for parallelism.\n",
      "\n"
     ]
    },
    {
     "name": "stdout",
     "output_type": "stream",
     "text": [
      "(2921, 135)\n",
      "[(0, 13), (1, 50), (3, 12), (4, 35), (5, 43), (6, 72), (8, 79), (9, 66), (11, 28), (12, 47), (15, 16), (16, 59), (17, 15), (18, 27), (19, 30), (20, 13), (21, 72), (22, 26)]\n"
     ]
    }
   ],
   "source": [
    "def numpy_cos(a,b):\n",
    "    '''求解cos相似度'''\n",
    "    a = a / np.linalg.norm(a, axis=1).reshape(-1, 1)  # 先renorm，然后相乘就是cos\n",
    "    b = b / np.linalg.norm(b, axis=1).reshape(-1, 1)\n",
    "    dot = np.dot(a, b.T) #对应原始相乘dot.sum(axis=1)得到内积\n",
    "    return dot\n",
    "\n",
    "class myDataset():\n",
    "    def __init__(self, renorm=False, pca=False, savehtml=False, **kargs):\n",
    "        self.player = pd.read_csv('datacleaning/modified_data.csv', header=0, encoding='unicode_escape', delimiter=';')\n",
    "        #self.player = self.player.drop(['Rk', 'Player', 'Nation', 'Pos', 'Comp', 'Age', 'Born'], axis=1)\n",
    "        \n",
    "        # Squad 和 Season 需要保留\n",
    "        #self.player = self.player.drop(['Rk', 'Player', 'Nation', 'Pos', 'Comp', 'Age', 'Born'], axis=1)\n",
    "        \n",
    "        if renorm:\n",
    "            scaler = StandardScaler()  # z score 归一化\n",
    "            #scaler = MinMaxScaler()    # 0-1 归一化\n",
    "            for col in self.player.columns:\n",
    "                if col in ('Rk', 'Player', 'Nation', 'Pos', 'Comp', 'Age', 'Born', 'Squad'): continue\n",
    "                self.player[[col]] = scaler.fit_transform(self.player[[col]])\n",
    "        if pca:\n",
    "            squad = self.player['Squad']\n",
    "            season = self.player['Season']\n",
    "            pos = self.player['Pos']\n",
    "            values = self.player.drop(['Squad', 'Season'], axis=1).values\n",
    "            comp_dim = kargs['pca_dim']\n",
    "            pca = PCA(n_components=comp_dim)   # 15\n",
    "            values = pca.fit_transform(values)\n",
    "            # print(sum(pca.explained_variance_ratio_))\n",
    "            self.player = pd.DataFrame(values)\n",
    "            self.player['Squad'] = squad\n",
    "            self.player[\"Season\"] = season\n",
    "            self.player['Pos'] = pos\n",
    "\n",
    "        #self.league = pd.read_excel('DLdata/SquadPerformance2021.xlsx', sheet_name='Sheet1')\n",
    "        #self.league['tier'] = self.league.apply(rank2class, axis=1)\n",
    "        #self.league = self.league[['Squad', 'Season', 'tier']]       \n",
    "\n",
    "        #initialize mapper\n",
    "        mapper = km.KeplerMapper(verbose=0)\n",
    "        #project data\n",
    "        self.X_features_numeric = self.player.drop(['Rk', 'Player', 'Nation', 'Pos', 'Comp', 'Age', 'Born', 'Squad'], axis=1).values  # data array\n",
    "        # 不确定是否要讲这些操作放在mapper的部分，不确定是否会变得更好，尝试一下\n",
    "        # 修改本部分记得跑到上面的renorm那里，修改scaler的值\n",
    "        # 结论：-> 大差不差\n",
    "        '''self.X_features_numeric = np.log(self.X_features_numeric + 1)  # 在这里都取对数了\n",
    "        scaler2 = StandardScaler()\n",
    "        self.X_features_numeric = scaler2.fit_transform(self.X_features_numeric.T)\n",
    "        self.X_features_numeric = self.X_features_numeric.T'''\n",
    "        \n",
    "        \n",
    "        \n",
    "        self.index2col = list(self.player.drop(['Rk', 'Player', 'Nation', 'Pos', 'Comp', 'Age', 'Born', 'Squad'], axis=1).columns)  # 将 values 的列id转化为对应的col名称\n",
    "        projected_X = mapper.fit_transform(self.X_features_numeric, \n",
    "                                            projection = [PCA(n_components=10),   #manifold.Isomap(n_components=10, n_jobs=-1),\n",
    "                                                            umap.UMAP(n_components=3, random_state=1)], scaler=[None])  \n",
    "        graph2 = mapper.map(projected_X, cover=km.Cover(n_cubes=10, perc_overlap=0.4),\n",
    "                clusterer=sklearn.cluster.KMeans(n_clusters=5, random_state=1618033))\n",
    "        \n",
    "        # 生成主成分因子\n",
    "        fa = FactorAnalysis(n_components=15, rotation='varimax')\n",
    "        # 拟合数据并进行因子分析\n",
    "        self.X_pca_features = fa.fit_transform(self.X_features_numeric)\n",
    "        #print(np.sum(fa.components_ ** 2, axis=1))\n",
    "        #print(np.sum(fa.components_ ** 2))\n",
    "        # 打印因子载荷矩阵\n",
    "        #print(\"Factor Loadings: \")\n",
    "        for i in range(15):\n",
    "            factor_load = fa.components_[i,:]\n",
    "            big5_ids = np.argsort(np.abs(factor_load))[-1:-7:-1]\n",
    "            #print(f'factor{i+1}: ', end='')\n",
    "            #print(';'.join([f'{self.index2col[id]} {factor_load[id]:.2f}' for id in big5_ids]))\n",
    "        #print(fa.components_.shape)\n",
    "        # 打印降维后的结果\n",
    "        #print(\"Factor Analysis Result:\")\n",
    "        #print(fa_result.shape)\n",
    "        \n",
    "\n",
    "        # 根据标签数据y创建对应的color_values\n",
    "        def create_color_values(y):\n",
    "            unique_labels = np.unique(y)\n",
    "            color_values = [str(i + 1) for i in range(unique_labels.shape[0])]\n",
    "            label_to_color = dict(zip(unique_labels, color_values))\n",
    "            return np.array([label_to_color[label] for label in y])\n",
    "        def node_color_func(node):\n",
    "            labels, counts = np.unique(node, return_counts=True)\n",
    "            max_count_index = np.argmax(counts)\n",
    "            ans = create_color_values(labels)\n",
    "            return ans[max_count_index] \n",
    "        self.pos = np.array(self.player['Pos'])\n",
    "        \n",
    "        self.graph = km.adapter.to_nx(graph2)\n",
    "        colorvaluepos = create_color_values(self.pos)\n",
    "        self.closeCenResult = nx.closeness_centrality(self.graph)  # returns dict\n",
    "        clusters = self.graph.nodes.data()\n",
    "        colorvalueCloseCen = [[] for i in range(colorvaluepos.shape[0])]\n",
    "        self.cluster_features = dict()       # 所有变量的特征\n",
    "        self.cluster_pca_features = dict()   # 15个主成分因子的特征\n",
    "        for clusterdata in clusters:  # nx nodes view\n",
    "            # 单个cluster example ('cube0_cluster0', {'membership': [2234, 3793, 5864, 6229, 8196]})\n",
    "            clus_name = clusterdata[0]\n",
    "            clus_closeCen = self.closeCenResult[clus_name]\n",
    "            \n",
    "            members_l = clusterdata[1]['membership']\n",
    "            for member in members_l:  # id = dataframe里的index\n",
    "                colorvalueCloseCen[member].append(clus_closeCen)\n",
    "            # 生成cluster的特征，先取出对应的menber 的feature，再求平均\n",
    "            cur_cluster_feature = self.X_features_numeric[np.array(members_l), :].mean(axis=0)  # shape [1, self.cluster_features_dim]\n",
    "            cur_cluster_pca_feature = self.X_pca_features[np.array(members_l), :].mean(axis=0)\n",
    "            self.cluster_features[clus_name] = cur_cluster_feature  #  name -> cluster feature, 可以用来生成其他的表示颜色的变量\n",
    "            self.cluster_pca_features[clus_name] = cur_cluster_pca_feature\n",
    "        colorvalueCloseCen = np.array([max(l) for l in colorvalueCloseCen])  # 直接对这个结果做标准化和分箱吧\n",
    "        \n",
    "        scaler = StandardScaler()\n",
    "        re = scaler.fit_transform(colorvalueCloseCen.reshape(-1, 1))\n",
    "        re.sort(axis=0) # 升序 排序\n",
    "        bins = np.array_split(re, 10)\n",
    "        seper = np.array([b.min() for b in bins])\n",
    "        colorvalueCloseCen_2 = np.zeros_like(colorvalueCloseCen)\n",
    "        for i in range(colorvalueCloseCen.shape[0]):\n",
    "            colorvalueCloseCen_2[i] = str((seper < re[i]).sum() + 1)  # 不是吧，别太抽象，真要换成str ？？\n",
    "        \n",
    "        # 决定分位置计算方差，寻找在不同位置中，哪些指标上内部差异比较大\n",
    "        feature_l = dict()\n",
    "        clusters = self.graph.nodes.data()\n",
    "        for clusterdata in clusters:\n",
    "            # 单个cluster example ('cube0_cluster0', {'membership': [2234, 3793, 5864, 6229, 8196]})\n",
    "            clus_name = clusterdata[0]\n",
    "            member_postion_dict = dict()  # 统计不同的位置有多少个人的\n",
    "            for member in clusterdata[1]['membership']:\n",
    "                member_postion_dict[self.pos[member]] = member_postion_dict.get(self.pos[member], 0) + 1\n",
    "            assign_position = sorted([(k, v) for k, v in member_postion_dict.items()], key=lambda x:x[1], reverse=True)[0][0]\n",
    "            feature = self.cluster_pca_features[clus_name]   # 通过clus name 获取前面计算好的features\n",
    "            feature_l[assign_position] = feature_l.get(assign_position, []) + [feature.reshape(1, -1)]\n",
    "\n",
    "        for k in feature_l.keys():\n",
    "            feature_l[k] = np.concatenate(feature_l[k], axis=0)\n",
    "            stds = np.std(feature_l[k], axis=0)\n",
    "            topK_ids = np.argsort(stds)[-1:-10:-1]\n",
    "            topK_features_name = [f'factor{id+1}' for id in topK_ids]\n",
    "            topK_features_value4color = [self.X_pca_features[:, id].reshape(-1, 1) for id in topK_ids]\n",
    "            #print(k)\n",
    "            #print(topK_features_name)\n",
    "            #print(stds[topK_ids])\n",
    "\n",
    "\n",
    "        if savehtml:\n",
    "            mapper.visualize(graph2, path_html=\"cluster=5,cubes=15_flare_vacancy.html\",\n",
    "                 title=\"mapper2\", custom_tooltips=self.pos, \n",
    "                 color_values=np.concatenate([colorvaluepos.reshape(-1, 1)]+[colorvalueCloseCen_2.reshape(-1, 1)]+topK_features_value4color, axis=1),\n",
    "                 node_color_function=['mean', 'max'], \n",
    "                 color_function_name=['Position', 'CloseCentrality'] + topK_features_name,\n",
    "                 include_searchbar=True)\n",
    "        \n",
    "\n",
    "    def get_members(self, nodes_l, method='ring_opposite', **kargs):\n",
    "        '''find_ring找到ring的周围节点后，通过该函数获取节点所代表的局部点云，\n",
    "        method值，k_min 最小的k个，保证每个点都有pair，threshold，选取夹角余弦值小于threshold参数值的东西，一般设置-0.8，不保证都有pair'''\n",
    "        if isinstance(nodes_l, set):\n",
    "            nodes_l = list(nodes_l)\n",
    "        sub_graph = dataset.graph.subgraph(nodes_l)\n",
    "        member_l = []\n",
    "        for item in sub_graph.nodes.data():\n",
    "            member_l += item[1]['membership']\n",
    "        member_l = list(set(member_l))\n",
    "        cur_df = self.player.iloc[member_l, :]  # 因为索引是对应的，可以直接按照 X_features的行索引，获取到dataframe \n",
    "        #cur_cluster_feature = X_features_numeric[np.array(member_l), :].mean(axis=0)  # shaoe [1, self.cluster_features_dim]\n",
    "        cur_df = cur_df.drop(['Rk', 'Player', 'Nation', 'Pos', 'Comp', 'Born', 'Squad'], axis=1)  # 前面drop的除了age都drop了\n",
    "        centorPoint = cur_df.values.mean(axis=0)\n",
    "        df_values = cur_df.values\n",
    "        centor2pointCloudVector = df_values - centorPoint  # 通过向量减法，得到从中心发射到点云的向量的值；计算利用了广播机制\n",
    "        cosSims = numpy_cos(centor2pointCloudVector, centor2pointCloudVector)\n",
    "        if method == 'threshold':\n",
    "            raw_pairs = np.nonzero(cosSims < kargs['threshold'])  # 记录夹角够大的向量的pair, default -0.8\n",
    "            # np.nonzero return 一个tuple，记录两个index array\n",
    "            pairset = set()\n",
    "            for raw, col in zip(*raw_pairs):    \n",
    "                #if (col, raw) not in pairset:  # 如果对方不在\n",
    "                pairset.add((raw, col))\n",
    "        elif method == 'k_min':\n",
    "            sortedIndex = cosSims.argsort(axis=1)  # 升序排列\n",
    "            raw_pairs = sortedIndex[:, :kargs['k']]  # default 2\n",
    "            pairset = set()\n",
    "            for raw in range(raw_pairs.shape[0]):\n",
    "                for col in range(raw_pairs.shape[1]):\n",
    "                    #if (raw_pairs[raw][col], raw) not in pairset:  # 如果对方不在，似乎不需要\n",
    "                    pairset.add((raw, raw_pairs[raw][col]))   # 添加的是，member的id的pair\n",
    "        elif method == 'ring_opposite':  # 进一步考虑之后，前面的两种思路都废弃了orzzz\n",
    "            '''环的对面的节点组成pair，这样的话pair会少一些'''\n",
    "            pairset = set()  # 目前决定是cluster\n",
    "            for node in nodes_l:\n",
    "                path_dic = nx.shortest_path(sub_graph, source=node)\n",
    "                path_dic = sorted([(key, len(n_l)) for key, n_l in path_dic.items()], key=lambda x: x[1], reverse=True)\n",
    "                path_dic = [k for k, l in path_dic if l == path_dic[0][1] or l >= 5] # 取出最长的那些路径对应的节点\n",
    "                for target in path_dic:\n",
    "                    pairset.add((node, target))\n",
    "            # 接下来分析每一对cluster pair内的节点在在各个特征维度的差值，的最小值（作为环的内界），此外为了robustness，最小值可以替换为p25分位点\n",
    "            cluster_pair_differs_l = []\n",
    "            for node, target in list(pairset):\n",
    "                member_l1 = sub_graph.nodes[node]['membership']\n",
    "                member_l2 = sub_graph.nodes[target]['membership']  # 取出source和target的节点中的所有member\n",
    "                differ_l = []\n",
    "                for m1 in member_l1: # member's global raw id\n",
    "                    for m2 in member_l2:\n",
    "                        differ_l.append(self.X_features_numeric[m1] - self.X_features_numeric[m2])\n",
    "                diffdata = np.abs(np.stack(differ_l, axis=0))\n",
    "                percentile = 0.25  # 取p25分位点，如果取最小值则是 0\n",
    "                cur_cluster_pair_features_differ = np.percentile(diffdata, percentile, axis=0)  # axis意味着在行维度，也即样本之间取percentile，返回的shape 为 [135,]\n",
    "                cluster_pair_differs_l.append(cur_cluster_pair_features_differ)\n",
    "            cluster_pair_differs_l = np.stack(cluster_pair_differs_l, axis=0)\n",
    "        # 上述步骤得到了，在拓扑空间内，被认为相对的节点pairs，接下来计算差值\n",
    "        else:\n",
    "            raise ValueError(f'method {method} is unsupported.')\n",
    "        #differ_l = [] # list of numpy array\n",
    "        #for pair in list(pairset): # pairset里面的member的值，是全局的player id，不能用cur_df中取出的values\n",
    "        #    differ_l.append(self.X_features_numeric[pair[0]] - self.X_features_numeric[pair[1]])  # 乐，昨晚写的时候真的是神志不清…… 明显错了\n",
    "                        \n",
    "        # 需要的都return吧\n",
    "        return member_l, cur_df, cluster_pair_differs_l\n",
    "\n",
    "\n",
    "    def find_ring(self, node1, node2, node3=None):\n",
    "        '''给定3个点，通过寻找两到三条最短路径的思路，寻找到环上的节点，\n",
    "            最短的两条不重合，或者不相邻的路径，构成一个需要的环'''\n",
    "        '''使用networkx的shortest_simple_paths函数'''\n",
    "        path_l = []\n",
    "        last_len = 100000\n",
    "        if node3 is None: flag = 1\n",
    "        else: flag = 0\n",
    "        for path in nx.shortest_simple_paths(self.graph, node1, node2):\n",
    "            path_l.append(path)\n",
    "            if len(path) < last_len: last_len = len(path)\n",
    "            if len(path) > last_len + flag: break  # 这样的话多一个兼容一下只提供两个节点的情况，试试效果啦\n",
    "        if node3 is not None:\n",
    "            last_len = 100000\n",
    "            for path in nx.shortest_simple_paths(self.graph, node1, node3):\n",
    "                path_l.append(path)\n",
    "                if len(path) < last_len: last_len = len(path)\n",
    "                if len(path) > last_len: break\n",
    "            last_len = 100000\n",
    "            for path in nx.shortest_simple_paths(self.graph, node2, node3):\n",
    "                path_l.append(path)\n",
    "                if len(path) < last_len: last_len = len(path)\n",
    "                if len(path) > last_len: break\n",
    "        # return path_l\n",
    "        return set([node for path in path_l for node in path])\n",
    "\n",
    "    def draw_subGraph(self, nodes_l):\n",
    "        '''将函数find_ring得到的结果可视化成一个子图'''\n",
    "        if isinstance(nodes_l, set):\n",
    "            nodes_l = list(nodes_l)\n",
    "        sub_graph = dataset.graph.subgraph(nodes_l)\n",
    "        nx.draw(sub_graph)\n",
    "\n",
    "    def test_postion_discover(self):\n",
    "        '''最简单的办法，我在图上跑一个Louvain就行了，\n",
    "        然后去定性地检验一下，是否emmm聚簇之间在主要特征上是否存在显著区别吧\n",
    "        不用15个主成分，这个太少了，改为用原始的所有指标，然后计算显著性？？'''\n",
    "\n",
    "        # 为假设检验需要，重新读取一份0-1归一化的数据，这样的归一化方便log取对数，处理分布问题\n",
    "        player = pd.read_csv('datacleaning/modified_data.csv', header=0, encoding='unicode_escape', delimiter=';')\n",
    "        scaler = MinMaxScaler()    # 0-1 归一化\n",
    "        for col in player.columns:\n",
    "            if col in ('Rk', 'Player', 'Nation', 'Pos', 'Comp', 'Age', 'Born', 'Squad'): continue\n",
    "            player[[col]] = scaler.fit_transform(self.player[[col]])\n",
    "        X_features_numeric = player.drop(['Rk', 'Player', 'Nation', 'Pos', 'Comp', 'Age', 'Born', 'Squad'], axis=1).values  # data array\n",
    "\n",
    "        X_features_numeric = np.log(X_features_numeric + 1)  # 在这里都取对数了\n",
    "\n",
    "        # 我突然想到一个办法可以消去绝对强弱的差异，但是这种处理方法真少见，有种冒天下之大不韪的美\n",
    "        # 就是对每个个人做归一化\n",
    "        scaler2 = StandardScaler()\n",
    "        X_features_numeric = scaler2.fit_transform(X_features_numeric.T)\n",
    "        X_features_numeric = X_features_numeric.T\n",
    "        print(X_features_numeric.shape)\n",
    "\n",
    "        partition = community.best_partition(self.graph)   # 这个就是，kmapper导出的graph\n",
    "        \n",
    "        community_id2nodes_id = dict()\n",
    "        for node, community_id in partition.items():\n",
    "            community_id2nodes_id[community_id] = community_id2nodes_id.get(community_id, []) + [node]\n",
    "        #print(community_id2nodes_id)\n",
    "        print([(a, len(l)) for a, l in community_id2nodes_id.items() if len(l) > 10])  # 寻找大于10个的社区有多少个，太好了，都是些大社区！\n",
    "        # 然后计算，这些社区在几个主成分上的平均值，以及，这些社区的主要构成球员\n",
    "        community_stats = dict()\n",
    "        for community_id, nodes_l in community_id2nodes_id.items():\n",
    "            player_l = []\n",
    "            for node in nodes_l:\n",
    "                node_data = self.graph.nodes[node]\n",
    "                player_l += node_data['membership']  # 获取这个louvain社区所有的cluster的球员的id\n",
    "            player_l = np.array(list(set(player_l)))\n",
    "            n = player_l.shape[0]\n",
    "            community_X_data = X_features_numeric[player_l, :]  # 进行对数变化，转化成类似正态分布的数据\n",
    "            community_position = self.pos[player_l]\n",
    "            unique_elements, counts = np.unique(community_position, return_counts=True)  # 统计出现最多的postion\n",
    "            most_common_index = np.argmax(counts)\n",
    "            per = counts[most_common_index] / counts.sum()  # 统计一下这个聚类最主要的球员类别的占比\n",
    "            community_stats[community_id] = [unique_elements[most_common_index], per, n, community_X_data]\n",
    "\n",
    "\n",
    "        # 还是在函数内把统计检验的发现也给做了吧\n",
    "        # 先统计下各个位置的数据吧\n",
    "        position_stats = dict()\n",
    "        for id in range(len(player)):\n",
    "            #print(X_features_numeric.shape)\n",
    "            pos = self.pos[id]\n",
    "            curX = X_features_numeric[id, :].reshape(1, -1)  # 好好好，我就说怎么都这么怪，原来是忘记了转化为对数fuck 扩充为2维数组\n",
    "            position_stats[pos] = position_stats.get(pos, []) + [curX]  # 统计X\n",
    "        for k, _ in position_stats.items():\n",
    "            position_stats[k] = np.concatenate(position_stats[k], axis=0)  # dict(pos -> 2D array)\n",
    "\n",
    "        # 接下来进行t检验\n",
    "        sig_level = 0.005\n",
    "        for _, sub_group_data in community_stats.items():\n",
    "            pos = sub_group_data[0]\n",
    "            #print(sub_group_data[3].shape)\n",
    "            #print(position_stats[pos].shape)\n",
    "            res = stats.ttest_ind(sub_group_data[3], position_stats[pos], axis=0, equal_var=False)\n",
    "            #print(res.__getattribute__(\"statistic\"), res.__getattribute__(\"pvalue\"))\n",
    "            t_stats = res.__getattribute__(\"statistic\")\n",
    "            p_value = res.__getattribute__(\"pvalue\")\n",
    "            sig_feature_l = []\n",
    "            for feature_id in range(p_value.shape[0]):\n",
    "                if p_value[feature_id] < sig_level:  # 统计显著性检验\n",
    "                    diff = sub_group_data[3].mean(axis=0)[feature_id] - position_stats[pos].mean(axis=0)[feature_id]\n",
    "                    if abs(diff) > 0.3:  # 要求差值也够大，改成差值适中（\n",
    "                        sig_feature = (self.index2col[feature_id], diff)\n",
    "                        sig_feature_l.append(sig_feature)\n",
    "            community_stats[_] = sub_group_data + [sig_feature_l] # 列表加起来吧\n",
    "\n",
    "                   \n",
    "\n",
    "        return community_stats, position_stats\n",
    "            \n",
    "\n",
    "\n",
    "\n",
    "dataset = myDataset(renorm=1, savehtml=1)\n",
    "community_stats, res2 = dataset.test_postion_discover()\n",
    "#print(dataset.cluster_features['cube0_cluster0'].shape)"
   ]
  },
  {
   "cell_type": "code",
   "execution_count": 155,
   "metadata": {},
   "outputs": [
    {
     "name": "stdout",
     "output_type": "stream",
     "text": [
      "DF, 0.970873786407767, 206\n",
      "MP,  0.81\n",
      "Starts,  0.96\n",
      "Min,  0.93\n",
      "90s,  0.94\n",
      "SoT%,  0.33\n",
      "G/Sh,  0.33\n",
      "G/SoT,  0.51\n",
      "PasDead,  -0.53\n",
      "PasCrs,  -0.39\n",
      "PasLow,  -0.32\n",
      "TI,  -0.58\n",
      "Clr,  0.33\n",
      "TouAtt3rd,  -0.32\n",
      "DriSucc%,  0.5\n",
      "Crs,  -0.39\n",
      "\n",
      "\n",
      "DF, 0.8613138686131386, 274\n",
      "MP,  -0.5\n",
      "Starts,  -0.47\n",
      "Min,  -0.47\n",
      "90s,  -0.46\n",
      "SoT%,  -0.31\n",
      "PasLonCmp,  0.32\n",
      "PasLonCmp%,  0.47\n",
      "PasDead,  -0.51\n",
      "PasCrs,  -0.36\n",
      "TI,  -0.55\n",
      "Crs,  -0.36\n",
      "\n",
      "\n",
      "DF, 0.6444444444444445, 45\n",
      "PasTotCmp,  0.62\n",
      "PasTotAtt,  0.39\n",
      "PasTotCmp%,  -0.36\n",
      "PasTotDist,  0.67\n",
      "PasTotPrgDist,  0.31\n",
      "PasShoCmp%,  -0.55\n",
      "PasMedCmp,  0.73\n",
      "PasMedAtt,  0.61\n",
      "PasMedCmp%,  -0.44\n",
      "PasLonCmp,  0.52\n",
      "Pas3rd,  0.45\n",
      "PasAtt,  0.39\n",
      "PasLive,  0.51\n",
      "PasDead,  -0.53\n",
      "PasCrs,  -0.42\n",
      "PasGround,  0.81\n",
      "PaswRight,  0.62\n",
      "TI,  -0.59\n",
      "PasCmp,  0.62\n",
      "TouMid3rd,  0.62\n",
      "TouLive,  0.37\n",
      "Carries,  0.56\n",
      "CarTotDist,  0.35\n",
      "RecTarg,  0.5\n",
      "Rec,  0.53\n",
      "Rec%,  -0.63\n",
      "Crs,  -0.42\n",
      "\n",
      "\n",
      "DF, 0.8571428571428571, 21\n",
      "MP,  -1.89\n",
      "Starts,  -1.66\n",
      "Min,  -1.63\n",
      "90s,  -1.62\n",
      "SoT%,  -0.75\n",
      "PasTotCmp,  -0.53\n",
      "PasTotAtt,  -0.34\n",
      "PasTotCmp%,  0.4\n",
      "PasTotDist,  -0.49\n",
      "PasTotPrgDist,  -0.56\n",
      "PasMedCmp,  -0.55\n",
      "PasMedAtt,  -0.51\n",
      "PasMedCmp%,  0.76\n",
      "PasAtt,  -0.34\n",
      "PasDead,  -0.36\n",
      "PasGround,  -0.49\n",
      "PaswLeft,  -0.33\n",
      "PasCmp,  -0.53\n",
      "Press,  0.54\n",
      "PresDef3rd,  0.72\n",
      "TouDefPen,  0.45\n",
      "DriSucc%,  -1.83\n",
      "Carries,  -0.42\n",
      "RecTarg,  -0.35\n",
      "Rec,  -0.33\n",
      "Rec%,  0.99\n",
      "CrdY,  0.37\n",
      "\n",
      "\n",
      "DF, 0.8595744680851064, 470\n",
      "PasDead,  0.53\n",
      "PasCrs,  0.36\n",
      "PasLow,  0.31\n",
      "TI,  0.57\n",
      "Clr,  -0.31\n",
      "TouDefPen,  -0.32\n",
      "Crs,  0.36\n",
      "\n",
      "\n",
      "FW, 0.7215568862275449, 334\n",
      "\n",
      "\n",
      "FWMF, 0.48148148148148145, 54\n",
      "MP,  1.05\n",
      "Starts,  1.19\n",
      "Min,  1.07\n",
      "90s,  1.07\n",
      "SoT%,  0.38\n",
      "G/Sh,  0.32\n",
      "G/SoT,  0.36\n",
      "Rec%,  -0.35\n",
      "\n",
      "\n",
      "GK, 1.0, 50\n",
      "MP,  1.48\n",
      "Starts,  1.43\n",
      "Min,  1.42\n",
      "90s,  1.42\n",
      "PasTotCmp%,  -0.55\n",
      "PasShoCmp%,  -0.39\n",
      "PasMedCmp%,  -0.52\n",
      "Rec%,  -0.55\n",
      "\n",
      "\n",
      "GK, 1.0, 102\n",
      "MP,  -1.4\n",
      "Starts,  -1.35\n",
      "Min,  -1.34\n",
      "90s,  -1.34\n",
      "PasTotCmp%,  0.35\n",
      "PasMedCmp%,  0.35\n",
      "Press%,  -0.45\n",
      "TouDefPen,  0.36\n",
      "DriSucc%,  -0.4\n",
      "Rec%,  0.45\n",
      "\n",
      "\n",
      "GK, 1.0, 63\n",
      "MP,  1.18\n",
      "Starts,  1.14\n",
      "Min,  1.12\n",
      "90s,  1.12\n",
      "TouDefPen,  -0.38\n",
      "\n",
      "\n",
      "MF, 0.7621621621621621, 370\n",
      "MP,  0.51\n",
      "Starts,  0.41\n",
      "Min,  0.41\n",
      "90s,  0.41\n",
      "\n",
      "\n",
      "MF, 0.6095238095238096, 105\n",
      "MP,  -0.84\n",
      "Starts,  -0.8\n",
      "Min,  -0.75\n",
      "90s,  -0.75\n",
      "SoT%,  -0.37\n",
      "PasTotCmp,  0.56\n",
      "PasTotAtt,  0.4\n",
      "PasTotCmp%,  -0.36\n",
      "PasTotDist,  0.47\n",
      "PasTotPrgDist,  0.38\n",
      "PasShoCmp,  0.49\n",
      "PasShoAtt,  0.41\n",
      "PasShoCmp%,  -0.38\n",
      "PasMedCmp,  0.48\n",
      "PasMedAtt,  0.43\n",
      "Pas3rd,  0.36\n",
      "PasAtt,  0.4\n",
      "PasLive,  0.42\n",
      "PasGround,  0.61\n",
      "PaswLeft,  0.31\n",
      "PasCmp,  0.56\n",
      "TklDri%,  -0.41\n",
      "Press%,  -0.37\n",
      "Touches,  0.32\n",
      "TouAtt3rd,  0.31\n",
      "TouLive,  0.33\n",
      "Carries,  0.57\n",
      "CarTotDist,  0.37\n",
      "CarPrgDist,  0.32\n",
      "RecTarg,  0.47\n",
      "Rec,  0.49\n",
      "Rec%,  -0.48\n",
      "AerWon%,  -0.51\n",
      "\n",
      "\n",
      "MF, 0.6756756756756757, 74\n",
      "MP,  -0.5\n",
      "Starts,  -0.49\n",
      "Min,  -0.45\n",
      "90s,  -0.45\n",
      "G/SoT,  -0.37\n",
      "PasMedCmp%,  0.33\n",
      "PasLonCmp%,  0.41\n",
      "TklWon,  0.3\n",
      "TklDef3rd,  0.38\n",
      "TklDri%,  0.48\n",
      "PresDef3rd,  0.31\n",
      "Tkl+Int,  0.46\n",
      "Clr,  0.39\n",
      "RecTarg,  -0.33\n",
      "Rec%,  0.34\n",
      "TklW,  0.3\n",
      "AerWon%,  0.84\n",
      "\n",
      "\n",
      "MF, 0.6121212121212121, 165\n",
      "Starts,  -0.43\n",
      "Min,  -0.41\n",
      "90s,  -0.41\n",
      "PasTotDist,  -0.35\n",
      "PasMedCmp,  -0.32\n",
      "PasLonCmp,  -0.33\n",
      "PasFK,  -0.42\n",
      "Tkl,  0.42\n",
      "TklWon,  0.49\n",
      "TklDef3rd,  0.32\n",
      "TklDri,  0.31\n",
      "TklDriAtt,  0.43\n",
      "TklDri%,  0.32\n",
      "Press,  0.37\n",
      "PresSucc,  0.36\n",
      "Tkl+Int,  0.48\n",
      "TklW,  0.49\n",
      "\n",
      "\n"
     ]
    }
   ],
   "source": [
    "res = sorted([item for k, item in community_stats.items()], key=lambda x:x[0])\n",
    "for i in range(len(res)):\n",
    "    if res[i][1] < 0.4 or res[i][2] < 20:  # 剔除小类，噪音\n",
    "        continue\n",
    "    print(*res[i][:3], sep=', ')\n",
    "    for item in res[i][4]:\n",
    "        print(item[0] + ', ', round(item[1], 2))\n",
    "    print('\\n')"
   ]
  },
  {
   "cell_type": "code",
   "execution_count": 42,
   "metadata": {},
   "outputs": [
    {
     "name": "stdout",
     "output_type": "stream",
     "text": [
      "pos, percent,factor1,factor2,factor3,factor4,factor5,factor6,factor7,factor8,factor9,factor10,factor11,factor12,factor13,factor14,factor15\n",
      "DF, 0.5, "
     ]
    },
    {
     "ename": "TypeError",
     "evalue": "'int' object is not iterable",
     "output_type": "error",
     "traceback": [
      "\u001b[1;31m---------------------------------------------------------------------------\u001b[0m",
      "\u001b[1;31mTypeError\u001b[0m                                 Traceback (most recent call last)",
      "\u001b[1;32m~\\AppData\\Local\\Temp\\ipykernel_24404\\3362265616.py\u001b[0m in \u001b[0;36m<module>\u001b[1;34m\u001b[0m\n\u001b[0;32m      9\u001b[0m     \u001b[0mprint\u001b[0m\u001b[1;33m(\u001b[0m\u001b[0mdata\u001b[0m\u001b[1;33m[\u001b[0m\u001b[1;36m0\u001b[0m\u001b[1;33m]\u001b[0m\u001b[1;33m,\u001b[0m \u001b[0mend\u001b[0m\u001b[1;33m=\u001b[0m\u001b[1;34m', '\u001b[0m\u001b[1;33m)\u001b[0m\u001b[1;33m\u001b[0m\u001b[1;33m\u001b[0m\u001b[0m\n\u001b[0;32m     10\u001b[0m     \u001b[0mprint\u001b[0m\u001b[1;33m(\u001b[0m\u001b[0mround\u001b[0m\u001b[1;33m(\u001b[0m\u001b[0mdata\u001b[0m\u001b[1;33m[\u001b[0m\u001b[1;36m1\u001b[0m\u001b[1;33m]\u001b[0m\u001b[1;33m,\u001b[0m \u001b[1;36m2\u001b[0m\u001b[1;33m)\u001b[0m\u001b[1;33m,\u001b[0m \u001b[0mend\u001b[0m\u001b[1;33m=\u001b[0m\u001b[1;34m', '\u001b[0m\u001b[1;33m)\u001b[0m\u001b[1;33m\u001b[0m\u001b[1;33m\u001b[0m\u001b[0m\n\u001b[1;32m---> 11\u001b[1;33m     \u001b[0mprint\u001b[0m\u001b[1;33m(\u001b[0m\u001b[1;33m*\u001b[0m\u001b[0mlist\u001b[0m\u001b[1;33m(\u001b[0m\u001b[0mdata\u001b[0m\u001b[1;33m[\u001b[0m\u001b[1;36m2\u001b[0m\u001b[1;33m]\u001b[0m\u001b[1;33m)\u001b[0m\u001b[1;33m,\u001b[0m \u001b[0msep\u001b[0m\u001b[1;33m=\u001b[0m\u001b[1;34m','\u001b[0m\u001b[1;33m)\u001b[0m\u001b[1;33m\u001b[0m\u001b[1;33m\u001b[0m\u001b[0m\n\u001b[0m",
      "\u001b[1;31mTypeError\u001b[0m: 'int' object is not iterable"
     ]
    }
   ],
   "source": [
    "data_l = []\n",
    "for _, data in res.items():\n",
    "    data_l.append(data)\n",
    "data_l = sorted(data_l, key=lambda x:x[0])\n",
    "print('pos, percent,', end='')\n",
    "print(','.join([f'factor{i+1}' for i in range(15)]))\n",
    "\n",
    "for data in data_l:\n",
    "    print(data[0], end=', ')\n",
    "    print(round(data[1], 2), end=', ')\n",
    "    print(*list(data[2]), sep=',')"
   ]
  },
  {
   "cell_type": "code",
   "execution_count": null,
   "metadata": {},
   "outputs": [
    {
     "name": "stdout",
     "output_type": "stream",
     "text": [
      "[ 75  82  83 120  74 127  91   6  42 133  87   4  78  77 107]\n",
      "[[ 1.          0.38224808  0.37379228  0.01863769  0.70618198  0.70618198\n",
      "   0.42175766 -0.14945246  0.27916012  0.40195644  0.121563   -0.13235802\n",
      "   0.59638781 -0.05191104 -0.0641131 ]\n",
      " [ 0.38224808  1.          0.75502686  0.22589881  0.52915947  0.52915947\n",
      "   0.58389118  0.31927004  0.35240945  0.52700096  0.77036065  0.21273218\n",
      "   0.5226702   0.4203745   0.30027295]\n",
      " [ 0.37379228  0.75502686  1.          0.10144653  0.50255592  0.50255592\n",
      "   0.46351771  0.49359758  0.26730967  0.374449    0.69874494  0.20164665\n",
      "   0.71368843  0.49162315  0.51545139]\n",
      " [ 0.01863769  0.22589881  0.10144653  1.          0.0641166   0.0641166\n",
      "   0.30377624  0.07188449  0.31963619  0.31124927  0.15780908  0.35281266\n",
      "   0.03658256 -0.04120424 -0.03677228]\n",
      " [ 0.70618198  0.52915947  0.50255592  0.0641166   1.          1.\n",
      "   0.62602952 -0.09786629  0.24327742  0.32701276  0.28871554 -0.03736743\n",
      "   0.5583462   0.29864786 -0.06115481]\n",
      " [ 0.70618198  0.52915947  0.50255592  0.0641166   1.          1.\n",
      "   0.62602952 -0.09786629  0.24327742  0.32701276  0.28871554 -0.03736743\n",
      "   0.5583462   0.29864786 -0.06115481]\n",
      " [ 0.42175766  0.58389118  0.46351771  0.30377624  0.62602952  0.62602952\n",
      "   1.         -0.07650183  0.6542025   0.42520141  0.39668869  0.00711207\n",
      "   0.40619435  0.22381374 -0.06081935]\n",
      " [-0.14945246  0.31927004  0.49359758  0.07188449 -0.09786629 -0.09786629\n",
      "  -0.07650183  1.          0.02065536  0.21139349  0.60542821  0.36800406\n",
      "   0.37637647  0.51764205  0.70908466]\n",
      " [ 0.27916012  0.35240945  0.26730967  0.31963619  0.24327742  0.24327742\n",
      "   0.6542025   0.02065536  1.          0.48502013  0.36662981  0.06237412\n",
      "   0.31178921 -0.01791479 -0.01014799]\n",
      " [ 0.40195644  0.52700096  0.374449    0.31124927  0.32701276  0.32701276\n",
      "   0.42520141  0.21139349  0.48502013  1.          0.62281876  0.08371035\n",
      "   0.38493535  0.11769593  0.1971682 ]\n",
      " [ 0.121563    0.77036065  0.69874494  0.15780908  0.28871554  0.28871554\n",
      "   0.39668869  0.60542821  0.36662981  0.62281876  1.          0.32275748\n",
      "   0.49064185  0.62779816  0.58167137]\n",
      " [-0.13235802  0.21273218  0.20164665  0.35281266 -0.03736743 -0.03736743\n",
      "   0.00711207  0.36800406  0.06237412  0.08371035  0.32275748  1.\n",
      "  -0.10500027 -0.03031725 -0.01592892]\n",
      " [ 0.59638781  0.5226702   0.71368843  0.03658256  0.5583462   0.5583462\n",
      "   0.40619435  0.37637647  0.31178921  0.38493535  0.49064185 -0.10500027\n",
      "   1.          0.47917902  0.62679574]\n",
      " [-0.05191104  0.4203745   0.49162315 -0.04120424  0.29864786  0.29864786\n",
      "   0.22381374  0.51764205 -0.01791479  0.11769593  0.62779816 -0.03031725\n",
      "   0.47917902  1.          0.74048269]\n",
      " [-0.0641131   0.30027295  0.51545139 -0.03677228 -0.06115481 -0.06115481\n",
      "  -0.06081935  0.70908466 -0.01014799  0.1971682   0.58167137 -0.01592892\n",
      "   0.62679574  0.74048269  1.        ]]\n"
     ]
    }
   ],
   "source": [
    "\n",
    "# 简单粗暴点，不管是否邻接，直接计算方差\n",
    "feature_l = []\n",
    "for clusterName, feature in dataset.cluster_features.items():\n",
    "    feature_l.append(feature.reshape(1, -1)) # reshape [1, features_dim]\n",
    "stats = np.concatenate(feature_l, axis=0)\n",
    "stds = np.std(stats, axis=0)\n",
    "topK_ids = np.argsort(stds)[-15:]\n",
    "print(topK_ids)\n",
    "print(np.corrcoef(stats[:, topK_ids].T))"
   ]
  },
  {
   "cell_type": "code",
   "execution_count": null,
   "metadata": {},
   "outputs": [
    {
     "name": "stdout",
     "output_type": "stream",
     "text": [
      "{'cube104_cluster4', 'cube55_cluster4', 'cube106_cluster0', 'cube114_cluster4', 'cube106_cluster3', 'cube113_cluster0', 'cube63_cluster2', 'cube105_cluster1', 'cube105_cluster0', 'cube106_cluster4', 'cube64_cluster0', 'cube57_cluster0', 'cube113_cluster3', 'cube62_cluster1', 'cube63_cluster1', 'cube113_cluster4', 'cube62_cluster0', 'cube63_cluster3', 'cube104_cluster2', 'cube105_cluster2', 'cube63_cluster4', 'cube63_cluster0', 'cube62_cluster3', 'cube55_cluster2', 'cube112_cluster2', 'cube61_cluster2', 'cube64_cluster3', 'cube114_cluster2', 'cube111_cluster2', 'cube56_cluster2', 'cube61_cluster3', 'cube111_cluster0', 'cube56_cluster3', 'cube107_cluster1', 'cube62_cluster4', 'cube112_cluster0', 'cube54_cluster1', 'cube55_cluster1', 'cube113_cluster1', 'cube64_cluster4'}\n"
     ]
    }
   ],
   "source": [
    "node1 = 'cube63_cluster4'\n",
    "node2 = 'cube54_cluster1'\n",
    "res = dataset.find_ring(node1=node1, node2=node2, node3=None)\n",
    "print(res)\n",
    "sub_graph = dataset.graph.subgraph(list(res))\n",
    "member_l, cur_df, cluster_pair_differs_l = dataset.get_members(list(res), method='ring_opposite')"
   ]
  },
  {
   "cell_type": "code",
   "execution_count": null,
   "metadata": {},
   "outputs": [
    {
     "data": {
      "image/png": "[encoded data removed]",
      "text/plain": [
       "<Figure size 640x480 with 1 Axes>"
      ]
     },
     "metadata": {},
     "output_type": "display_data"
    }
   ],
   "source": [
    "dataset.draw_subGraph(list(res))"
   ]
  },
  {
   "cell_type": "code",
   "execution_count": null,
   "metadata": {},
   "outputs": [
    {
     "name": "stdout",
     "output_type": "stream",
     "text": [
      "[  1   4   8   9  15  34  35  41  63  66  96 102 126]\n"
     ]
    },
    {
     "data": {
      "image/png": "[encoded data removed]",
      "text/plain": [
       "<Figure size 3600x2400 with 1 Axes>"
      ]
     },
     "metadata": {},
     "output_type": "display_data"
    }
   ],
   "source": [
    "idx = np.nonzero(cluster_pair_differs_l.max(axis=0) > 0.2)[0]  # 选出大于0.02的特征，得到的global idx\n",
    "print(idx)\n",
    "values = cluster_pair_differs_l[:, idx]   # 选出这些特征的原始数据，它们被认为是在这个空洞中显著存在差异的特征\n",
    "# 想用中文必须进行设置RC参数\n",
    "plt.rcParams['font.sans-serif'] = 'SimHei'\n",
    "# 设置RC参数字体，让其支持中文\n",
    "plt.rcParams['axes.unicode_minus'] = False\n",
    "# 加载数据\n",
    "# 创建画布\n",
    "plt.figure(dpi=300,figsize=(12,8))\n",
    "labels = [dataset.index2col[i] for i in idx]\n",
    "# notch --缺口 meanline --均值线\n",
    "plt.boxplot(values, meanline=True, notch=True, labels=labels)  # x size [raw, features]\n",
    "plt.show()\n"
   ]
  },
  {
   "cell_type": "code",
   "execution_count": null,
   "metadata": {},
   "outputs": [
    {
     "name": "stdout",
     "output_type": "stream",
     "text": [
      "(441, 13)\n",
      "(13, 13)\n",
      "[]\n"
     ]
    }
   ],
   "source": [
    "print(values.shape)\n",
    "cors = np.corrcoef(values.T) # 要求输入的shape [nfeatures, nsamples]\n",
    "print(cors.shape)\n",
    "#print(cors)\n",
    "significant_correlate = []\n",
    "for raw in np.argwhere(cors < -0.2):\n",
    "    if raw[0] > raw[1]:\n",
    "        significant_correlate.append((raw, cors[raw[0]][raw[1]]))\n",
    "\n",
    "print(significant_correlate)\n",
    "for raw, pearson in significant_correlate:\n",
    "    print(dataset.index2col[idx[raw[0]]], dataset.index2col[idx[raw[1]]], round(pearson, 3))\n",
    "\n",
    "# 我似乎关联挖掘的方法有错误，这种方法找到的高度相关的两个变量，往往只是含义相近，而不是vacancy\n",
    "# 似乎是负相关？此消彼长？？orzzz 数学直觉一点都不剩了，我做的这些东西除了直觉还剩什么吗？没有力\n",
    "# xs，make sense了，但是meaningless"
   ]
  },
  {
   "cell_type": "code",
   "execution_count": null,
   "metadata": {},
   "outputs": [
    {
     "data": {
      "application/vnd.plotly.v1+json": {
       "config": {
        "plotlyServerURL": "https://plot.ly"
       },
       "data": [
        {
         "marker": {
          "color": [
           0,
           1,
           2,
           3,
           4,
           5,
           6,
           7,
           8,
           9,
           10,
           11,
           12,
           13,
           14,
           15,
           16,
           17,
           18,
           19,
           20,
           21,
           22,
           23,
           24,
           25,
           26,
           27,
           28,
           29,
           30,
           31,
           32,
           33,
           34,
           35,
           36,
           37,
           38,
           39,
           40,
           41,
           42,
           43,
           44,
           45,
           46,
           47,
           48,
           49,
           50,
           51,
           52,
           53,
           54,
           55,
           56,
           57,
           58,
           59,
           60,
           61,
           62,
           63,
           64,
           65,
           66,
           67,
           68,
           69,
           70,
           71,
           72,
           73,
           74,
           75,
           76,
           77,
           78,
           79,
           80,
           81,
           82,
           83,
           84,
           85,
           86,
           87,
           88,
           89,
           90,
           91,
           92,
           93,
           94,
           95,
           96,
           97,
           98,
           99,
           100,
           101,
           102,
           103,
           104,
           105,
           106,
           107,
           108,
           109,
           110,
           111,
           112,
           113,
           114,
           115,
           116,
           117,
           118,
           119,
           120,
           121,
           122,
           123,
           124,
           125,
           126,
           127,
           128,
           129,
           130,
           131,
           132,
           133,
           134,
           135,
           136,
           137,
           138,
           139,
           140,
           141,
           142,
           143,
           144,
           145,
           146,
           147,
           148,
           149,
           150,
           151,
           152,
           153,
           154,
           155,
           156,
           157,
           158,
           159,
           160,
           161,
           162,
           163,
           164,
           165,
           166,
           167,
           168,
           169,
           170,
           171,
           172,
           173,
           174,
           175,
           176,
           177,
           178,
           179,
           180,
           181,
           182,
           183,
           184,
           185,
           186,
           187,
           188,
           189,
           190,
           191,
           192,
           193,
           194,
           195,
           196,
           197,
           198,
           199,
           200,
           201,
           202,
           203,
           204,
           205,
           206,
           207,
           208,
           209,
           210,
           211,
           212,
           213,
           214,
           215,
           216,
           217,
           218,
           219,
           220,
           221,
           222,
           223,
           224,
           225,
           226,
           227,
           228,
           229,
           230,
           231,
           232,
           233,
           234,
           235,
           236,
           237,
           238,
           239,
           240,
           241,
           242,
           243,
           244,
           245,
           246,
           247,
           248,
           249,
           250,
           251,
           252,
           253,
           254,
           255,
           256,
           257,
           258,
           259,
           260,
           261,
           262,
           263,
           264,
           265,
           266,
           267,
           268,
           269,
           270,
           271,
           272,
           273,
           274,
           275,
           276,
           277,
           278,
           279,
           280,
           281,
           282,
           283,
           284,
           285,
           286,
           287,
           288,
           289,
           290,
           291,
           292,
           293,
           294,
           295,
           296,
           297,
           298,
           299,
           300,
           301,
           302,
           303,
           304,
           305,
           306,
           307,
           308,
           309,
           310,
           311,
           312,
           313,
           314,
           315,
           316,
           317,
           318,
           319,
           320,
           321,
           322,
           323,
           324,
           325,
           326,
           327,
           328,
           329,
           330,
           331,
           332,
           333,
           334,
           335,
           336,
           337,
           338,
           339,
           340,
           341,
           342,
           343,
           344,
           345,
           346,
           347,
           348,
           349,
           350,
           351,
           352,
           353
          ],
          "colorscale": [
           [
            0,
            "#440154"
           ],
           [
            0.1111111111111111,
            "#482878"
           ],
           [
            0.2222222222222222,
            "#3e4989"
           ],
           [
            0.3333333333333333,
            "#31688e"
           ],
           [
            0.4444444444444444,
            "#26828e"
           ],
           [
            0.5555555555555556,
            "#1f9e89"
           ],
           [
            0.6666666666666666,
            "#35b779"
           ],
           [
            0.7777777777777778,
            "#6ece58"
           ],
           [
            0.8888888888888888,
            "#b5de2b"
           ],
           [
            1,
            "#fde725"
           ]
          ],
          "opacity": 0.8,
          "size": 4
         },
         "mode": "markers",
         "type": "scatter3d",
         "x": [
          -0.22208271456113518,
          -0.22208271456113518,
          -0.22208271456113518,
          -0.22208271456113518,
          -0.22208271456113518,
          -0.22208271456113518,
          -0.22208271456113518,
          -0.22208271456113518,
          -0.22208271456113518,
          -0.22208271456113518,
          -0.22208271456113518,
          -0.22208271456113518,
          -0.22208271456113518,
          -0.22208271456113518,
          -0.22208271456113518,
          -0.22208271456113518,
          -0.22208271456113518,
          -0.22208271456113518,
          -0.22208271456113518,
          -0.22208271456113518,
          -0.22208271456113518,
          -0.22208271456113518,
          -0.22208271456113518,
          -0.22208271456113518,
          0.9085553843200427,
          -0.22208271456113518,
          -0.22208271456113518,
          -0.22208271456113518,
          -0.22208271456113518,
          -0.22208271456113518,
          -0.22208271456113518,
          -0.22208271456113518,
          1.7565339584809263,
          -0.22208271456113518,
          1.1912149090403372,
          -0.22208271456113518,
          -0.22208271456113518,
          -0.22208271456113518,
          -0.22208271456113518,
          -0.22208271456113518,
          -0.22208271456113518,
          -0.22208271456113518,
          -0.22208271456113518,
          -0.22208271456113518,
          -0.22208271456113518,
          -0.22208271456113518,
          2.887172057362104,
          2.887172057362104,
          -0.22208271456113518,
          -0.22208271456113518,
          -0.22208271456113518,
          -0.22208271456113518,
          -0.22208271456113518,
          -0.22208271456113518,
          -0.22208271456113518,
          1.1912149090403372,
          -0.22208271456113518,
          -0.22208271456113518,
          5.431107779844754,
          -0.22208271456113518,
          -0.22208271456113518,
          -0.22208271456113518,
          -0.22208271456113518,
          -0.22208271456113518,
          -0.22208271456113518,
          -0.22208271456113518,
          -0.22208271456113518,
          -0.22208271456113518,
          -0.22208271456113518,
          2.039193483201221,
          -0.22208271456113518,
          -0.22208271456113518,
          -0.22208271456113518,
          -0.22208271456113518,
          -0.22208271456113518,
          -0.22208271456113518,
          -0.22208271456113518,
          -0.22208271456113518,
          -0.22208271456113518,
          -0.22208271456113518,
          -0.22208271456113518,
          11.084298274250644,
          -0.22208271456113518,
          -0.22208271456113518,
          2.60451253264181,
          2.321853007921515,
          -0.22208271456113518,
          -0.22208271456113518,
          -0.22208271456113518,
          -0.22208271456113518,
          -0.22208271456113518,
          -0.22208271456113518,
          -0.22208271456113518,
          -0.22208271456113518,
          -0.22208271456113518,
          -0.22208271456113518,
          3.7351506315229877,
          -0.22208271456113518,
          -0.22208271456113518,
          -0.22208271456113518,
          -0.22208271456113518,
          -0.22208271456113518,
          -0.22208271456113518,
          -0.22208271456113518,
          -0.22208271456113518,
          -0.22208271456113518,
          -0.22208271456113518,
          -0.22208271456113518,
          -0.22208271456113518,
          -0.22208271456113518,
          -0.22208271456113518,
          -0.22208271456113518,
          -0.22208271456113518,
          -0.22208271456113518,
          -0.22208271456113518,
          -0.22208271456113518,
          -0.22208271456113518,
          -0.22208271456113518,
          -0.22208271456113518,
          -0.22208271456113518,
          -0.22208271456113518,
          -0.22208271456113518,
          -0.22208271456113518,
          -0.22208271456113518,
          -0.22208271456113518,
          -0.22208271456113518,
          -0.22208271456113518,
          -0.22208271456113518,
          -0.22208271456113518,
          -0.22208271456113518,
          -0.22208271456113518,
          -0.22208271456113518,
          -0.22208271456113518,
          -0.22208271456113518,
          -0.22208271456113518,
          -0.22208271456113518,
          -0.22208271456113518,
          -0.22208271456113518,
          -0.22208271456113518,
          -0.22208271456113518,
          -0.22208271456113518,
          -0.22208271456113518,
          -0.22208271456113518,
          -0.22208271456113518,
          2.887172057362104,
          1.4738744337606315,
          -0.22208271456113518,
          -0.22208271456113518,
          -0.22208271456113518,
          -0.22208271456113518,
          -0.22208271456113518,
          -0.22208271456113518,
          -0.22208271456113518,
          2.321853007921515,
          -0.22208271456113518,
          -0.22208271456113518,
          -0.22208271456113518,
          -0.22208271456113518,
          -0.22208271456113518,
          3.1698315820823986,
          -0.22208271456113518,
          -0.22208271456113518,
          -0.22208271456113518,
          -0.22208271456113518,
          -0.22208271456113518,
          -0.22208271456113518,
          -0.22208271456113518,
          -0.22208271456113518,
          -0.22208271456113518,
          -0.22208271456113518,
          1.4738744337606315,
          -0.22208271456113518,
          -0.22208271456113518,
          -0.22208271456113518,
          3.452491106802693,
          -0.22208271456113518,
          -0.22208271456113518,
          -0.22208271456113518,
          -0.22208271456113518,
          -0.22208271456113518,
          1.7565339584809263,
          -0.22208271456113518,
          -0.22208271456113518,
          -0.22208271456113518,
          2.039193483201221,
          -0.22208271456113518,
          1.7565339584809263,
          -0.22208271456113518,
          -0.22208271456113518,
          -0.22208271456113518,
          -0.22208271456113518,
          -0.22208271456113518,
          -0.22208271456113518,
          -0.22208271456113518,
          0.9085553843200427,
          -0.22208271456113518,
          -0.22208271456113518,
          -0.22208271456113518,
          -0.22208271456113518,
          -0.22208271456113518,
          -0.22208271456113518,
          -0.22208271456113518,
          -0.22208271456113518,
          -0.22208271456113518,
          -0.22208271456113518,
          -0.22208271456113518,
          -0.22208271456113518,
          -0.22208271456113518,
          -0.22208271456113518,
          -0.22208271456113518,
          -0.22208271456113518,
          -0.22208271456113518,
          -0.22208271456113518,
          2.60451253264181,
          -0.22208271456113518,
          -0.22208271456113518,
          -0.22208271456113518,
          -0.22208271456113518,
          1.4738744337606315,
          1.1912149090403372,
          -0.22208271456113518,
          -0.22208271456113518,
          -0.22208271456113518,
          -0.22208271456113518,
          -0.22208271456113518,
          -0.22208271456113518,
          -0.22208271456113518,
          -0.22208271456113518,
          -0.22208271456113518,
          -0.22208271456113518,
          -0.22208271456113518,
          -0.22208271456113518,
          -0.22208271456113518,
          -0.22208271456113518,
          -0.22208271456113518,
          -0.22208271456113518,
          -0.22208271456113518,
          -0.22208271456113518,
          1.1912149090403372,
          -0.22208271456113518,
          3.452491106802693,
          -0.22208271456113518,
          -0.22208271456113518,
          -0.22208271456113518,
          -0.22208271456113518,
          -0.22208271456113518,
          -0.22208271456113518,
          4.583129205683871,
          -0.22208271456113518,
          -0.22208271456113518,
          -0.22208271456113518,
          -0.22208271456113518,
          -0.22208271456113518,
          -0.22208271456113518,
          1.7565339584809263,
          -0.22208271456113518,
          -0.22208271456113518,
          -0.22208271456113518,
          -0.22208271456113518,
          -0.22208271456113518,
          -0.22208271456113518,
          -0.22208271456113518,
          1.1912149090403372,
          -0.22208271456113518,
          3.452491106802693,
          -0.22208271456113518,
          -0.22208271456113518,
          -0.22208271456113518,
          -0.22208271456113518,
          -0.22208271456113518,
          -0.22208271456113518,
          -0.22208271456113518,
          -0.22208271456113518,
          -0.22208271456113518,
          -0.22208271456113518,
          2.60451253264181,
          -0.22208271456113518,
          -0.22208271456113518,
          -0.22208271456113518,
          -0.22208271456113518,
          -0.22208271456113518,
          -0.22208271456113518,
          -0.22208271456113518,
          -0.22208271456113518,
          -0.22208271456113518,
          -0.22208271456113518,
          -0.22208271456113518,
          -0.22208271456113518,
          5.431107779844754,
          -0.22208271456113518,
          -0.22208271456113518,
          13.910893521453588,
          -0.22208271456113518,
          -0.22208271456113518,
          -0.22208271456113518,
          -0.22208271456113518,
          2.60451253264181,
          -0.22208271456113518,
          -0.22208271456113518,
          -0.22208271456113518,
          2.60451253264181,
          -0.22208271456113518,
          -0.22208271456113518,
          0.9085553843200427,
          -0.22208271456113518,
          -0.22208271456113518,
          -0.22208271456113518,
          2.321853007921515,
          -0.22208271456113518,
          -0.22208271456113518,
          -0.22208271456113518,
          -0.22208271456113518,
          -0.22208271456113518,
          -0.22208271456113518,
          -0.22208271456113518,
          1.4738744337606315,
          -0.22208271456113518,
          -0.22208271456113518,
          -0.22208271456113518,
          0.6258958595997482,
          -0.22208271456113518,
          -0.22208271456113518,
          4.583129205683871,
          -0.22208271456113518,
          2.039193483201221,
          -0.22208271456113518,
          -0.22208271456113518,
          3.452491106802693,
          -0.22208271456113518,
          2.039193483201221,
          -0.22208271456113518,
          -0.22208271456113518,
          1.4738744337606315,
          -0.22208271456113518,
          -0.22208271456113518,
          -0.22208271456113518,
          -0.22208271456113518,
          -0.22208271456113518,
          -0.22208271456113518,
          -0.22208271456113518,
          -0.22208271456113518,
          -0.22208271456113518,
          -0.22208271456113518,
          -0.22208271456113518,
          -0.22208271456113518,
          -0.22208271456113518,
          -0.22208271456113518,
          -0.22208271456113518,
          -0.22208271456113518,
          -0.22208271456113518,
          -0.22208271456113518,
          4.865788730404165,
          -0.22208271456113518,
          -0.22208271456113518
         ],
         "y": [
          -0.21879562460799132,
          -0.21879562460799132,
          -0.21879562460799132,
          -0.21879562460799132,
          -0.21879562460799132,
          -0.21879562460799132,
          -0.21879562460799132,
          -0.21879562460799132,
          -0.21879562460799132,
          -0.21879562460799132,
          2.743928969007637,
          -0.21879562460799132,
          -0.21879562460799132,
          -0.21879562460799132,
          -0.21879562460799132,
          -0.21879562460799132,
          -0.21879562460799132,
          2.320682598491118,
          -0.21879562460799132,
          -0.21879562460799132,
          -0.21879562460799132,
          -0.21879562460799132,
          -0.21879562460799132,
          -0.21879562460799132,
          1.4741898574580818,
          -0.21879562460799132,
          -0.21879562460799132,
          -0.21879562460799132,
          -0.21879562460799132,
          -0.21879562460799132,
          -0.21879562460799132,
          -0.21879562460799132,
          1.2625666721998228,
          -0.21879562460799132,
          0.8393203016833044,
          3.3787985247824146,
          -0.21879562460799132,
          -0.21879562460799132,
          -0.21879562460799132,
          -0.21879562460799132,
          -0.21879562460799132,
          -0.21879562460799132,
          -0.21879562460799132,
          -0.21879562460799132,
          -0.21879562460799132,
          -0.21879562460799132,
          2.1090594132328593,
          2.1090594132328593,
          -0.21879562460799132,
          -0.21879562460799132,
          -0.21879562460799132,
          -0.21879562460799132,
          -0.21879562460799132,
          -0.21879562460799132,
          -0.21879562460799132,
          0.8393203016833044,
          -0.21879562460799132,
          -0.21879562460799132,
          4.013668080557192,
          -0.21879562460799132,
          -0.21879562460799132,
          -0.21879562460799132,
          -0.21879562460799132,
          -0.21879562460799132,
          -0.21879562460799132,
          -0.21879562460799132,
          -0.21879562460799132,
          -0.21879562460799132,
          -0.21879562460799132,
          1.4741898574580818,
          -0.21879562460799132,
          1.0509434869415635,
          -0.21879562460799132,
          -0.21879562460799132,
          -0.21879562460799132,
          -0.21879562460799132,
          -0.21879562460799132,
          -0.21879562460799132,
          -0.21879562460799132,
          -0.21879562460799132,
          -0.21879562460799132,
          16.71105919605274,
          -0.21879562460799132,
          -0.21879562460799132,
          1.8974362279746002,
          1.685813042716341,
          -0.21879562460799132,
          -0.21879562460799132,
          -0.21879562460799132,
          -0.21879562460799132,
          -0.21879562460799132,
          -0.21879562460799132,
          -0.21879562460799132,
          -0.21879562460799132,
          -0.21879562460799132,
          -0.21879562460799132,
          4.225291265815451,
          -0.21879562460799132,
          -0.21879562460799132,
          -0.21879562460799132,
          -0.21879562460799132,
          -0.21879562460799132,
          -0.21879562460799132,
          -0.21879562460799132,
          -0.21879562460799132,
          -0.21879562460799132,
          -0.21879562460799132,
          -0.21879562460799132,
          -0.21879562460799132,
          -0.21879562460799132,
          -0.21879562460799132,
          -0.21879562460799132,
          -0.21879562460799132,
          -0.21879562460799132,
          -0.21879562460799132,
          -0.21879562460799132,
          -0.21879562460799132,
          -0.21879562460799132,
          0.8393203016833044,
          -0.21879562460799132,
          -0.21879562460799132,
          -0.21879562460799132,
          -0.21879562460799132,
          -0.21879562460799132,
          -0.21879562460799132,
          -0.21879562460799132,
          -0.21879562460799132,
          -0.21879562460799132,
          -0.21879562460799132,
          -0.21879562460799132,
          -0.21879562460799132,
          -0.21879562460799132,
          -0.21879562460799132,
          -0.21879562460799132,
          -0.21879562460799132,
          -0.21879562460799132,
          -0.21879562460799132,
          -0.21879562460799132,
          -0.21879562460799132,
          -0.21879562460799132,
          -0.21879562460799132,
          -0.21879562460799132,
          -0.21879562460799132,
          -0.21879562460799132,
          2.1090594132328593,
          2.5323057837493774,
          -0.21879562460799132,
          -0.21879562460799132,
          -0.21879562460799132,
          -0.21879562460799132,
          -0.21879562460799132,
          -0.21879562460799132,
          -0.21879562460799132,
          1.685813042716341,
          -0.21879562460799132,
          -0.21879562460799132,
          -0.21879562460799132,
          -0.21879562460799132,
          -0.21879562460799132,
          2.320682598491118,
          -0.21879562460799132,
          -0.21879562460799132,
          -0.21879562460799132,
          -0.21879562460799132,
          -0.21879562460799132,
          -0.21879562460799132,
          -0.21879562460799132,
          20.94352290121792,
          -0.21879562460799132,
          -0.21879562460799132,
          2.320682598491118,
          -0.21879562460799132,
          -0.21879562460799132,
          -0.21879562460799132,
          2.5323057837493774,
          -0.21879562460799132,
          -0.21879562460799132,
          -0.21879562460799132,
          -0.21879562460799132,
          -0.21879562460799132,
          1.2625666721998228,
          -0.21879562460799132,
          -0.21879562460799132,
          -0.21879562460799132,
          1.4741898574580818,
          -0.21879562460799132,
          1.2625666721998228,
          -0.21879562460799132,
          -0.21879562460799132,
          -0.21879562460799132,
          -0.21879562460799132,
          -0.21879562460799132,
          -0.21879562460799132,
          -0.21879562460799132,
          0.6276971164250452,
          -0.21879562460799132,
          -0.21879562460799132,
          -0.21879562460799132,
          -0.21879562460799132,
          -0.21879562460799132,
          -0.21879562460799132,
          -0.21879562460799132,
          -0.21879562460799132,
          0.8393203016833044,
          -0.21879562460799132,
          -0.21879562460799132,
          -0.21879562460799132,
          -0.21879562460799132,
          -0.21879562460799132,
          -0.21879562460799132,
          -0.21879562460799132,
          -0.21879562460799132,
          -0.21879562460799132,
          1.8974362279746002,
          -0.21879562460799132,
          -0.21879562460799132,
          -0.21879562460799132,
          -0.21879562460799132,
          1.0509434869415635,
          0.8393203016833044,
          -0.21879562460799132,
          -0.21879562460799132,
          -0.21879562460799132,
          -0.21879562460799132,
          -0.21879562460799132,
          -0.21879562460799132,
          -0.21879562460799132,
          -0.21879562460799132,
          -0.21879562460799132,
          -0.21879562460799132,
          -0.21879562460799132,
          -0.21879562460799132,
          -0.21879562460799132,
          1.685813042716341,
          -0.21879562460799132,
          -0.21879562460799132,
          -0.21879562460799132,
          -0.21879562460799132,
          0.8393203016833044,
          -0.21879562460799132,
          2.5323057837493774,
          -0.21879562460799132,
          -0.21879562460799132,
          -0.21879562460799132,
          -0.21879562460799132,
          -0.21879562460799132,
          -0.21879562460799132,
          4.013668080557192,
          -0.21879562460799132,
          -0.21879562460799132,
          -0.21879562460799132,
          -0.21879562460799132,
          -0.21879562460799132,
          -0.21879562460799132,
          2.955552154265896,
          -0.21879562460799132,
          -0.21879562460799132,
          -0.21879562460799132,
          -0.21879562460799132,
          -0.21879562460799132,
          -0.21879562460799132,
          -0.21879562460799132,
          0.8393203016833044,
          -0.21879562460799132,
          2.5323057837493774,
          -0.21879562460799132,
          -0.21879562460799132,
          -0.21879562460799132,
          -0.21879562460799132,
          -0.21879562460799132,
          -0.21879562460799132,
          -0.21879562460799132,
          -0.21879562460799132,
          -0.21879562460799132,
          -0.21879562460799132,
          2.955552154265896,
          -0.21879562460799132,
          -0.21879562460799132,
          -0.21879562460799132,
          -0.21879562460799132,
          -0.21879562460799132,
          -0.21879562460799132,
          -0.21879562460799132,
          -0.21879562460799132,
          -0.21879562460799132,
          -0.21879562460799132,
          -0.21879562460799132,
          -0.21879562460799132,
          4.013668080557192,
          -0.21879562460799132,
          -0.21879562460799132,
          10.362363638304966,
          -0.21879562460799132,
          -0.21879562460799132,
          -0.21879562460799132,
          -0.21879562460799132,
          2.955552154265896,
          -0.21879562460799132,
          -0.21879562460799132,
          -0.21879562460799132,
          1.8974362279746002,
          -0.21879562460799132,
          -0.21879562460799132,
          2.5323057837493774,
          -0.21879562460799132,
          -0.21879562460799132,
          -0.21879562460799132,
          1.685813042716341,
          -0.21879562460799132,
          -0.21879562460799132,
          -0.21879562460799132,
          -0.21879562460799132,
          -0.21879562460799132,
          -0.21879562460799132,
          -0.21879562460799132,
          1.0509434869415635,
          0.6276971164250452,
          -0.21879562460799132,
          -0.21879562460799132,
          0.41607393116678604,
          0.8393203016833044,
          -0.21879562460799132,
          3.3787985247824146,
          -0.21879562460799132,
          1.4741898574580818,
          -0.21879562460799132,
          -0.21879562460799132,
          2.5323057837493774,
          -0.21879562460799132,
          2.5323057837493774,
          -0.21879562460799132,
          -0.21879562460799132,
          1.0509434869415635,
          -0.21879562460799132,
          -0.21879562460799132,
          -0.21879562460799132,
          -0.21879562460799132,
          -0.21879562460799132,
          -0.21879562460799132,
          -0.21879562460799132,
          -0.21879562460799132,
          -0.21879562460799132,
          -0.21879562460799132,
          -0.21879562460799132,
          -0.21879562460799132,
          -0.21879562460799132,
          -0.21879562460799132,
          -0.21879562460799132,
          -0.21879562460799132,
          -0.21879562460799132,
          -0.21879562460799132,
          7.188015859431078,
          -0.21879562460799132,
          -0.21879562460799132
         ],
         "z": [
          -0.34672454415451354,
          0.584164987329264,
          -1.0933424277677823,
          -0.524641997270867,
          0.07582940699682583,
          -0.5341732894021002,
          0.13937135453838068,
          0.39671624208167744,
          -0.8105807612078635,
          -0.4642771471063898,
          -0.5182878025167115,
          -0.73115332678092,
          -0.7724555926829306,
          0.13937135453838068,
          -0.11161933825076076,
          -1.169592764817648,
          -1.169592764817648,
          -0.6199549185831991,
          0.009110362078193315,
          0.03135004371773744,
          -0.8296433454703299,
          -0.5913610421894994,
          -0.13703611726738268,
          -0.6104236264519659,
          -0.7661013979287751,
          -0.19104677267770423,
          -1.169592764817648,
          -0.11161933825076076,
          0.06629811486559267,
          0.1266629650300697,
          -0.7216220346496869,
          -0.5945381395665772,
          -0.1020880461195276,
          -0.559590068418722,
          -0.44839166022100113,
          -0.3689642257940577,
          -0.13703611726738268,
          -0.22281774644848165,
          -0.6485487949768987,
          -0.057608682840439206,
          -1.169592764817648,
          -0.2418803307109481,
          0.16161103617792494,
          -0.5532358736645666,
          0.4189559237212217,
          -1.169592764817648,
          -0.07984836447998332,
          -0.5341732894021002,
          0.07265230961974817,
          -0.5341732894021002,
          0.24103847060486844,
          0.21562169158824648,
          -0.44839166022100113,
          -0.4896939261230117,
          -0.5913610421894994,
          -0.22599484382555934,
          -0.3753184205482131,
          0.9495311856932042,
          -0.22917194120263715,
          -1.169592764817648,
          -1.169592764817648,
          -0.5913610421894994,
          0.05358972535728171,
          -1.169592764817648,
          -0.4706313418605453,
          -0.20693225956309302,
          1.2132302679906566,
          -0.4166206864502237,
          -0.23552613595679264,
          -0.3085993756295806,
          -0.11161933825076076,
          -0.22599484382555934,
          -0.8137578585849412,
          -0.6930281582559871,
          -0.2609429149734146,
          0.4189559237212217,
          -0.4611000497293121,
          -1.169592764817648,
          0.05358972535728171,
          -0.8328204428474076,
          0.1774965230633136,
          -0.40708939431899055,
          -0.7470388136663086,
          -0.02266061169258411,
          -0.6421946002227433,
          -0.8296433454703299,
          -0.29906808349834735,
          -0.8614143192411072,
          -0.5659442631728776,
          -0.6739655739935206,
          0.9495311856932042,
          0.14572554929253603,
          -1.169592764817648,
          0.24103847060486844,
          0.26010105486733476,
          0.32046590503181194,
          -0.9471959484222063,
          0.35541397617966686,
          0.10124618601344777,
          -0.14021321464446035,
          -0.23552613595679264,
          -0.3244848625149693,
          -0.6803197687476761,
          -0.07984836447998332,
          0.4189559237212217,
          -0.9122478772743511,
          -1.169592764817648,
          -0.8709456113723405,
          -0.28000549923588103,
          1.0162502306118366,
          -0.06078578021751688,
          -0.3181306677608138,
          0.755728245691462,
          0.4189559237212217,
          -0.8074036638307857,
          -0.6231320159602769,
          2.0075046122600915,
          -0.02266061169258411,
          -0.3435474467774357,
          -0.1751612857923156,
          -0.02583770906966178,
          -1.169592764817648,
          -0.73115332678092,
          0.021818751586504283,
          -0.8804769035035737,
          0.30775751552350095,
          0.13937135453838068,
          -0.11161933825076076,
          0.19338200994870222,
          -0.1719841884152378,
          -0.3149535703837361,
          -0.07349416972582784,
          -0.6517258923539765,
          0.05358972535728171,
          -0.9821440195700615,
          0.3649452683109002,
          -0.7375075215350755,
          -1.169592764817648,
          -1.169592764817648,
          -1.169592764817648,
          -0.9567272405534395,
          -0.5691213605499553,
          0.6349985453625079,
          -0.6771426713705984,
          -0.7470388136663086,
          -0.6803197687476761,
          -0.6962052556330649,
          -0.20057806480893753,
          -0.3753184205482131,
          0.6445298374937413,
          -0.5627671657957998,
          0.19338200994870222,
          -0.3943810048106796,
          -0.14021321464446035,
          -0.11161933825076076,
          0.10124618601344777,
          -0.4293290759585347,
          -0.8804769035035737,
          -0.2831825966129587,
          -0.5182878025167115,
          -0.2704742071046477,
          -0.4356832707126902,
          1.3085431893029886,
          -0.09891094874244978,
          -0.8296433454703299,
          -0.5659442631728776,
          -0.6517258923539765,
          0.4189559237212217,
          1.4769293502881091,
          -0.7946952743224747,
          -0.6930281582559871,
          -0.2387032333338703,
          -0.8105807612078635,
          -1.169592764817648,
          -0.6549029897310542,
          -0.3435474467774357,
          0.9495311856932042,
          -0.057608682840439206,
          -0.057608682840439206,
          -0.2895367913671142,
          -0.9313104615368175,
          -0.8137578585849412,
          -0.4007351995648351,
          0.04723553060312622,
          -0.09891094874244978,
          -1.169592764817648,
          -0.8550601244869519,
          0.4189559237212217,
          -0.7152678398955312,
          -0.4896939261230117,
          -0.6898510608789092,
          0.6445298374937413,
          -0.6930281582559871,
          -0.8328204428474076,
          -0.9980295064554501,
          -0.2768284018588032,
          -0.7565701057975418,
          -0.6294862107144323,
          -0.21964064907140385,
          -1.169592764817648,
          -0.5500587762874889,
          -0.4738084392376231,
          -0.4229748812043792,
          -0.5500587762874889,
          1.2132302679906566,
          0.24739266535902377,
          -0.8201120533390966,
          0.4189559237212217,
          -0.7089136451413759,
          2.0075046122600915,
          -1.169592764817648,
          -0.41979778382730154,
          -1.169592764817648,
          -0.9122478772743511,
          -0.03854609857797275,
          -0.6263091133373546,
          0.05358972535728171,
          -0.7851639821912415,
          -0.45156875759807896,
          -0.49922521825424504,
          -0.4579229523522343,
          -0.658080087108132,
          -0.6072465290748882,
          -0.5087565103854782,
          -0.7597472031746196,
          -0.6231320159602769,
          0.7366656614289957,
          0.17431942568623593,
          -0.5754755553041107,
          -0.4166206864502237,
          -1.169592764817648,
          -1.169592764817648,
          0.13937135453838068,
          -0.016306416938428624,
          -0.9757898248159059,
          -0.2958909861212697,
          -1.169592764817648,
          -0.3213077651378916,
          -0.5373503867791779,
          -0.9440188510451285,
          -0.3753184205482131,
          0.4189559237212217,
          -0.28000549923588103,
          1.0988547624158578,
          0.0059332647011156436,
          -0.7788097874370861,
          -0.4356832707126902,
          -0.8296433454703299,
          -0.9821440195700615,
          -0.6263091133373546,
          -0.44839166022100113,
          -0.4420374654668457,
          1.3720851368445437,
          0.19338200994870222,
          -0.7025594503872202,
          -0.6040694316978104,
          0.6635924217562075,
          0.9495311856932042,
          0.48249787126277655,
          -0.14339031202153818,
          -0.41344358907314605,
          -1.169592764817648,
          -0.37214132317113546,
          0.34905978142551153,
          -0.7057365477642981,
          0.2982262233922677,
          -0.2609429149734146,
          -0.11161933825076076,
          -0.5405274841562556,
          2.0075046122600915,
          -0.28000549923588103,
          -0.17833838316939327,
          -0.7375075215350755,
          -0.816934955962019,
          0.25056976273610143,
          -0.43250617333561253,
          0.4189559237212217,
          -0.1751612857923156,
          -0.3753184205482131,
          -0.3022451808754251,
          -0.25141162284218127,
          2.0075046122600915,
          -0.14339031202153818,
          -0.3912039074336018,
          -0.13385901989030502,
          -0.3753184205482131,
          -0.28000549923588103,
          -0.1751612857923156,
          -0.2609429149734146,
          -1.169592764817648,
          0.04405843322604841,
          -0.21646355169432618,
          -0.2609429149734146,
          -1.169592764817648,
          -0.6771426713705984,
          0.24103847060486844,
          -0.292713888744192,
          -0.42615197858145704,
          2.0075046122600915,
          0.3458826840484336,
          -0.5405274841562556,
          -0.25776581759633677,
          -0.08302546185706114,
          -0.42615197858145704,
          0.3585910735567445,
          -0.49287102350008954,
          -0.035369001200895075,
          -0.3753184205482131,
          0.4189559237212217,
          -0.3753184205482131,
          0.4189559237212217,
          -0.3880268100565241,
          0.08536069912805913,
          -0.30542227825250284,
          1.6103674401253742,
          -0.6421946002227433,
          -0.48016263399177855,
          0.3427055866713559,
          -0.7756326900600085,
          -0.8741227087494182,
          -0.6008923343207326,
          -0.816934955962019,
          -0.4039122969419128,
          -0.5341732894021002,
          -0.45156875759807896,
          -0.2863596939900365,
          -0.9058936825201956,
          -0.3149535703837361,
          -0.34037034940035804,
          -0.6803197687476761,
          -0.11161933825076076,
          -0.5850068474353439,
          -0.5913610421894994,
          -0.6517258923539765,
          -0.5055794130084005,
          -0.3753184205482131,
          -0.11161933825076076,
          -0.3594329336628245,
          -0.22281774644848165,
          -0.11161933825076076,
          0.3141117102776563,
          -0.816934955962019,
          -0.816934955962019,
          -0.22917194120263715,
          2.0075046122600915,
          -0.7629243005516975,
          -0.3149535703837361,
          2.0075046122600915,
          -0.3340161546462026,
          -1.169592764817648,
          -0.3213077651378916,
          -0.2768284018588032,
          0.4189559237212217,
          -0.5627671657957998
         ]
        }
       ],
       "layout": {
        "scene": {
         "xaxis": {
          "exponentformat": "e",
          "showexponent": "all",
          "title": {
           "text": "0th"
          },
          "type": "linear"
         },
         "yaxis": {
          "exponentformat": "e",
          "showexponent": "all",
          "title": {
           "text": "1st"
          },
          "type": "linear"
         },
         "zaxis": {
          "exponentformat": "e",
          "showexponent": "all",
          "title": {
           "text": "2nd"
          },
          "type": "linear"
         }
        },
        "template": {
         "data": {
          "bar": [
           {
            "error_x": {
             "color": "#2a3f5f"
            },
            "error_y": {
             "color": "#2a3f5f"
            },
            "marker": {
             "line": {
              "color": "#E5ECF6",
              "width": 0.5
             },
             "pattern": {
              "fillmode": "overlay",
              "size": 10,
              "solidity": 0.2
             }
            },
            "type": "bar"
           }
          ],
          "barpolar": [
           {
            "marker": {
             "line": {
              "color": "#E5ECF6",
              "width": 0.5
             },
             "pattern": {
              "fillmode": "overlay",
              "size": 10,
              "solidity": 0.2
             }
            },
            "type": "barpolar"
           }
          ],
          "carpet": [
           {
            "aaxis": {
             "endlinecolor": "#2a3f5f",
             "gridcolor": "white",
             "linecolor": "white",
             "minorgridcolor": "white",
             "startlinecolor": "#2a3f5f"
            },
            "baxis": {
             "endlinecolor": "#2a3f5f",
             "gridcolor": "white",
             "linecolor": "white",
             "minorgridcolor": "white",
             "startlinecolor": "#2a3f5f"
            },
            "type": "carpet"
           }
          ],
          "choropleth": [
           {
            "colorbar": {
             "outlinewidth": 0,
             "ticks": ""
            },
            "type": "choropleth"
           }
          ],
          "contour": [
           {
            "colorbar": {
             "outlinewidth": 0,
             "ticks": ""
            },
            "colorscale": [
             [
              0,
              "#0d0887"
             ],
             [
              0.1111111111111111,
              "#46039f"
             ],
             [
              0.2222222222222222,
              "#7201a8"
             ],
             [
              0.3333333333333333,
              "#9c179e"
             ],
             [
              0.4444444444444444,
              "#bd3786"
             ],
             [
              0.5555555555555556,
              "#d8576b"
             ],
             [
              0.6666666666666666,
              "#ed7953"
             ],
             [
              0.7777777777777778,
              "#fb9f3a"
             ],
             [
              0.8888888888888888,
              "#fdca26"
             ],
             [
              1,
              "#f0f921"
             ]
            ],
            "type": "contour"
           }
          ],
          "contourcarpet": [
           {
            "colorbar": {
             "outlinewidth": 0,
             "ticks": ""
            },
            "type": "contourcarpet"
           }
          ],
          "heatmap": [
           {
            "colorbar": {
             "outlinewidth": 0,
             "ticks": ""
            },
            "colorscale": [
             [
              0,
              "#0d0887"
             ],
             [
              0.1111111111111111,
              "#46039f"
             ],
             [
              0.2222222222222222,
              "#7201a8"
             ],
             [
              0.3333333333333333,
              "#9c179e"
             ],
             [
              0.4444444444444444,
              "#bd3786"
             ],
             [
              0.5555555555555556,
              "#d8576b"
             ],
             [
              0.6666666666666666,
              "#ed7953"
             ],
             [
              0.7777777777777778,
              "#fb9f3a"
             ],
             [
              0.8888888888888888,
              "#fdca26"
             ],
             [
              1,
              "#f0f921"
             ]
            ],
            "type": "heatmap"
           }
          ],
          "heatmapgl": [
           {
            "colorbar": {
             "outlinewidth": 0,
             "ticks": ""
            },
            "colorscale": [
             [
              0,
              "#0d0887"
             ],
             [
              0.1111111111111111,
              "#46039f"
             ],
             [
              0.2222222222222222,
              "#7201a8"
             ],
             [
              0.3333333333333333,
              "#9c179e"
             ],
             [
              0.4444444444444444,
              "#bd3786"
             ],
             [
              0.5555555555555556,
              "#d8576b"
             ],
             [
              0.6666666666666666,
              "#ed7953"
             ],
             [
              0.7777777777777778,
              "#fb9f3a"
             ],
             [
              0.8888888888888888,
              "#fdca26"
             ],
             [
              1,
              "#f0f921"
             ]
            ],
            "type": "heatmapgl"
           }
          ],
          "histogram": [
           {
            "marker": {
             "pattern": {
              "fillmode": "overlay",
              "size": 10,
              "solidity": 0.2
             }
            },
            "type": "histogram"
           }
          ],
          "histogram2d": [
           {
            "colorbar": {
             "outlinewidth": 0,
             "ticks": ""
            },
            "colorscale": [
             [
              0,
              "#0d0887"
             ],
             [
              0.1111111111111111,
              "#46039f"
             ],
             [
              0.2222222222222222,
              "#7201a8"
             ],
             [
              0.3333333333333333,
              "#9c179e"
             ],
             [
              0.4444444444444444,
              "#bd3786"
             ],
             [
              0.5555555555555556,
              "#d8576b"
             ],
             [
              0.6666666666666666,
              "#ed7953"
             ],
             [
              0.7777777777777778,
              "#fb9f3a"
             ],
             [
              0.8888888888888888,
              "#fdca26"
             ],
             [
              1,
              "#f0f921"
             ]
            ],
            "type": "histogram2d"
           }
          ],
          "histogram2dcontour": [
           {
            "colorbar": {
             "outlinewidth": 0,
             "ticks": ""
            },
            "colorscale": [
             [
              0,
              "#0d0887"
             ],
             [
              0.1111111111111111,
              "#46039f"
             ],
             [
              0.2222222222222222,
              "#7201a8"
             ],
             [
              0.3333333333333333,
              "#9c179e"
             ],
             [
              0.4444444444444444,
              "#bd3786"
             ],
             [
              0.5555555555555556,
              "#d8576b"
             ],
             [
              0.6666666666666666,
              "#ed7953"
             ],
             [
              0.7777777777777778,
              "#fb9f3a"
             ],
             [
              0.8888888888888888,
              "#fdca26"
             ],
             [
              1,
              "#f0f921"
             ]
            ],
            "type": "histogram2dcontour"
           }
          ],
          "mesh3d": [
           {
            "colorbar": {
             "outlinewidth": 0,
             "ticks": ""
            },
            "type": "mesh3d"
           }
          ],
          "parcoords": [
           {
            "line": {
             "colorbar": {
              "outlinewidth": 0,
              "ticks": ""
             }
            },
            "type": "parcoords"
           }
          ],
          "pie": [
           {
            "automargin": true,
            "type": "pie"
           }
          ],
          "scatter": [
           {
            "fillpattern": {
             "fillmode": "overlay",
             "size": 10,
             "solidity": 0.2
            },
            "type": "scatter"
           }
          ],
          "scatter3d": [
           {
            "line": {
             "colorbar": {
              "outlinewidth": 0,
              "ticks": ""
             }
            },
            "marker": {
             "colorbar": {
              "outlinewidth": 0,
              "ticks": ""
             }
            },
            "type": "scatter3d"
           }
          ],
          "scattercarpet": [
           {
            "marker": {
             "colorbar": {
              "outlinewidth": 0,
              "ticks": ""
             }
            },
            "type": "scattercarpet"
           }
          ],
          "scattergeo": [
           {
            "marker": {
             "colorbar": {
              "outlinewidth": 0,
              "ticks": ""
             }
            },
            "type": "scattergeo"
           }
          ],
          "scattergl": [
           {
            "marker": {
             "colorbar": {
              "outlinewidth": 0,
              "ticks": ""
             }
            },
            "type": "scattergl"
           }
          ],
          "scattermapbox": [
           {
            "marker": {
             "colorbar": {
              "outlinewidth": 0,
              "ticks": ""
             }
            },
            "type": "scattermapbox"
           }
          ],
          "scatterpolar": [
           {
            "marker": {
             "colorbar": {
              "outlinewidth": 0,
              "ticks": ""
             }
            },
            "type": "scatterpolar"
           }
          ],
          "scatterpolargl": [
           {
            "marker": {
             "colorbar": {
              "outlinewidth": 0,
              "ticks": ""
             }
            },
            "type": "scatterpolargl"
           }
          ],
          "scatterternary": [
           {
            "marker": {
             "colorbar": {
              "outlinewidth": 0,
              "ticks": ""
             }
            },
            "type": "scatterternary"
           }
          ],
          "surface": [
           {
            "colorbar": {
             "outlinewidth": 0,
             "ticks": ""
            },
            "colorscale": [
             [
              0,
              "#0d0887"
             ],
             [
              0.1111111111111111,
              "#46039f"
             ],
             [
              0.2222222222222222,
              "#7201a8"
             ],
             [
              0.3333333333333333,
              "#9c179e"
             ],
             [
              0.4444444444444444,
              "#bd3786"
             ],
             [
              0.5555555555555556,
              "#d8576b"
             ],
             [
              0.6666666666666666,
              "#ed7953"
             ],
             [
              0.7777777777777778,
              "#fb9f3a"
             ],
             [
              0.8888888888888888,
              "#fdca26"
             ],
             [
              1,
              "#f0f921"
             ]
            ],
            "type": "surface"
           }
          ],
          "table": [
           {
            "cells": {
             "fill": {
              "color": "#EBF0F8"
             },
             "line": {
              "color": "white"
             }
            },
            "header": {
             "fill": {
              "color": "#C8D4E3"
             },
             "line": {
              "color": "white"
             }
            },
            "type": "table"
           }
          ]
         },
         "layout": {
          "annotationdefaults": {
           "arrowcolor": "#2a3f5f",
           "arrowhead": 0,
           "arrowwidth": 1
          },
          "autotypenumbers": "strict",
          "coloraxis": {
           "colorbar": {
            "outlinewidth": 0,
            "ticks": ""
           }
          },
          "colorscale": {
           "diverging": [
            [
             0,
             "#8e0152"
            ],
            [
             0.1,
             "#c51b7d"
            ],
            [
             0.2,
             "#de77ae"
            ],
            [
             0.3,
             "#f1b6da"
            ],
            [
             0.4,
             "#fde0ef"
            ],
            [
             0.5,
             "#f7f7f7"
            ],
            [
             0.6,
             "#e6f5d0"
            ],
            [
             0.7,
             "#b8e186"
            ],
            [
             0.8,
             "#7fbc41"
            ],
            [
             0.9,
             "#4d9221"
            ],
            [
             1,
             "#276419"
            ]
           ],
           "sequential": [
            [
             0,
             "#0d0887"
            ],
            [
             0.1111111111111111,
             "#46039f"
            ],
            [
             0.2222222222222222,
             "#7201a8"
            ],
            [
             0.3333333333333333,
             "#9c179e"
            ],
            [
             0.4444444444444444,
             "#bd3786"
            ],
            [
             0.5555555555555556,
             "#d8576b"
            ],
            [
             0.6666666666666666,
             "#ed7953"
            ],
            [
             0.7777777777777778,
             "#fb9f3a"
            ],
            [
             0.8888888888888888,
             "#fdca26"
            ],
            [
             1,
             "#f0f921"
            ]
           ],
           "sequentialminus": [
            [
             0,
             "#0d0887"
            ],
            [
             0.1111111111111111,
             "#46039f"
            ],
            [
             0.2222222222222222,
             "#7201a8"
            ],
            [
             0.3333333333333333,
             "#9c179e"
            ],
            [
             0.4444444444444444,
             "#bd3786"
            ],
            [
             0.5555555555555556,
             "#d8576b"
            ],
            [
             0.6666666666666666,
             "#ed7953"
            ],
            [
             0.7777777777777778,
             "#fb9f3a"
            ],
            [
             0.8888888888888888,
             "#fdca26"
            ],
            [
             1,
             "#f0f921"
            ]
           ]
          },
          "colorway": [
           "#636efa",
           "#EF553B",
           "#00cc96",
           "#ab63fa",
           "#FFA15A",
           "#19d3f3",
           "#FF6692",
           "#B6E880",
           "#FF97FF",
           "#FECB52"
          ],
          "font": {
           "color": "#2a3f5f"
          },
          "geo": {
           "bgcolor": "white",
           "lakecolor": "white",
           "landcolor": "#E5ECF6",
           "showlakes": true,
           "showland": true,
           "subunitcolor": "white"
          },
          "hoverlabel": {
           "align": "left"
          },
          "hovermode": "closest",
          "mapbox": {
           "style": "light"
          },
          "paper_bgcolor": "white",
          "plot_bgcolor": "#E5ECF6",
          "polar": {
           "angularaxis": {
            "gridcolor": "white",
            "linecolor": "white",
            "ticks": ""
           },
           "bgcolor": "#E5ECF6",
           "radialaxis": {
            "gridcolor": "white",
            "linecolor": "white",
            "ticks": ""
           }
          },
          "scene": {
           "xaxis": {
            "backgroundcolor": "#E5ECF6",
            "gridcolor": "white",
            "gridwidth": 2,
            "linecolor": "white",
            "showbackground": true,
            "ticks": "",
            "zerolinecolor": "white"
           },
           "yaxis": {
            "backgroundcolor": "#E5ECF6",
            "gridcolor": "white",
            "gridwidth": 2,
            "linecolor": "white",
            "showbackground": true,
            "ticks": "",
            "zerolinecolor": "white"
           },
           "zaxis": {
            "backgroundcolor": "#E5ECF6",
            "gridcolor": "white",
            "gridwidth": 2,
            "linecolor": "white",
            "showbackground": true,
            "ticks": "",
            "zerolinecolor": "white"
           }
          },
          "shapedefaults": {
           "line": {
            "color": "#2a3f5f"
           }
          },
          "ternary": {
           "aaxis": {
            "gridcolor": "white",
            "linecolor": "white",
            "ticks": ""
           },
           "baxis": {
            "gridcolor": "white",
            "linecolor": "white",
            "ticks": ""
           },
           "bgcolor": "#E5ECF6",
           "caxis": {
            "gridcolor": "white",
            "linecolor": "white",
            "ticks": ""
           }
          },
          "title": {
           "x": 0.05
          },
          "xaxis": {
           "automargin": true,
           "gridcolor": "white",
           "linecolor": "white",
           "ticks": "",
           "title": {
            "standoff": 15
           },
           "zerolinecolor": "white",
           "zerolinewidth": 2
          },
          "yaxis": {
           "automargin": true,
           "gridcolor": "white",
           "linecolor": "white",
           "ticks": "",
           "title": {
            "standoff": 15
           },
           "zerolinecolor": "white",
           "zerolinewidth": 2
          }
         }
        }
       }
      }
     },
     "metadata": {},
     "output_type": "display_data"
    }
   ],
   "source": [
    "# 在这个局部的投影下，没看到明显的空洞结构orzzz\n",
    "# 换一下umap？\n",
    "\n",
    "from sklearn.decomposition import PCA\n",
    "from gtda.plotting import plot_point_cloud\n",
    "#pca = PCA(n_components=3)\n",
    "#values = pca.fit_transform(values)\n",
    "origin_values = dataset.X_features_numeric[member_l, :][:, np.array([12,  13, 111])]\n",
    "plot_point_cloud(origin_values)\n"
   ]
  },
  {
   "cell_type": "code",
   "execution_count": null,
   "metadata": {},
   "outputs": [
    {
     "data": {
      "text/plain": [
       "(354, 3)"
      ]
     },
     "execution_count": 9,
     "metadata": {},
     "output_type": "execute_result"
    }
   ],
   "source": [
    "origin_values.shape"
   ]
  },
  {
   "cell_type": "code",
   "execution_count": null,
   "metadata": {},
   "outputs": [
    {
     "ename": "ValueError",
     "evalue": "too many values to unpack (expected 2)",
     "output_type": "error",
     "traceback": [
      "\u001b[1;31m---------------------------------------------------------------------------\u001b[0m",
      "\u001b[1;31mValueError\u001b[0m                                Traceback (most recent call last)",
      "\u001b[1;32m~\\AppData\\Local\\Temp\\ipykernel_24404\\1277784179.py\u001b[0m in \u001b[0;36m<module>\u001b[1;34m\u001b[0m\n\u001b[1;32m----> 1\u001b[1;33m \u001b[0ma\u001b[0m\u001b[1;33m,\u001b[0m \u001b[0mdf\u001b[0m \u001b[1;33m=\u001b[0m \u001b[0mdataset\u001b[0m\u001b[1;33m.\u001b[0m\u001b[0mget_members\u001b[0m\u001b[1;33m(\u001b[0m\u001b[0mres\u001b[0m\u001b[1;33m)\u001b[0m\u001b[1;33m\u001b[0m\u001b[1;33m\u001b[0m\u001b[0m\n\u001b[0m\u001b[0;32m      2\u001b[0m \u001b[1;31m# 先求出点云的最中心位置\u001b[0m\u001b[1;33m\u001b[0m\u001b[1;33m\u001b[0m\u001b[0m\n\u001b[0;32m      3\u001b[0m \u001b[1;31m# 后面一步，我的想法是，不是求最小化cos值的，而是计算让cos值小于一定范围的\u001b[0m\u001b[1;33m\u001b[0m\u001b[1;33m\u001b[0m\u001b[0m\n\u001b[0;32m      4\u001b[0m \u001b[1;33m(\u001b[0m\u001b[0mdf\u001b[0m\u001b[1;33m.\u001b[0m\u001b[0mvalues\u001b[0m \u001b[1;33m-\u001b[0m \u001b[0mdf\u001b[0m\u001b[1;33m.\u001b[0m\u001b[0mvalues\u001b[0m\u001b[1;33m.\u001b[0m\u001b[0mmean\u001b[0m\u001b[1;33m(\u001b[0m\u001b[0maxis\u001b[0m\u001b[1;33m=\u001b[0m\u001b[1;36m0\u001b[0m\u001b[1;33m)\u001b[0m\u001b[1;33m)\u001b[0m\u001b[1;33m.\u001b[0m\u001b[0mshape\u001b[0m\u001b[1;33m\u001b[0m\u001b[1;33m\u001b[0m\u001b[0m\n",
      "\u001b[1;31mValueError\u001b[0m: too many values to unpack (expected 2)"
     ]
    }
   ],
   "source": [
    "a, df = dataset.get_members(res)\n",
    "# 先求出点云的最中心位置\n",
    "# 后面一步，我的想法是，不是求最小化cos值的，而是计算让cos值小于一定范围的\n",
    "(df.values - df.values.mean(axis=0)).shape\n"
   ]
  },
  {
   "cell_type": "code",
   "execution_count": null,
   "metadata": {},
   "outputs": [],
   "source": [
    "cen = np.array([v for k, v in dataset.closeCenResult.items()])\n",
    "print(cen.mean())\n",
    "print(cen.std())\n",
    "scaler = StandardScaler()\n",
    "re = scaler.fit_transform(cen.reshape(-1, 1))\n",
    "count, seper = np.histogram(re, bins=10)\n",
    "print(seper)\n",
    "print(re[0])\n",
    "print((seper < re[0]).sum()+1)\n",
    "re.sort(axis=0)\n",
    "bins = np.array_split(re, 10)\n",
    "bin_counts = np.array([b.min() for b in bins])\n",
    "print(bin_counts)  # 每个区间的个数\n",
    "#print(bins)\n"
   ]
  },
  {
   "cell_type": "code",
   "execution_count": null,
   "metadata": {},
   "outputs": [],
   "source": [
    "cen = np.array([v for k, v in dataset.closeCenResult.items()])\n",
    "print(cen.mean())\n",
    "print(cen.std())\n",
    "plt.hist(cen)\n",
    "plt.show()"
   ]
  },
  {
   "cell_type": "code",
   "execution_count": null,
   "metadata": {},
   "outputs": [],
   "source": [
    "scaler = StandardScaler()\n",
    "re = scaler.fit_transform(cen.reshape(-1, 1))\n",
    "print(re.mean())\n",
    "print(re.std())\n",
    "plt.hist(re)\n",
    "plt.show()"
   ]
  },
  {
   "cell_type": "code",
   "execution_count": null,
   "metadata": {},
   "outputs": [],
   "source": []
  }
 ],
 "metadata": {
  "kernelspec": {
   "display_name": "base",
   "language": "python",
   "name": "python3"
  },
  "language_info": {
   "codemirror_mode": {
    "name": "ipython",
    "version": 3
   },
   "file_extension": ".py",
   "mimetype": "text/x-python",
   "name": "python",
   "nbconvert_exporter": "python",
   "pygments_lexer": "ipython3",
   "version": "3.9.13"
  }
 },
 "nbformat": 4,
 "nbformat_minor": 2
}
