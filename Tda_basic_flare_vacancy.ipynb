{
 "cells": [
  {
   "cell_type": "code",
   "execution_count": 45,
   "metadata": {},
   "outputs": [],
   "source": [
    "import pandas as pd\n",
    "#from utils import randomSplit, Accumulator\n",
    "#import torch\n",
    "#from torch import nn\n",
    "import numpy as np\n",
    "from sklearn.preprocessing import StandardScaler  # 归一化\n",
    "from sklearn.model_selection import KFold         # k折交叉验\n",
    "from sklearn.decomposition import PCA             # pca\n",
    "\n",
    "\n",
    "#import modules\n",
    "import kmapper as km\n",
    "import umap\n",
    "import sklearn\n",
    "import sklearn.manifold as manifold\n",
    "\n",
    "import matplotlib.pyplot as plt\n",
    "from kmapper.jupyter import display\n",
    "\n",
    "from sklearn.decomposition import PCA\n",
    "from sklearn import cluster\n",
    "import networkx as nx"
   ]
  },
  {
   "cell_type": "code",
   "execution_count": 46,
   "metadata": {},
   "outputs": [
    {
     "name": "stderr",
     "output_type": "stream",
     "text": [
      "C:\\Users\\xxxx\\AppData\\Roaming\\Python\\Python39\\site-packages\\umap\\umap_.py:1943: UserWarning: n_jobs value -1 overridden to 1 by setting random_state. Use no seed for parallelism.\n",
      "  warn(f\"n_jobs value {self.n_jobs} overridden to 1 by setting random_state. Use no seed for parallelism.\")\n"
     ]
    }
   ],
   "source": [
    "def numpy_cos(a,b):\n",
    "    '''求解cos相似度'''\n",
    "    a = a / np.linalg.norm(a, axis=1).reshape(-1, 1)  # 先renorm，然后相乘就是cos\n",
    "    b = b / np.linalg.norm(b, axis=1).reshape(-1, 1)\n",
    "    dot = np.dot(a, b.T) #对应原始相乘dot.sum(axis=1)得到内积\n",
    "    return dot\n",
    "\n",
    "class myDataset():\n",
    "    def __init__(self, renorm=False, pca=False, savehtml=False, **kargs):\n",
    "        self.player = pd.read_csv('datacleaning/modified_data.csv', header=0, encoding='unicode_escape', delimiter=';')\n",
    "        #self.player = self.player.drop(['Rk', 'Player', 'Nation', 'Pos', 'Comp', 'Age', 'Born'], axis=1)\n",
    "        \n",
    "        # Squad 和 Season 需要保留\n",
    "        #self.player = self.player.drop(['Rk', 'Player', 'Nation', 'Pos', 'Comp', 'Age', 'Born'], axis=1)\n",
    "        \n",
    "        if renorm:\n",
    "            scaler = StandardScaler()  # z score 归一化\n",
    "            for col in self.player.columns:\n",
    "                if col in ('Rk', 'Player', 'Nation', 'Pos', 'Comp', 'Age', 'Born', 'Squad'): continue\n",
    "                self.player[[col]] = scaler.fit_transform(self.player[[col]])\n",
    "        if pca:\n",
    "            squad = self.player['Squad']\n",
    "            season = self.player['Season']\n",
    "            pos = self.player['Pos']\n",
    "            values = self.player.drop(['Squad', 'Season'], axis=1).values\n",
    "            comp_dim = kargs['pca_dim']\n",
    "            pca = PCA(n_components=comp_dim)   # 15\n",
    "            values = pca.fit_transform(values)\n",
    "            # print(sum(pca.explained_variance_ratio_))\n",
    "            self.player = pd.DataFrame(values)\n",
    "            self.player['Squad'] = squad\n",
    "            self.player[\"Season\"] = season\n",
    "            self.player['Pos'] = pos\n",
    "\n",
    "        #self.league = pd.read_excel('DLdata/SquadPerformance2021.xlsx', sheet_name='Sheet1')\n",
    "        #self.league['tier'] = self.league.apply(rank2class, axis=1)\n",
    "        #self.league = self.league[['Squad', 'Season', 'tier']]       \n",
    "\n",
    "        #initialize mapper\n",
    "        mapper = km.KeplerMapper(verbose=0)\n",
    "        #project data\n",
    "        self.X_features_numeric = self.player.drop(['Rk', 'Player', 'Nation', 'Pos', 'Comp', 'Age', 'Born', 'Squad'], axis=1).values  # data array\n",
    "        self.index2col = list(self.player.drop(['Rk', 'Player', 'Nation', 'Pos', 'Comp', 'Age', 'Born', 'Squad'], axis=1).columns)  # 将 values 的列id转化为对应的col名称\n",
    "        projected_X = mapper.fit_transform(self.X_features_numeric, \n",
    "                                            projection = [manifold.Isomap(n_components=10, n_jobs=-1),\n",
    "                                                            umap.UMAP(n_components=2, random_state=1)], scaler=[None])  \n",
    "        graph2 = mapper.map(projected_X, cover=km.Cover(n_cubes=15),\n",
    "                clusterer=sklearn.cluster.KMeans(n_clusters=5, random_state=1618033))\n",
    "        # 根据标签数据y创建对应的color_values\n",
    "        def create_color_values(y):\n",
    "            unique_labels = np.unique(y)\n",
    "            color_values = [str(i + 1) for i in range(unique_labels.shape[0])]\n",
    "            label_to_color = dict(zip(unique_labels, color_values))\n",
    "            return np.array([label_to_color[label] for label in y])\n",
    "        def node_color_func(node):\n",
    "            labels, counts = np.unique(node, return_counts=True)\n",
    "            max_count_index = np.argmax(counts)\n",
    "            ans = create_color_values(labels)\n",
    "            return ans[max_count_index] \n",
    "        pos = np.array(self.player['Pos'])\n",
    "        \n",
    "        self.graph = km.adapter.to_nx(graph2)\n",
    "        colorvaluepos = create_color_values(pos)\n",
    "        self.closeCenResult = nx.closeness_centrality(self.graph)  # returns dict\n",
    "        clusters = self.graph.nodes.data()\n",
    "        colorvalueCloseCen = [[] for i in range(colorvaluepos.shape[0])]\n",
    "        self.cluster_features = dict()\n",
    "        for clusterdata in clusters:  # nx nodes view\n",
    "            # 单个cluster example ('cube0_cluster0', {'membership': [2234, 3793, 5864, 6229, 8196]})\n",
    "            clus_name = clusterdata[0]\n",
    "            clus_closeCen = self.closeCenResult[clus_name]\n",
    "            \n",
    "            members_l = clusterdata[1]['membership']\n",
    "            for member in members_l:  # id = dataframe里的index\n",
    "                colorvalueCloseCen[member].append(clus_closeCen)\n",
    "            # 生成cluster的特征，先取出对应的menber 的feature，再求平均\n",
    "            cur_cluster_feature = self.X_features_numeric[np.array(member), :].mean(axis=0)  # shape [1, self.cluster_features_dim]\n",
    "            self.cluster_features[clus_name] = cur_cluster_feature  #  name -> cluster feature, 可以用来生成其他的表示颜色的变量\n",
    "        colorvalueCloseCen = np.array([max(l) for l in colorvalueCloseCen])  # 直接对这个结果做标准化和分箱吧\n",
    "        \n",
    "        scaler = StandardScaler()\n",
    "        re = scaler.fit_transform(colorvalueCloseCen.reshape(-1, 1))\n",
    "        re.sort(axis=0) # 升序 排序\n",
    "        bins = np.array_split(re, 10)\n",
    "        seper = np.array([b.min() for b in bins])\n",
    "        colorvalueCloseCen_2 = np.zeros_like(colorvalueCloseCen)\n",
    "        for i in range(colorvalueCloseCen.shape[0]):\n",
    "            colorvalueCloseCen_2[i] = str((seper < re[i]).sum() + 1)  # 不是吧，别太抽象，真要换成str ？？\n",
    "        \n",
    "\n",
    "        if savehtml:\n",
    "            mapper.visualize(graph2, path_html=\"cluster=5,cubes=15_flare_vacancy.html\",\n",
    "                 title=\"mapper2\", custom_tooltips=pos, color_values=np.c_[colorvaluepos.reshape(-1, 1), colorvalueCloseCen_2.reshape(-1, 1)],\n",
    "                   node_color_function=('mean', 'max'), color_function_name=('Position', 'CloseCentrality'),\n",
    "                  include_searchbar=True)\n",
    "        \n",
    "        \n",
    "\n",
    "    def get_members(self, nodes_l, method='ring_opposite', **kargs):\n",
    "        '''find_ring找到ring的周围节点后，通过该函数获取节点所代表的局部点云，\n",
    "        method值，k_min 最小的k个，保证每个点都有pair，threshold，选取夹角余弦值小于threshold参数值的东西，一般设置-0.8，不保证都有pair'''\n",
    "        if isinstance(nodes_l, set):\n",
    "            nodes_l = list(nodes_l)\n",
    "        sub_graph = dataset.graph.subgraph(nodes_l)\n",
    "        member_l = []\n",
    "        for item in sub_graph.nodes.data():\n",
    "            member_l += item[1]['membership']\n",
    "        member_l = list(set(member_l))\n",
    "        cur_df = self.player.iloc[member_l, :]  # 因为索引是对应的，可以直接按照 X_features的行索引，获取到dataframe \n",
    "        #cur_cluster_feature = X_features_numeric[np.array(member_l), :].mean(axis=0)  # shaoe [1, self.cluster_features_dim]\n",
    "        cur_df = cur_df.drop(['Rk', 'Player', 'Nation', 'Pos', 'Comp', 'Born', 'Squad'], axis=1)  # 前面drop的除了age都drop了\n",
    "        centorPoint = cur_df.values.mean(axis=0)\n",
    "        df_values = cur_df.values\n",
    "        centor2pointCloudVector = df_values - centorPoint  # 通过向量减法，得到从中心发射到点云的向量的值；计算利用了广播机制\n",
    "        cosSims = numpy_cos(centor2pointCloudVector, centor2pointCloudVector)\n",
    "        if method == 'threshold':\n",
    "            raw_pairs = np.nonzero(cosSims < kargs['threshold'])  # 记录夹角够大的向量的pair, default -0.8\n",
    "            # np.nonzero return 一个tuple，记录两个index array\n",
    "            pairset = set()\n",
    "            for raw, col in zip(*raw_pairs):    \n",
    "                #if (col, raw) not in pairset:  # 如果对方不在\n",
    "                pairset.add((raw, col))\n",
    "        elif method == 'k_min':\n",
    "            sortedIndex = cosSims.argsort(axis=1)  # 升序排列\n",
    "            raw_pairs = sortedIndex[:, :kargs['k']]  # default 2\n",
    "            pairset = set()\n",
    "            for raw in range(raw_pairs.shape[0]):\n",
    "                for col in range(raw_pairs.shape[1]):\n",
    "                    #if (raw_pairs[raw][col], raw) not in pairset:  # 如果对方不在，似乎不需要\n",
    "                    pairset.add((raw, raw_pairs[raw][col]))   # 添加的是，member的id的pair\n",
    "        elif method == 'ring_opposite':  # 进一步考虑之后，前面的两种思路都废弃了orzzz\n",
    "            '''环的对面的节点组成pair，这样的话pair会少一些'''\n",
    "            pairset = set()  # 目前决定是cluster\n",
    "            for node in nodes_l:\n",
    "                path_dic = nx.shortest_path(sub_graph, source=node)\n",
    "                path_dic = sorted([(key, len(n_l)) for key, n_l in path_dic.items()], key=lambda x: x[1], reverse=True)\n",
    "                path_dic = [k for k, l in path_dic if l == path_dic[0][1] or l >= 5] # 取出最长的那些路径对应的节点\n",
    "                for target in path_dic:\n",
    "                    pairset.add((node, target))\n",
    "            # 接下来分析每一对cluster pair内的节点在在各个特征维度的差值，的最小值（作为环的内界），此外为了robustness，最小值可以替换为p25分位点\n",
    "            cluster_pair_differs_l = []\n",
    "            for node, target in list(pairset):\n",
    "                member_l1 = sub_graph.nodes[node]['membership']\n",
    "                member_l2 = sub_graph.nodes[target]['membership']  # 取出source和target的节点中的所有member\n",
    "                differ_l = []\n",
    "                for m1 in member_l1: # member's global raw id\n",
    "                    for m2 in member_l2:\n",
    "                        differ_l.append(self.X_features_numeric[m1] - self.X_features_numeric[m2])\n",
    "                diffdata = np.abs(np.stack(differ_l, axis=0))\n",
    "                percentile = 0.25  # 取p25分位点，如果取最小值则是 0\n",
    "                cur_cluster_pair_features_differ = np.percentile(diffdata, percentile, axis=0)  # axis意味着在行维度，也即样本之间取percentile，返回的shape 为 [135,]\n",
    "                cluster_pair_differs_l.append(cur_cluster_pair_features_differ)\n",
    "            cluster_pair_differs_l = np.stack(cluster_pair_differs_l, axis=0)\n",
    "        # 上述步骤得到了，在拓扑空间内，被认为相对的节点pairs，接下来计算差值\n",
    "        else:\n",
    "            raise ValueError(f'method {method} is unsupported.')\n",
    "        #differ_l = [] # list of numpy array\n",
    "        #for pair in list(pairset): # pairset里面的member的值，是全局的player id，不能用cur_df中取出的values\n",
    "        #    differ_l.append(self.X_features_numeric[pair[0]] - self.X_features_numeric[pair[1]])  # 乐，昨晚写的时候真的是神志不清…… 明显错了\n",
    "                        \n",
    "        \n",
    "\n",
    "        \n",
    "\n",
    "        # 需要的都return吧\n",
    "        return member_l, cur_df, cluster_pair_differs_l\n",
    "\n",
    "\n",
    "    def find_ring(self, node1, node2, node3=None):\n",
    "        '''给定3个点，通过寻找两到三条最短路径的思路，寻找到环上的节点，\n",
    "            最短的两条不重合，或者不相邻的路径，构成一个需要的环'''\n",
    "        '''使用networkx的shortest_simple_paths函数'''\n",
    "        path_l = []\n",
    "        last_len = 100000\n",
    "        if node3 is None: flag = 1\n",
    "        else: flag = 0\n",
    "        for path in nx.shortest_simple_paths(self.graph, node1, node2):\n",
    "            path_l.append(path)\n",
    "            if len(path) < last_len: last_len = len(path)\n",
    "            if len(path) > last_len + flag: break  # 这样的话多一个兼容一下只提供两个节点的情况，试试效果啦\n",
    "        if node3 is not None:\n",
    "            last_len = 100000\n",
    "            for path in nx.shortest_simple_paths(self.graph, node1, node3):\n",
    "                path_l.append(path)\n",
    "                if len(path) < last_len: last_len = len(path)\n",
    "                if len(path) > last_len: break\n",
    "            last_len = 100000\n",
    "            for path in nx.shortest_simple_paths(self.graph, node2, node3):\n",
    "                path_l.append(path)\n",
    "                if len(path) < last_len: last_len = len(path)\n",
    "                if len(path) > last_len: break\n",
    "        # return path_l\n",
    "        return set([node for path in path_l for node in path])\n",
    "\n",
    "    def draw_subGraph(self, nodes_l):\n",
    "        '''将函数find_ring得到的结果可视化成一个子图'''\n",
    "        if isinstance(nodes_l, set):\n",
    "            nodes_l = list(nodes_l)\n",
    "        sub_graph = dataset.graph.subgraph(nodes_l)\n",
    "        nx.draw(sub_graph)\n",
    "\n",
    "\n",
    "dataset = myDataset(renorm=1)\n"
   ]
  },
  {
   "cell_type": "code",
   "execution_count": 47,
   "metadata": {},
   "outputs": [
    {
     "name": "stdout",
     "output_type": "stream",
     "text": [
      "{'cube64_cluster1', 'cube64_cluster0', 'cube52_cluster0', 'cube63_cluster3', 'cube53_cluster2', 'cube43_cluster1', 'cube42_cluster4', 'cube42_cluster0', 'cube52_cluster3', 'cube53_cluster0', 'cube41_cluster1', 'cube63_cluster4', 'cube52_cluster1', 'cube42_cluster1', 'cube63_cluster0', 'cube65_cluster1', 'cube41_cluster2', 'cube42_cluster3', 'cube54_cluster1', 'cube64_cluster2', 'cube53_cluster1', 'cube43_cluster3', 'cube41_cluster4', 'cube54_cluster4', 'cube64_cluster4', 'cube53_cluster4', 'cube52_cluster4', 'cube41_cluster3', 'cube64_cluster3', 'cube53_cluster3'}\n"
     ]
    }
   ],
   "source": [
    "node1 = 'cube63_cluster4'\n",
    "node2 = 'cube54_cluster1'\n",
    "node3 = 'cube53_cluster2'\n",
    "res = dataset.find_ring(node1=node1, node2=node2, node3=None)\n",
    "print(res)\n",
    "sub_graph = dataset.graph.subgraph(list(res))\n",
    "member_l, cur_df, cluster_pair_differs_l = dataset.get_members(list(res), method='ring_opposite')"
   ]
  },
  {
   "cell_type": "code",
   "execution_count": 48,
   "metadata": {},
   "outputs": [
    {
     "data": {
      "image/png": "[encoded data removed]",
      "text/plain": [
       "<Figure size 640x480 with 1 Axes>"
      ]
     },
     "metadata": {},
     "output_type": "display_data"
    }
   ],
   "source": [
    "dataset.draw_subGraph(list(res))"
   ]
  },
  {
   "cell_type": "code",
   "execution_count": 61,
   "metadata": {},
   "outputs": [
    {
     "name": "stdout",
     "output_type": "stream",
     "text": [
      "[ 12  13  42  46 108 109 110 111 112]\n"
     ]
    },
    {
     "data": {
      "image/png": "[encoded data removed]",
      "text/plain": [
       "<Figure size 3600x2400 with 1 Axes>"
      ]
     },
     "metadata": {},
     "output_type": "display_data"
    }
   ],
   "source": [
    "idx = np.nonzero(cluster_pair_differs_l.max(axis=0) > 0.2)[0]  # 选出大于0.02的特征，得到的global idx\n",
    "print(idx)\n",
    "values = cluster_pair_differs_l[:, idx]   # 选出这些特征的原始数据，它们被认为是在这个空洞中显著存在差异的特征\n",
    "# 想用中文必须进行设置RC参数\n",
    "plt.rcParams['font.sans-serif'] = 'SimHei'\n",
    "# 设置RC参数字体，让其支持中文\n",
    "plt.rcParams['axes.unicode_minus'] = False\n",
    "# 加载数据\n",
    "# 创建画布\n",
    "plt.figure(dpi=300,figsize=(12,8))\n",
    "labels = [dataset.index2col[i] for i in idx]\n",
    "# notch --缺口 meanline --均值线\n",
    "plt.boxplot(values, meanline=True, notch=True, labels=labels)  # x size [raw, features]\n",
    "plt.show()\n"
   ]
  },
  {
   "cell_type": "code",
   "execution_count": 58,
   "metadata": {},
   "outputs": [
    {
     "name": "stdout",
     "output_type": "stream",
     "text": [
      "(268, 3)\n",
      "(3, 3)\n",
      "[]\n"
     ]
    }
   ],
   "source": [
    "print(values.shape)\n",
    "cors = np.corrcoef(values.T) # 要求输入的shape [nfeatures, nsamples]\n",
    "print(cors.shape)\n",
    "#print(cors)\n",
    "significant_correlate = []\n",
    "for raw in np.argwhere(cors < -0.2):\n",
    "    if raw[0] > raw[1]:\n",
    "        significant_correlate.append((raw, cors[raw[0]][raw[1]]))\n",
    "\n",
    "print(significant_correlate)\n",
    "for raw, pearson in significant_correlate:\n",
    "    print(dataset.index2col[idx[raw[0]]], dataset.index2col[idx[raw[1]]], round(pearson, 3))\n",
    "\n",
    "# 我似乎关联挖掘的方法有错误，这种方法找到的高度相关的两个变量，往往只是含义相近，而不是vacancy\n",
    "# 似乎是负相关？此消彼长？？orzzz 数学直觉一点都不剩了，我做的这些东西除了直觉还剩什么吗？没有力\n",
    "# xs，make sense了，但是meaningless"
   ]
  },
  {
   "cell_type": "code",
   "execution_count": 73,
   "metadata": {},
   "outputs": [
    {
     "data": {
      "application/vnd.plotly.v1+json": {
       "config": {
        "plotlyServerURL": "https://plot.ly"
       },
       "data": [
        {
         "marker": {
          "color": [
           0,
           1,
           2,
           3,
           4,
           5,
           6,
           7,
           8,
           9,
           10,
           11,
           12,
           13,
           14,
           15,
           16,
           17,
           18,
           19,
           20,
           21,
           22,
           23,
           24,
           25,
           26,
           27,
           28,
           29,
           30,
           31,
           32,
           33,
           34,
           35,
           36,
           37,
           38,
           39,
           40,
           41,
           42,
           43,
           44,
           45,
           46,
           47,
           48,
           49,
           50,
           51,
           52,
           53,
           54,
           55,
           56,
           57,
           58,
           59,
           60,
           61,
           62,
           63,
           64,
           65,
           66,
           67,
           68,
           69,
           70,
           71,
           72,
           73,
           74,
           75,
           76,
           77,
           78,
           79,
           80,
           81,
           82,
           83,
           84,
           85,
           86,
           87,
           88,
           89,
           90,
           91,
           92,
           93,
           94,
           95,
           96,
           97,
           98,
           99,
           100,
           101,
           102,
           103,
           104,
           105,
           106,
           107,
           108,
           109,
           110,
           111,
           112,
           113,
           114,
           115,
           116,
           117,
           118,
           119,
           120,
           121,
           122,
           123,
           124,
           125,
           126,
           127,
           128,
           129,
           130,
           131,
           132,
           133,
           134,
           135,
           136,
           137,
           138,
           139,
           140,
           141,
           142,
           143,
           144,
           145,
           146,
           147,
           148,
           149,
           150,
           151,
           152,
           153,
           154,
           155,
           156,
           157,
           158,
           159,
           160,
           161,
           162,
           163,
           164,
           165,
           166,
           167,
           168,
           169,
           170,
           171,
           172,
           173,
           174,
           175,
           176,
           177,
           178,
           179,
           180,
           181,
           182,
           183,
           184,
           185,
           186,
           187,
           188,
           189,
           190,
           191,
           192,
           193,
           194,
           195,
           196,
           197,
           198,
           199,
           200,
           201,
           202,
           203,
           204,
           205,
           206,
           207,
           208,
           209,
           210,
           211,
           212,
           213,
           214,
           215,
           216,
           217,
           218,
           219,
           220,
           221,
           222,
           223,
           224,
           225,
           226,
           227,
           228,
           229,
           230,
           231,
           232,
           233,
           234,
           235,
           236,
           237,
           238,
           239,
           240,
           241,
           242,
           243,
           244,
           245,
           246,
           247,
           248,
           249,
           250,
           251,
           252,
           253,
           254,
           255,
           256,
           257,
           258,
           259,
           260,
           261,
           262,
           263,
           264,
           265,
           266,
           267,
           268,
           269,
           270,
           271,
           272,
           273,
           274,
           275,
           276,
           277,
           278,
           279,
           280,
           281,
           282,
           283,
           284,
           285,
           286,
           287,
           288,
           289,
           290,
           291,
           292,
           293,
           294,
           295,
           296,
           297,
           298,
           299,
           300,
           301,
           302,
           303,
           304,
           305,
           306,
           307,
           308,
           309,
           310,
           311,
           312,
           313,
           314,
           315,
           316,
           317,
           318,
           319,
           320,
           321,
           322,
           323,
           324,
           325,
           326,
           327,
           328,
           329,
           330,
           331,
           332,
           333,
           334,
           335,
           336,
           337,
           338,
           339,
           340,
           341,
           342,
           343,
           344,
           345,
           346,
           347,
           348,
           349,
           350,
           351,
           352,
           353,
           354,
           355,
           356,
           357,
           358,
           359,
           360,
           361,
           362,
           363,
           364,
           365,
           366,
           367,
           368,
           369
          ],
          "colorscale": [
           [
            0,
            "#440154"
           ],
           [
            0.1111111111111111,
            "#482878"
           ],
           [
            0.2222222222222222,
            "#3e4989"
           ],
           [
            0.3333333333333333,
            "#31688e"
           ],
           [
            0.4444444444444444,
            "#26828e"
           ],
           [
            0.5555555555555556,
            "#1f9e89"
           ],
           [
            0.6666666666666666,
            "#35b779"
           ],
           [
            0.7777777777777778,
            "#6ece58"
           ],
           [
            0.8888888888888888,
            "#b5de2b"
           ],
           [
            1,
            "#fde725"
           ]
          ],
          "opacity": 0.8,
          "size": 4
         },
         "mode": "markers",
         "type": "scatter3d",
         "x": [
          2.321853007921515,
          -0.22208271456113518,
          -0.22208271456113518,
          -0.22208271456113518,
          2.039193483201221,
          -0.22208271456113518,
          -0.22208271456113518,
          -0.22208271456113518,
          -0.22208271456113518,
          -0.22208271456113518,
          2.60451253264181,
          -0.22208271456113518,
          -0.22208271456113518,
          -0.22208271456113518,
          -0.22208271456113518,
          -0.22208271456113518,
          -0.22208271456113518,
          -0.22208271456113518,
          -0.22208271456113518,
          3.452491106802693,
          -0.22208271456113518,
          3.452491106802693,
          -0.22208271456113518,
          0.9085553843200427,
          -0.22208271456113518,
          1.4738744337606315,
          -0.22208271456113518,
          -0.22208271456113518,
          -0.22208271456113518,
          -0.22208271456113518,
          -0.22208271456113518,
          1.7565339584809263,
          -0.22208271456113518,
          -0.22208271456113518,
          -0.22208271456113518,
          2.039193483201221,
          -0.22208271456113518,
          2.321853007921515,
          1.7565339584809263,
          -0.22208271456113518,
          -0.22208271456113518,
          1.1912149090403372,
          -0.22208271456113518,
          1.1912149090403372,
          2.039193483201221,
          -0.22208271456113518,
          -0.22208271456113518,
          -0.22208271456113518,
          -0.22208271456113518,
          -0.22208271456113518,
          -0.22208271456113518,
          -0.22208271456113518,
          4.017810156243282,
          -0.22208271456113518,
          -0.22208271456113518,
          2.887172057362104,
          2.887172057362104,
          -0.22208271456113518,
          -0.22208271456113518,
          1.7565339584809263,
          -0.22208271456113518,
          -0.22208271456113518,
          -0.22208271456113518,
          -0.22208271456113518,
          1.1912149090403372,
          2.887172057362104,
          -0.22208271456113518,
          5.431107779844754,
          7.69238397760711,
          -0.22208271456113518,
          6.561745878725931,
          -0.22208271456113518,
          -0.22208271456113518,
          -0.22208271456113518,
          -0.22208271456113518,
          -0.22208271456113518,
          -0.22208271456113518,
          2.039193483201221,
          4.300469680963577,
          -0.22208271456113518,
          -0.22208271456113518,
          -0.22208271456113518,
          4.017810156243282,
          -0.22208271456113518,
          -0.22208271456113518,
          -0.22208271456113518,
          -0.22208271456113518,
          2.60451253264181,
          -0.22208271456113518,
          -0.22208271456113518,
          -0.22208271456113518,
          -0.22208271456113518,
          -0.22208271456113518,
          0.9085553843200427,
          -0.22208271456113518,
          -0.22208271456113518,
          11.084298274250644,
          0.9085553843200427,
          -0.22208271456113518,
          -0.22208271456113518,
          2.60451253264181,
          -0.22208271456113518,
          -0.22208271456113518,
          -0.22208271456113518,
          0.6258958595997482,
          2.321853007921515,
          -0.22208271456113518,
          -0.22208271456113518,
          -0.22208271456113518,
          -0.22208271456113518,
          -0.22208271456113518,
          3.452491106802693,
          -0.22208271456113518,
          3.7351506315229877,
          -0.22208271456113518,
          -0.22208271456113518,
          -0.22208271456113518,
          -0.22208271456113518,
          -0.22208271456113518,
          -0.22208271456113518,
          -0.22208271456113518,
          -0.22208271456113518,
          -0.22208271456113518,
          -0.22208271456113518,
          -0.22208271456113518,
          2.039193483201221,
          -0.22208271456113518,
          2.60451253264181,
          -0.22208271456113518,
          -0.22208271456113518,
          -0.22208271456113518,
          -0.22208271456113518,
          -0.22208271456113518,
          -0.22208271456113518,
          -0.22208271456113518,
          -0.22208271456113518,
          -0.22208271456113518,
          1.4738744337606315,
          -0.22208271456113518,
          -0.22208271456113518,
          -0.22208271456113518,
          -0.22208271456113518,
          -0.22208271456113518,
          2.039193483201221,
          4.017810156243282,
          -0.22208271456113518,
          -0.22208271456113518,
          -0.22208271456113518,
          4.017810156243282,
          -0.22208271456113518,
          1.4738744337606315,
          1.4738744337606315,
          -0.22208271456113518,
          -0.22208271456113518,
          0.6258958595997482,
          2.887172057362104,
          -0.22208271456113518,
          5.431107779844754,
          -0.22208271456113518,
          2.887172057362104,
          -0.22208271456113518,
          -0.22208271456113518,
          1.4738744337606315,
          -0.22208271456113518,
          -0.22208271456113518,
          -0.22208271456113518,
          -0.22208271456113518,
          3.1698315820823986,
          -0.22208271456113518,
          2.321853007921515,
          -0.22208271456113518,
          -0.22208271456113518,
          -0.22208271456113518,
          3.1698315820823986,
          -0.22208271456113518,
          6.561745878725931,
          -0.22208271456113518,
          -0.22208271456113518,
          -0.22208271456113518,
          0.9085553843200427,
          -0.22208271456113518,
          -0.22208271456113518,
          -0.22208271456113518,
          -0.22208271456113518,
          0.6258958595997482,
          1.4738744337606315,
          -0.22208271456113518,
          -0.22208271456113518,
          -0.22208271456113518,
          -0.22208271456113518,
          0.6258958595997482,
          -0.22208271456113518,
          3.452491106802693,
          1.4738744337606315,
          -0.22208271456113518,
          1.7565339584809263,
          -0.22208271456113518,
          -0.22208271456113518,
          1.7565339584809263,
          -0.22208271456113518,
          -0.22208271456113518,
          -0.22208271456113518,
          -0.22208271456113518,
          -0.22208271456113518,
          2.039193483201221,
          4.300469680963577,
          4.300469680963577,
          -0.22208271456113518,
          -0.22208271456113518,
          -0.22208271456113518,
          -0.22208271456113518,
          0.9085553843200427,
          -0.22208271456113518,
          -0.22208271456113518,
          -0.22208271456113518,
          -0.22208271456113518,
          5.7137673045650486,
          -0.22208271456113518,
          0.9085553843200427,
          -0.22208271456113518,
          -0.22208271456113518,
          -0.22208271456113518,
          -0.22208271456113518,
          -0.22208271456113518,
          6.2790863540056385,
          -0.22208271456113518,
          2.60451253264181,
          -0.22208271456113518,
          -0.22208271456113518,
          -0.22208271456113518,
          2.887172057362104,
          4.865788730404165,
          1.1912149090403372,
          -0.22208271456113518,
          -0.22208271456113518,
          -0.22208271456113518,
          7.69238397760711,
          -0.22208271456113518,
          -0.22208271456113518,
          -0.22208271456113518,
          -0.22208271456113518,
          -0.22208271456113518,
          -0.22208271456113518,
          -0.22208271456113518,
          4.300469680963577,
          -0.22208271456113518,
          -0.22208271456113518,
          4.583129205683871,
          -0.22208271456113518,
          6.2790863540056385,
          1.1912149090403372,
          -0.22208271456113518,
          3.452491106802693,
          2.039193483201221,
          -0.22208271456113518,
          -0.22208271456113518,
          -0.22208271456113518,
          -0.22208271456113518,
          1.1912149090403372,
          0.6258958595997482,
          -0.22208271456113518,
          -0.22208271456113518,
          -0.22208271456113518,
          4.583129205683871,
          4.583129205683871,
          -0.22208271456113518,
          -0.22208271456113518,
          -0.22208271456113518,
          -0.22208271456113518,
          -0.22208271456113518,
          -0.22208271456113518,
          1.7565339584809263,
          2.039193483201221,
          -0.22208271456113518,
          -0.22208271456113518,
          -0.22208271456113518,
          -0.22208271456113518,
          2.887172057362104,
          -0.22208271456113518,
          -0.22208271456113518,
          -0.22208271456113518,
          4.300469680963577,
          1.1912149090403372,
          0.9085553843200427,
          -0.22208271456113518,
          3.452491106802693,
          -0.22208271456113518,
          -0.22208271456113518,
          -0.22208271456113518,
          -0.22208271456113518,
          -0.22208271456113518,
          -0.22208271456113518,
          4.300469680963577,
          5.7137673045650486,
          -0.22208271456113518,
          1.7565339584809263,
          -0.22208271456113518,
          2.60451253264181,
          -0.22208271456113518,
          -0.22208271456113518,
          -0.22208271456113518,
          -0.22208271456113518,
          -0.22208271456113518,
          4.017810156243282,
          -0.22208271456113518,
          -0.22208271456113518,
          -0.22208271456113518,
          5.431107779844754,
          -0.22208271456113518,
          2.60451253264181,
          1.4738744337606315,
          13.910893521453588,
          -0.22208271456113518,
          -0.22208271456113518,
          2.60451253264181,
          -0.22208271456113518,
          -0.22208271456113518,
          -0.22208271456113518,
          2.60451253264181,
          -0.22208271456113518,
          0.9085553843200427,
          -0.22208271456113518,
          -0.22208271456113518,
          3.1698315820823986,
          -0.22208271456113518,
          0.9085553843200427,
          -0.22208271456113518,
          -0.22208271456113518,
          2.321853007921515,
          3.1698315820823986,
          0.6258958595997482,
          -0.22208271456113518,
          -0.22208271456113518,
          -0.22208271456113518,
          -0.22208271456113518,
          1.4738744337606315,
          -0.22208271456113518,
          -0.22208271456113518,
          1.4738744337606315,
          -0.22208271456113518,
          -0.22208271456113518,
          0.6258958595997482,
          1.7565339584809263,
          -0.22208271456113518,
          -0.22208271456113518,
          0.9085553843200427,
          2.039193483201221,
          4.583129205683871,
          -0.22208271456113518,
          2.039193483201221,
          3.452491106802693,
          2.039193483201221,
          -0.22208271456113518,
          -0.22208271456113518,
          -0.22208271456113518,
          1.4738744337606315,
          -0.22208271456113518,
          0.6258958595997482,
          -0.22208271456113518,
          -0.22208271456113518,
          -0.22208271456113518,
          -0.22208271456113518,
          -0.22208271456113518,
          -0.22208271456113518,
          -0.22208271456113518,
          -0.22208271456113518,
          -0.22208271456113518,
          4.865788730404165,
          -0.22208271456113518,
          -0.22208271456113518
         ],
         "y": [
          1.685813042716341,
          -0.21879562460799132,
          -0.21879562460799132,
          -0.21879562460799132,
          2.1090594132328593,
          -0.21879562460799132,
          -0.21879562460799132,
          -0.21879562460799132,
          -0.21879562460799132,
          -0.21879562460799132,
          1.8974362279746002,
          2.743928969007637,
          -0.21879562460799132,
          -0.21879562460799132,
          -0.21879562460799132,
          -0.21879562460799132,
          2.320682598491118,
          -0.21879562460799132,
          -0.21879562460799132,
          2.5323057837493774,
          -0.21879562460799132,
          2.5323057837493774,
          0.41607393116678604,
          1.4741898574580818,
          -0.21879562460799132,
          1.0509434869415635,
          -0.21879562460799132,
          -0.21879562460799132,
          -0.21879562460799132,
          -0.21879562460799132,
          -0.21879562460799132,
          1.8974362279746002,
          -0.21879562460799132,
          -0.21879562460799132,
          -0.21879562460799132,
          1.4741898574580818,
          -0.21879562460799132,
          2.955552154265896,
          1.2625666721998228,
          -0.21879562460799132,
          -0.21879562460799132,
          0.8393203016833044,
          3.3787985247824146,
          0.8393203016833044,
          1.4741898574580818,
          -0.21879562460799132,
          -0.21879562460799132,
          -0.21879562460799132,
          -0.21879562460799132,
          -0.21879562460799132,
          -0.21879562460799132,
          -0.21879562460799132,
          2.955552154265896,
          -0.21879562460799132,
          -0.21879562460799132,
          2.1090594132328593,
          2.1090594132328593,
          -0.21879562460799132,
          -0.21879562460799132,
          2.1090594132328593,
          -0.21879562460799132,
          -0.21879562460799132,
          -0.21879562460799132,
          -0.21879562460799132,
          0.8393203016833044,
          2.1090594132328593,
          -0.21879562460799132,
          4.013668080557192,
          5.7066535626232655,
          -0.21879562460799132,
          7.822885415205856,
          -0.21879562460799132,
          -0.21879562460799132,
          -0.21879562460799132,
          -0.21879562460799132,
          -0.21879562460799132,
          -0.21879562460799132,
          1.4741898574580818,
          4.013668080557192,
          -0.21879562460799132,
          1.0509434869415635,
          0.8393203016833044,
          2.955552154265896,
          -0.21879562460799132,
          -0.21879562460799132,
          -0.21879562460799132,
          -0.21879562460799132,
          1.8974362279746002,
          -0.21879562460799132,
          -0.21879562460799132,
          0.8393203016833044,
          -0.21879562460799132,
          -0.21879562460799132,
          0.6276971164250452,
          -0.21879562460799132,
          -0.21879562460799132,
          16.71105919605274,
          1.685813042716341,
          -0.21879562460799132,
          -0.21879562460799132,
          1.8974362279746002,
          -0.21879562460799132,
          -0.21879562460799132,
          -0.21879562460799132,
          0.41607393116678604,
          1.685813042716341,
          -0.21879562460799132,
          -0.21879562460799132,
          -0.21879562460799132,
          -0.21879562460799132,
          -0.21879562460799132,
          2.5323057837493774,
          -0.21879562460799132,
          4.225291265815451,
          0.41607393116678604,
          -0.21879562460799132,
          -0.21879562460799132,
          0.41607393116678604,
          -0.21879562460799132,
          -0.21879562460799132,
          -0.21879562460799132,
          -0.21879562460799132,
          -0.21879562460799132,
          -0.21879562460799132,
          -0.21879562460799132,
          2.5323057837493774,
          -0.21879562460799132,
          2.955552154265896,
          -0.21879562460799132,
          -0.21879562460799132,
          -0.21879562460799132,
          -0.21879562460799132,
          0.8393203016833044,
          -0.21879562460799132,
          -0.21879562460799132,
          -0.21879562460799132,
          -0.21879562460799132,
          1.0509434869415635,
          -0.21879562460799132,
          -0.21879562460799132,
          -0.21879562460799132,
          -0.21879562460799132,
          -0.21879562460799132,
          1.4741898574580818,
          2.955552154265896,
          -0.21879562460799132,
          -0.21879562460799132,
          -0.21879562460799132,
          2.955552154265896,
          -0.21879562460799132,
          1.0509434869415635,
          1.8974362279746002,
          -0.21879562460799132,
          -0.21879562460799132,
          0.41607393116678604,
          2.1090594132328593,
          -0.21879562460799132,
          4.013668080557192,
          -0.21879562460799132,
          2.1090594132328593,
          -0.21879562460799132,
          -0.21879562460799132,
          2.5323057837493774,
          -0.21879562460799132,
          -0.21879562460799132,
          -0.21879562460799132,
          -0.21879562460799132,
          2.320682598491118,
          -0.21879562460799132,
          1.685813042716341,
          -0.21879562460799132,
          -0.21879562460799132,
          -0.21879562460799132,
          2.320682598491118,
          -0.21879562460799132,
          5.9182767478815235,
          -0.21879562460799132,
          -0.21879562460799132,
          -0.21879562460799132,
          0.6276971164250452,
          -0.21879562460799132,
          -0.21879562460799132,
          20.94352290121792,
          -0.21879562460799132,
          0.41607393116678604,
          2.320682598491118,
          -0.21879562460799132,
          -0.21879562460799132,
          -0.21879562460799132,
          -0.21879562460799132,
          0.41607393116678604,
          -0.21879562460799132,
          2.5323057837493774,
          1.0509434869415635,
          -0.21879562460799132,
          2.743928969007637,
          -0.21879562460799132,
          -0.21879562460799132,
          1.2625666721998228,
          1.0509434869415635,
          -0.21879562460799132,
          -0.21879562460799132,
          -0.21879562460799132,
          -0.21879562460799132,
          1.4741898574580818,
          4.6485376363319695,
          3.1671753395241553,
          -0.21879562460799132,
          -0.21879562460799132,
          -0.21879562460799132,
          -0.21879562460799132,
          0.6276971164250452,
          -0.21879562460799132,
          -0.21879562460799132,
          -0.21879562460799132,
          -0.21879562460799132,
          4.225291265815451,
          -0.21879562460799132,
          2.1090594132328593,
          -0.21879562460799132,
          -0.21879562460799132,
          -0.21879562460799132,
          -0.21879562460799132,
          -0.21879562460799132,
          4.6485376363319695,
          -0.21879562460799132,
          1.8974362279746002,
          -0.21879562460799132,
          -0.21879562460799132,
          -0.21879562460799132,
          2.1090594132328593,
          3.5904217100406735,
          0.8393203016833044,
          -0.21879562460799132,
          -0.21879562460799132,
          -0.21879562460799132,
          5.7066535626232655,
          -0.21879562460799132,
          -0.21879562460799132,
          -0.21879562460799132,
          -0.21879562460799132,
          -0.21879562460799132,
          -0.21879562460799132,
          -0.21879562460799132,
          3.1671753395241553,
          1.685813042716341,
          -0.21879562460799132,
          3.3787985247824146,
          -0.21879562460799132,
          6.129899933139783,
          0.8393203016833044,
          -0.21879562460799132,
          2.5323057837493774,
          2.5323057837493774,
          -0.21879562460799132,
          -0.21879562460799132,
          -0.21879562460799132,
          0.41607393116678604,
          0.8393203016833044,
          0.41607393116678604,
          -0.21879562460799132,
          -0.21879562460799132,
          -0.21879562460799132,
          3.3787985247824146,
          4.013668080557192,
          -0.21879562460799132,
          -0.21879562460799132,
          -0.21879562460799132,
          -0.21879562460799132,
          -0.21879562460799132,
          -0.21879562460799132,
          2.955552154265896,
          1.4741898574580818,
          -0.21879562460799132,
          -0.21879562460799132,
          -0.21879562460799132,
          -0.21879562460799132,
          2.1090594132328593,
          -0.21879562460799132,
          -0.21879562460799132,
          -0.21879562460799132,
          3.1671753395241553,
          0.8393203016833044,
          0.6276971164250452,
          -0.21879562460799132,
          2.5323057837493774,
          -0.21879562460799132,
          -0.21879562460799132,
          -0.21879562460799132,
          -0.21879562460799132,
          -0.21879562460799132,
          -0.21879562460799132,
          3.1671753395241553,
          4.225291265815451,
          -0.21879562460799132,
          1.2625666721998228,
          -0.21879562460799132,
          2.955552154265896,
          -0.21879562460799132,
          -0.21879562460799132,
          -0.21879562460799132,
          -0.21879562460799132,
          -0.21879562460799132,
          2.955552154265896,
          -0.21879562460799132,
          -0.21879562460799132,
          -0.21879562460799132,
          4.013668080557192,
          -0.21879562460799132,
          3.3787985247824146,
          1.0509434869415635,
          10.362363638304966,
          -0.21879562460799132,
          -0.21879562460799132,
          2.955552154265896,
          -0.21879562460799132,
          -0.21879562460799132,
          -0.21879562460799132,
          1.8974362279746002,
          -0.21879562460799132,
          2.5323057837493774,
          -0.21879562460799132,
          -0.21879562460799132,
          4.860160821590228,
          -0.21879562460799132,
          1.4741898574580818,
          -0.21879562460799132,
          -0.21879562460799132,
          1.685813042716341,
          2.320682598491118,
          0.41607393116678604,
          -0.21879562460799132,
          -0.21879562460799132,
          -0.21879562460799132,
          -0.21879562460799132,
          1.0509434869415635,
          -0.21879562460799132,
          -0.21879562460799132,
          1.0509434869415635,
          -0.21879562460799132,
          -0.21879562460799132,
          0.41607393116678604,
          1.2625666721998228,
          -0.21879562460799132,
          0.8393203016833044,
          0.6276971164250452,
          2.955552154265896,
          3.3787985247824146,
          -0.21879562460799132,
          1.4741898574580818,
          2.5323057837493774,
          2.5323057837493774,
          -0.21879562460799132,
          -0.21879562460799132,
          -0.21879562460799132,
          1.0509434869415635,
          -0.21879562460799132,
          0.41607393116678604,
          -0.21879562460799132,
          -0.21879562460799132,
          -0.21879562460799132,
          -0.21879562460799132,
          -0.21879562460799132,
          -0.21879562460799132,
          -0.21879562460799132,
          -0.21879562460799132,
          -0.21879562460799132,
          7.188015859431078,
          -0.21879562460799132,
          -0.21879562460799132
         ],
         "z": [
          -0.3912039074336018,
          0.584164987329264,
          -1.0933424277677823,
          -0.524641997270867,
          -0.41344358907314605,
          0.07582940699682583,
          0.021818751586504283,
          0.5936962794604973,
          0.13937135453838068,
          1.3720851368445437,
          -0.6676113792393652,
          -0.5182878025167115,
          0.04723553060312622,
          -0.2418803307109481,
          -0.7724555926829306,
          0.13937135453838068,
          -0.6199549185831991,
          -0.5182878025167115,
          -0.5913610421894994,
          -0.5309961920250225,
          -0.8296433454703299,
          0.8192701932330169,
          0.11077747814468107,
          -0.7661013979287751,
          -0.13703611726738268,
          0.5714565978209534,
          -0.19104677267770423,
          -0.11161933825076076,
          0.06629811486559267,
          0.1266629650300697,
          -0.7216220346496869,
          -0.2545887202192591,
          -0.5945381395665772,
          0.07265230961974817,
          -0.054431585463361534,
          -0.4579229523522343,
          0.8288014853642501,
          0.609581766345886,
          -0.1020880461195276,
          0.021818751586504283,
          -0.559590068418722,
          -0.44839166022100113,
          -0.3689642257940577,
          -0.11479643562783856,
          -0.3435474467774357,
          -0.13703611726738268,
          -0.2101093569401707,
          -0.057608682840439206,
          0.17431942568623593,
          0.7366656614289957,
          -1.169592764817648,
          0.4189559237212217,
          0.9082289197911936,
          -1.169592764817648,
          -0.07349416972582784,
          -0.07984836447998332,
          -0.5341732894021002,
          0.07265230961974817,
          -0.5341732894021002,
          -0.5405274841562556,
          0.24103847060486844,
          -0.15609870152984914,
          0.21562169158824648,
          -0.5913610421894994,
          -0.22599484382555934,
          0.4697894817544656,
          0.9495311856932042,
          -0.22917194120263715,
          -0.03854609857797275,
          -0.5913610421894994,
          0.8383327774954834,
          -0.07031707234875018,
          -0.20693225956309302,
          -0.06078578021751688,
          0.6445298374937413,
          -0.4166206864502237,
          1.0067189384806035,
          -0.3085993756295806,
          1.0353128148743034,
          -0.11161933825076076,
          -0.22599484382555934,
          0.1266629650300697,
          0.3840078525733665,
          -1.169592764817648,
          -0.8137578585849412,
          -0.6930281582559871,
          0.39989333945875544,
          -0.3562558362857467,
          -0.3022451808754251,
          -0.2609429149734146,
          0.7652595378226953,
          -0.08302546185706114,
          0.05358972535728171,
          -0.3816726153023686,
          0.1774965230633136,
          0.12348586765299203,
          -0.40708939431899055,
          -0.5786526526811885,
          -0.02266061169258411,
          0.7366656614289957,
          -0.6421946002227433,
          0.7017175902811404,
          2.198130454884756,
          -1.169592764817648,
          0.03452714109481526,
          -0.8296433454703299,
          -0.5659442631728776,
          -0.6739655739935206,
          0.14572554929253603,
          -1.169592764817648,
          0.26010105486733476,
          -0.3181306677608138,
          0.32046590503181194,
          -0.9471959484222063,
          -0.4896939261230117,
          0.35541397617966686,
          -0.14021321464446035,
          -0.5151107051396336,
          -0.24505742808802577,
          -0.3244848625149693,
          -0.07984836447998332,
          -0.9122478772743511,
          -0.28000549923588103,
          1.0162502306118366,
          2.0075046122600915,
          1.36255384471331,
          -0.06078578021751688,
          -0.5945381395665772,
          0.15207974404669164,
          0.4189559237212217,
          -0.6231320159602769,
          0.11077747814468107,
          -0.3435474467774357,
          0.3427055866713559,
          0.9209373092995046,
          -0.1751612857923156,
          -0.73115332678092,
          0.5460398188043314,
          0.43484141060661036,
          0.30775751552350095,
          -0.11161933825076076,
          0.19338200994870222,
          -0.1719841884152378,
          0.8732808486433383,
          -0.01312931956135081,
          -0.07349416972582784,
          -0.3848497126794463,
          -0.6517258923539765,
          -0.6390175028456656,
          -0.9821440195700615,
          0.771613732576851,
          -0.3244848625149693,
          -1.169592764817648,
          -0.09573385136537212,
          0.7970305115934728,
          -0.5278190946479446,
          -0.9567272405534395,
          -0.4293290759585347,
          0.6349985453625079,
          -0.7470388136663086,
          0.38083075519628884,
          -0.3753184205482131,
          -0.6803197687476761,
          -0.6962052556330649,
          0.021818751586504283,
          0.6445298374937413,
          -0.5627671657957998,
          -0.5754755553041107,
          -0.3943810048106796,
          -0.14021321464446035,
          0.10124618601344777,
          -0.8804769035035737,
          -0.3753184205482131,
          -0.5182878025167115,
          -0.2704742071046477,
          -0.6136007238290436,
          -0.09891094874244978,
          -0.4356832707126902,
          1.3085431893029886,
          -0.37214132317113546,
          0.9114060171682713,
          -0.6517258923539765,
          0.4189559237212217,
          1.4769293502881091,
          -0.09573385136537212,
          -0.6930281582559871,
          -0.2387032333338703,
          0.2759865417527234,
          -0.8105807612078635,
          -1.169592764817648,
          0.10442328339052544,
          -0.057608682840439206,
          -0.6549029897310542,
          0.1266629650300697,
          -0.057608682840439206,
          0.22833008109655747,
          -0.057608682840439206,
          -0.2895367913671142,
          -0.9313104615368175,
          0.32682009978596727,
          -0.4007351995648351,
          0.19338200994870222,
          -0.1688070910381601,
          0.04723553060312622,
          -0.09891094874244978,
          1.2005218784823457,
          0.609581766345886,
          -0.4896939261230117,
          -0.6898510608789092,
          0.6445298374937413,
          1.6643780955356957,
          -0.9980295064554501,
          0.917760211922427,
          -0.2768284018588032,
          0.879635043397494,
          -0.11161933825076076,
          0.6858321033957518,
          -0.21964064907140385,
          0.14890264666961397,
          -0.4738084392376231,
          1.2132302679906566,
          0.24739266535902377,
          -0.8201120533390966,
          0.4189559237212217,
          0.8256243879871724,
          -0.41979778382730154,
          -0.9122478772743511,
          -0.03854609857797275,
          -0.6263091133373546,
          0.05358972535728171,
          0.7843221220851618,
          0.6699466165103631,
          -0.49922521825424504,
          -0.4579229523522343,
          -0.658080087108132,
          -0.6072465290748882,
          -0.2545887202192591,
          0.6159359611000416,
          0.7366656614289957,
          0.48249787126277655,
          0.17431942568623593,
          -0.5754755553041107,
          -0.4166206864502237,
          0.5110917476564761,
          -0.019483514315506295,
          -0.016306416938428624,
          -0.9757898248159059,
          -0.49922521825424504,
          -0.035369001200895075,
          -0.0925567539882943,
          -0.5373503867791779,
          -0.9440188510451285,
          -0.3753184205482131,
          0.1266629650300697,
          0.4189559237212217,
          1.0988547624158578,
          0.304580418146423,
          0.22833008109655747,
          1.0639066912680029,
          -0.13703611726738268,
          -0.10526514349660526,
          -0.7788097874370861,
          -0.4356832707126902,
          -0.4007351995648351,
          -0.8296433454703299,
          0.4983833581481652,
          0.2346842758507128,
          -0.20375516218601522,
          -0.4420374654668457,
          1.3720851368445437,
          0.1774965230633136,
          -0.7025594503872202,
          0.17431942568623593,
          -0.6040694316978104,
          0.6635924217562075,
          0.9495311856932042,
          0.48249787126277655,
          0.04405843322604841,
          -0.14339031202153818,
          -0.41344358907314605,
          -1.169592764817648,
          0.2982262233922677,
          -0.37214132317113546,
          -0.12750482513614952,
          0.34905978142551153,
          -0.7057365477642981,
          0.2982262233922677,
          -0.2609429149734146,
          0.18702781519454661,
          -0.5405274841562556,
          -0.28000549923588103,
          -0.17833838316939327,
          0.07582940699682583,
          -0.0639628775945947,
          -0.816934955962019,
          -0.3085993756295806,
          0.25056976273610143,
          -0.43250617333561253,
          -0.1751612857923156,
          -0.3753184205482131,
          -0.3022451808754251,
          -0.25141162284218127,
          -0.14339031202153818,
          -0.23552613595679264,
          0.3458826840484336,
          0.14890264666961397,
          -0.1751612857923156,
          -0.2609429149734146,
          0.04405843322604841,
          0.48249787126277655,
          -0.4166206864502237,
          -0.21646355169432618,
          0.24103847060486844,
          0.6667695191332855,
          -0.292713888744192,
          0.8510411670037944,
          2.0075046122600915,
          0.3458826840484336,
          -0.5405274841562556,
          -0.08302546185706114,
          -0.42615197858145704,
          0.3585910735567445,
          1.2132302679906566,
          -0.24505742808802577,
          0.17431942568623593,
          -0.2895367913671142,
          0.15207974404669164,
          -0.035369001200895075,
          -0.3753184205482131,
          1.978910735866392,
          0.05994392011143719,
          0.4189559237212217,
          0.7398427588060733,
          0.4189559237212217,
          -0.3880268100565241,
          0.4189559237212217,
          0.08536069912805913,
          -0.30542227825250284,
          -0.6421946002227433,
          0.3427055866713559,
          -0.7756326900600085,
          -0.8741227087494182,
          -0.21964064907140385,
          0.4189559237212217,
          -0.6008923343207326,
          0.23150717847363514,
          0.3935391447045998,
          -0.4039122969419128,
          -0.5341732894021002,
          -0.45156875759807896,
          -0.3149535703837361,
          -0.6803197687476761,
          -0.11161933825076076,
          -0.5850068474353439,
          0.17114232830915796,
          -0.5913610421894994,
          0.2982262233922677,
          0.622290155854197,
          -0.22281774644848165,
          -0.11161933825076076,
          0.3141117102776563,
          -0.816934955962019,
          -0.08302546185706114,
          -0.3340161546462026,
          0.11713167289883641,
          -0.3213077651378916,
          0.10124618601344777,
          -0.2768284018588032,
          0.4189559237212217,
          -0.5627671657957998
         ]
        }
       ],
       "layout": {
        "scene": {
         "xaxis": {
          "exponentformat": "e",
          "showexponent": "all",
          "title": {
           "text": "0th"
          },
          "type": "linear"
         },
         "yaxis": {
          "exponentformat": "e",
          "showexponent": "all",
          "title": {
           "text": "1st"
          },
          "type": "linear"
         },
         "zaxis": {
          "exponentformat": "e",
          "showexponent": "all",
          "title": {
           "text": "2nd"
          },
          "type": "linear"
         }
        },
        "template": {
         "data": {
          "bar": [
           {
            "error_x": {
             "color": "#2a3f5f"
            },
            "error_y": {
             "color": "#2a3f5f"
            },
            "marker": {
             "line": {
              "color": "#E5ECF6",
              "width": 0.5
             },
             "pattern": {
              "fillmode": "overlay",
              "size": 10,
              "solidity": 0.2
             }
            },
            "type": "bar"
           }
          ],
          "barpolar": [
           {
            "marker": {
             "line": {
              "color": "#E5ECF6",
              "width": 0.5
             },
             "pattern": {
              "fillmode": "overlay",
              "size": 10,
              "solidity": 0.2
             }
            },
            "type": "barpolar"
           }
          ],
          "carpet": [
           {
            "aaxis": {
             "endlinecolor": "#2a3f5f",
             "gridcolor": "white",
             "linecolor": "white",
             "minorgridcolor": "white",
             "startlinecolor": "#2a3f5f"
            },
            "baxis": {
             "endlinecolor": "#2a3f5f",
             "gridcolor": "white",
             "linecolor": "white",
             "minorgridcolor": "white",
             "startlinecolor": "#2a3f5f"
            },
            "type": "carpet"
           }
          ],
          "choropleth": [
           {
            "colorbar": {
             "outlinewidth": 0,
             "ticks": ""
            },
            "type": "choropleth"
           }
          ],
          "contour": [
           {
            "colorbar": {
             "outlinewidth": 0,
             "ticks": ""
            },
            "colorscale": [
             [
              0,
              "#0d0887"
             ],
             [
              0.1111111111111111,
              "#46039f"
             ],
             [
              0.2222222222222222,
              "#7201a8"
             ],
             [
              0.3333333333333333,
              "#9c179e"
             ],
             [
              0.4444444444444444,
              "#bd3786"
             ],
             [
              0.5555555555555556,
              "#d8576b"
             ],
             [
              0.6666666666666666,
              "#ed7953"
             ],
             [
              0.7777777777777778,
              "#fb9f3a"
             ],
             [
              0.8888888888888888,
              "#fdca26"
             ],
             [
              1,
              "#f0f921"
             ]
            ],
            "type": "contour"
           }
          ],
          "contourcarpet": [
           {
            "colorbar": {
             "outlinewidth": 0,
             "ticks": ""
            },
            "type": "contourcarpet"
           }
          ],
          "heatmap": [
           {
            "colorbar": {
             "outlinewidth": 0,
             "ticks": ""
            },
            "colorscale": [
             [
              0,
              "#0d0887"
             ],
             [
              0.1111111111111111,
              "#46039f"
             ],
             [
              0.2222222222222222,
              "#7201a8"
             ],
             [
              0.3333333333333333,
              "#9c179e"
             ],
             [
              0.4444444444444444,
              "#bd3786"
             ],
             [
              0.5555555555555556,
              "#d8576b"
             ],
             [
              0.6666666666666666,
              "#ed7953"
             ],
             [
              0.7777777777777778,
              "#fb9f3a"
             ],
             [
              0.8888888888888888,
              "#fdca26"
             ],
             [
              1,
              "#f0f921"
             ]
            ],
            "type": "heatmap"
           }
          ],
          "heatmapgl": [
           {
            "colorbar": {
             "outlinewidth": 0,
             "ticks": ""
            },
            "colorscale": [
             [
              0,
              "#0d0887"
             ],
             [
              0.1111111111111111,
              "#46039f"
             ],
             [
              0.2222222222222222,
              "#7201a8"
             ],
             [
              0.3333333333333333,
              "#9c179e"
             ],
             [
              0.4444444444444444,
              "#bd3786"
             ],
             [
              0.5555555555555556,
              "#d8576b"
             ],
             [
              0.6666666666666666,
              "#ed7953"
             ],
             [
              0.7777777777777778,
              "#fb9f3a"
             ],
             [
              0.8888888888888888,
              "#fdca26"
             ],
             [
              1,
              "#f0f921"
             ]
            ],
            "type": "heatmapgl"
           }
          ],
          "histogram": [
           {
            "marker": {
             "pattern": {
              "fillmode": "overlay",
              "size": 10,
              "solidity": 0.2
             }
            },
            "type": "histogram"
           }
          ],
          "histogram2d": [
           {
            "colorbar": {
             "outlinewidth": 0,
             "ticks": ""
            },
            "colorscale": [
             [
              0,
              "#0d0887"
             ],
             [
              0.1111111111111111,
              "#46039f"
             ],
             [
              0.2222222222222222,
              "#7201a8"
             ],
             [
              0.3333333333333333,
              "#9c179e"
             ],
             [
              0.4444444444444444,
              "#bd3786"
             ],
             [
              0.5555555555555556,
              "#d8576b"
             ],
             [
              0.6666666666666666,
              "#ed7953"
             ],
             [
              0.7777777777777778,
              "#fb9f3a"
             ],
             [
              0.8888888888888888,
              "#fdca26"
             ],
             [
              1,
              "#f0f921"
             ]
            ],
            "type": "histogram2d"
           }
          ],
          "histogram2dcontour": [
           {
            "colorbar": {
             "outlinewidth": 0,
             "ticks": ""
            },
            "colorscale": [
             [
              0,
              "#0d0887"
             ],
             [
              0.1111111111111111,
              "#46039f"
             ],
             [
              0.2222222222222222,
              "#7201a8"
             ],
             [
              0.3333333333333333,
              "#9c179e"
             ],
             [
              0.4444444444444444,
              "#bd3786"
             ],
             [
              0.5555555555555556,
              "#d8576b"
             ],
             [
              0.6666666666666666,
              "#ed7953"
             ],
             [
              0.7777777777777778,
              "#fb9f3a"
             ],
             [
              0.8888888888888888,
              "#fdca26"
             ],
             [
              1,
              "#f0f921"
             ]
            ],
            "type": "histogram2dcontour"
           }
          ],
          "mesh3d": [
           {
            "colorbar": {
             "outlinewidth": 0,
             "ticks": ""
            },
            "type": "mesh3d"
           }
          ],
          "parcoords": [
           {
            "line": {
             "colorbar": {
              "outlinewidth": 0,
              "ticks": ""
             }
            },
            "type": "parcoords"
           }
          ],
          "pie": [
           {
            "automargin": true,
            "type": "pie"
           }
          ],
          "scatter": [
           {
            "fillpattern": {
             "fillmode": "overlay",
             "size": 10,
             "solidity": 0.2
            },
            "type": "scatter"
           }
          ],
          "scatter3d": [
           {
            "line": {
             "colorbar": {
              "outlinewidth": 0,
              "ticks": ""
             }
            },
            "marker": {
             "colorbar": {
              "outlinewidth": 0,
              "ticks": ""
             }
            },
            "type": "scatter3d"
           }
          ],
          "scattercarpet": [
           {
            "marker": {
             "colorbar": {
              "outlinewidth": 0,
              "ticks": ""
             }
            },
            "type": "scattercarpet"
           }
          ],
          "scattergeo": [
           {
            "marker": {
             "colorbar": {
              "outlinewidth": 0,
              "ticks": ""
             }
            },
            "type": "scattergeo"
           }
          ],
          "scattergl": [
           {
            "marker": {
             "colorbar": {
              "outlinewidth": 0,
              "ticks": ""
             }
            },
            "type": "scattergl"
           }
          ],
          "scattermapbox": [
           {
            "marker": {
             "colorbar": {
              "outlinewidth": 0,
              "ticks": ""
             }
            },
            "type": "scattermapbox"
           }
          ],
          "scatterpolar": [
           {
            "marker": {
             "colorbar": {
              "outlinewidth": 0,
              "ticks": ""
             }
            },
            "type": "scatterpolar"
           }
          ],
          "scatterpolargl": [
           {
            "marker": {
             "colorbar": {
              "outlinewidth": 0,
              "ticks": ""
             }
            },
            "type": "scatterpolargl"
           }
          ],
          "scatterternary": [
           {
            "marker": {
             "colorbar": {
              "outlinewidth": 0,
              "ticks": ""
             }
            },
            "type": "scatterternary"
           }
          ],
          "surface": [
           {
            "colorbar": {
             "outlinewidth": 0,
             "ticks": ""
            },
            "colorscale": [
             [
              0,
              "#0d0887"
             ],
             [
              0.1111111111111111,
              "#46039f"
             ],
             [
              0.2222222222222222,
              "#7201a8"
             ],
             [
              0.3333333333333333,
              "#9c179e"
             ],
             [
              0.4444444444444444,
              "#bd3786"
             ],
             [
              0.5555555555555556,
              "#d8576b"
             ],
             [
              0.6666666666666666,
              "#ed7953"
             ],
             [
              0.7777777777777778,
              "#fb9f3a"
             ],
             [
              0.8888888888888888,
              "#fdca26"
             ],
             [
              1,
              "#f0f921"
             ]
            ],
            "type": "surface"
           }
          ],
          "table": [
           {
            "cells": {
             "fill": {
              "color": "#EBF0F8"
             },
             "line": {
              "color": "white"
             }
            },
            "header": {
             "fill": {
              "color": "#C8D4E3"
             },
             "line": {
              "color": "white"
             }
            },
            "type": "table"
           }
          ]
         },
         "layout": {
          "annotationdefaults": {
           "arrowcolor": "#2a3f5f",
           "arrowhead": 0,
           "arrowwidth": 1
          },
          "autotypenumbers": "strict",
          "coloraxis": {
           "colorbar": {
            "outlinewidth": 0,
            "ticks": ""
           }
          },
          "colorscale": {
           "diverging": [
            [
             0,
             "#8e0152"
            ],
            [
             0.1,
             "#c51b7d"
            ],
            [
             0.2,
             "#de77ae"
            ],
            [
             0.3,
             "#f1b6da"
            ],
            [
             0.4,
             "#fde0ef"
            ],
            [
             0.5,
             "#f7f7f7"
            ],
            [
             0.6,
             "#e6f5d0"
            ],
            [
             0.7,
             "#b8e186"
            ],
            [
             0.8,
             "#7fbc41"
            ],
            [
             0.9,
             "#4d9221"
            ],
            [
             1,
             "#276419"
            ]
           ],
           "sequential": [
            [
             0,
             "#0d0887"
            ],
            [
             0.1111111111111111,
             "#46039f"
            ],
            [
             0.2222222222222222,
             "#7201a8"
            ],
            [
             0.3333333333333333,
             "#9c179e"
            ],
            [
             0.4444444444444444,
             "#bd3786"
            ],
            [
             0.5555555555555556,
             "#d8576b"
            ],
            [
             0.6666666666666666,
             "#ed7953"
            ],
            [
             0.7777777777777778,
             "#fb9f3a"
            ],
            [
             0.8888888888888888,
             "#fdca26"
            ],
            [
             1,
             "#f0f921"
            ]
           ],
           "sequentialminus": [
            [
             0,
             "#0d0887"
            ],
            [
             0.1111111111111111,
             "#46039f"
            ],
            [
             0.2222222222222222,
             "#7201a8"
            ],
            [
             0.3333333333333333,
             "#9c179e"
            ],
            [
             0.4444444444444444,
             "#bd3786"
            ],
            [
             0.5555555555555556,
             "#d8576b"
            ],
            [
             0.6666666666666666,
             "#ed7953"
            ],
            [
             0.7777777777777778,
             "#fb9f3a"
            ],
            [
             0.8888888888888888,
             "#fdca26"
            ],
            [
             1,
             "#f0f921"
            ]
           ]
          },
          "colorway": [
           "#636efa",
           "#EF553B",
           "#00cc96",
           "#ab63fa",
           "#FFA15A",
           "#19d3f3",
           "#FF6692",
           "#B6E880",
           "#FF97FF",
           "#FECB52"
          ],
          "font": {
           "color": "#2a3f5f"
          },
          "geo": {
           "bgcolor": "white",
           "lakecolor": "white",
           "landcolor": "#E5ECF6",
           "showlakes": true,
           "showland": true,
           "subunitcolor": "white"
          },
          "hoverlabel": {
           "align": "left"
          },
          "hovermode": "closest",
          "mapbox": {
           "style": "light"
          },
          "paper_bgcolor": "white",
          "plot_bgcolor": "#E5ECF6",
          "polar": {
           "angularaxis": {
            "gridcolor": "white",
            "linecolor": "white",
            "ticks": ""
           },
           "bgcolor": "#E5ECF6",
           "radialaxis": {
            "gridcolor": "white",
            "linecolor": "white",
            "ticks": ""
           }
          },
          "scene": {
           "xaxis": {
            "backgroundcolor": "#E5ECF6",
            "gridcolor": "white",
            "gridwidth": 2,
            "linecolor": "white",
            "showbackground": true,
            "ticks": "",
            "zerolinecolor": "white"
           },
           "yaxis": {
            "backgroundcolor": "#E5ECF6",
            "gridcolor": "white",
            "gridwidth": 2,
            "linecolor": "white",
            "showbackground": true,
            "ticks": "",
            "zerolinecolor": "white"
           },
           "zaxis": {
            "backgroundcolor": "#E5ECF6",
            "gridcolor": "white",
            "gridwidth": 2,
            "linecolor": "white",
            "showbackground": true,
            "ticks": "",
            "zerolinecolor": "white"
           }
          },
          "shapedefaults": {
           "line": {
            "color": "#2a3f5f"
           }
          },
          "ternary": {
           "aaxis": {
            "gridcolor": "white",
            "linecolor": "white",
            "ticks": ""
           },
           "baxis": {
            "gridcolor": "white",
            "linecolor": "white",
            "ticks": ""
           },
           "bgcolor": "#E5ECF6",
           "caxis": {
            "gridcolor": "white",
            "linecolor": "white",
            "ticks": ""
           }
          },
          "title": {
           "x": 0.05
          },
          "xaxis": {
           "automargin": true,
           "gridcolor": "white",
           "linecolor": "white",
           "ticks": "",
           "title": {
            "standoff": 15
           },
           "zerolinecolor": "white",
           "zerolinewidth": 2
          },
          "yaxis": {
           "automargin": true,
           "gridcolor": "white",
           "linecolor": "white",
           "ticks": "",
           "title": {
            "standoff": 15
           },
           "zerolinecolor": "white",
           "zerolinewidth": 2
          }
         }
        }
       }
      }
     },
     "metadata": {},
     "output_type": "display_data"
    }
   ],
   "source": [
    "from sklearn.decomposition import PCA\n",
    "from gtda.plotting import plot_point_cloud\n",
    "#pca = PCA(n_components=3)\n",
    "#values = pca.fit_transform(values)\n",
    "origin_values = dataset.X_features_numeric[member_l, :][:, np.array([12,  13, 111])]\n",
    "plot_point_cloud(origin_values)\n"
   ]
  },
  {
   "cell_type": "code",
   "execution_count": 71,
   "metadata": {},
   "outputs": [
    {
     "data": {
      "text/plain": [
       "(3, 135)"
      ]
     },
     "execution_count": 71,
     "metadata": {},
     "output_type": "execute_result"
    }
   ],
   "source": [
    "origin_values.shape"
   ]
  },
  {
   "cell_type": "code",
   "execution_count": 51,
   "metadata": {},
   "outputs": [
    {
     "ename": "ValueError",
     "evalue": "too many values to unpack (expected 2)",
     "output_type": "error",
     "traceback": [
      "\u001b[1;31m---------------------------------------------------------------------------\u001b[0m",
      "\u001b[1;31mValueError\u001b[0m                                Traceback (most recent call last)",
      "\u001b[1;32m~\\AppData\\Local\\Temp\\ipykernel_108580\\1277784179.py\u001b[0m in \u001b[0;36m<module>\u001b[1;34m\u001b[0m\n\u001b[1;32m----> 1\u001b[1;33m \u001b[0ma\u001b[0m\u001b[1;33m,\u001b[0m \u001b[0mdf\u001b[0m \u001b[1;33m=\u001b[0m \u001b[0mdataset\u001b[0m\u001b[1;33m.\u001b[0m\u001b[0mget_members\u001b[0m\u001b[1;33m(\u001b[0m\u001b[0mres\u001b[0m\u001b[1;33m)\u001b[0m\u001b[1;33m\u001b[0m\u001b[1;33m\u001b[0m\u001b[0m\n\u001b[0m\u001b[0;32m      2\u001b[0m \u001b[1;31m# 先求出点云的最中心位置\u001b[0m\u001b[1;33m\u001b[0m\u001b[1;33m\u001b[0m\u001b[0m\n\u001b[0;32m      3\u001b[0m \u001b[1;31m# 后面一步，我的想法是，不是求最小化cos值的，而是计算让cos值小于一定范围的\u001b[0m\u001b[1;33m\u001b[0m\u001b[1;33m\u001b[0m\u001b[0m\n\u001b[0;32m      4\u001b[0m \u001b[1;33m(\u001b[0m\u001b[0mdf\u001b[0m\u001b[1;33m.\u001b[0m\u001b[0mvalues\u001b[0m \u001b[1;33m-\u001b[0m \u001b[0mdf\u001b[0m\u001b[1;33m.\u001b[0m\u001b[0mvalues\u001b[0m\u001b[1;33m.\u001b[0m\u001b[0mmean\u001b[0m\u001b[1;33m(\u001b[0m\u001b[0maxis\u001b[0m\u001b[1;33m=\u001b[0m\u001b[1;36m0\u001b[0m\u001b[1;33m)\u001b[0m\u001b[1;33m)\u001b[0m\u001b[1;33m.\u001b[0m\u001b[0mshape\u001b[0m\u001b[1;33m\u001b[0m\u001b[1;33m\u001b[0m\u001b[0m\n",
      "\u001b[1;31mValueError\u001b[0m: too many values to unpack (expected 2)"
     ]
    }
   ],
   "source": [
    "a, df = dataset.get_members(res)\n",
    "# 先求出点云的最中心位置\n",
    "# 后面一步，我的想法是，不是求最小化cos值的，而是计算让cos值小于一定范围的\n",
    "(df.values - df.values.mean(axis=0)).shape\n"
   ]
  },
  {
   "cell_type": "code",
   "execution_count": null,
   "metadata": {},
   "outputs": [
    {
     "name": "stdout",
     "output_type": "stream",
     "text": [
      "0.063851029551173\n",
      "0.024151818321576722\n",
      "[-2.54250181e+00 -2.11865090e+00 -1.69479999e+00 -1.27094908e+00\n",
      " -8.47098164e-01 -4.23247253e-01  6.03658085e-04  4.24454569e-01\n",
      "  8.48305480e-01  1.27215639e+00  1.69600730e+00]\n",
      "[-1.96884187]\n",
      "3\n",
      "[-2.54250181 -1.75916604 -0.4966726  -0.28493456 -0.01881338  0.12057657\n",
      "  0.39220652  0.56767407  0.80134009  1.1952677 ]\n"
     ]
    }
   ],
   "source": [
    "cen = np.array([v for k, v in dataset.closeCenResult.items()])\n",
    "print(cen.mean())\n",
    "print(cen.std())\n",
    "scaler = StandardScaler()\n",
    "re = scaler.fit_transform(cen.reshape(-1, 1))\n",
    "count, seper = np.histogram(re, bins=10)\n",
    "print(seper)\n",
    "print(re[0])\n",
    "print((seper < re[0]).sum()+1)\n",
    "re.sort(axis=0)\n",
    "bins = np.array_split(re, 10)\n",
    "bin_counts = np.array([b.min() for b in bins])\n",
    "print(bin_counts)  # 每个区间的个数\n",
    "#print(bins)\n"
   ]
  },
  {
   "cell_type": "code",
   "execution_count": null,
   "metadata": {},
   "outputs": [
    {
     "name": "stdout",
     "output_type": "stream",
     "text": [
      "0.063851029551173\n",
      "0.024151818321576722\n"
     ]
    },
    {
     "data": {
      "image/png": "[encoded data removed]",
      "text/plain": [
       "<Figure size 640x480 with 1 Axes>"
      ]
     },
     "metadata": {},
     "output_type": "display_data"
    }
   ],
   "source": [
    "cen = np.array([v for k, v in dataset.closeCenResult.items()])\n",
    "print(cen.mean())\n",
    "print(cen.std())\n",
    "plt.hist(cen)\n",
    "plt.show()"
   ]
  },
  {
   "cell_type": "code",
   "execution_count": null,
   "metadata": {},
   "outputs": [
    {
     "name": "stdout",
     "output_type": "stream",
     "text": [
      "3.4660621256590254e-16\n",
      "1.0\n"
     ]
    },
    {
     "data": {
      "image/png": "[encoded data removed]",
      "text/plain": [
       "<Figure size 640x480 with 1 Axes>"
      ]
     },
     "metadata": {},
     "output_type": "display_data"
    }
   ],
   "source": [
    "scaler = StandardScaler()\n",
    "re = scaler.fit_transform(cen.reshape(-1, 1))\n",
    "print(re.mean())\n",
    "print(re.std())\n",
    "plt.hist(re)\n",
    "plt.show()"
   ]
  },
  {
   "cell_type": "code",
   "execution_count": null,
   "metadata": {},
   "outputs": [],
   "source": []
  }
 ],
 "metadata": {
  "kernelspec": {
   "display_name": "base",
   "language": "python",
   "name": "python3"
  },
  "language_info": {
   "codemirror_mode": {
    "name": "ipython",
    "version": 3
   },
   "file_extension": ".py",
   "mimetype": "text/x-python",
   "name": "python",
   "nbconvert_exporter": "python",
   "pygments_lexer": "ipython3",
   "version": "3.9.13"
  }
 },
 "nbformat": 4,
 "nbformat_minor": 2
}
