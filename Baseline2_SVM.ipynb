{
 "cells": [
  {
   "cell_type": "code",
   "execution_count": 1,
   "metadata": {},
   "outputs": [],
   "source": [
    "# 先从简单的CNN开始写吧，嘶，主要是数据太少了orzzzzz\n",
    "# 所以只能做分类了，完蛋，我开始写之前怎么就没想到这点呢\n",
    "# 没事，3个类，33个数据一类，勉勉强强够了，大不了我自己再洗一年的数据\n",
    "\n",
    "import pandas as pd\n",
    "from utils import randomSplit, Accumulator\n",
    "from torch import nn\n",
    "import torch\n",
    "import numpy as np\n",
    "from sklearn.preprocessing import StandardScaler  # 归一化\n",
    "from sklearn.model_selection import KFold         # k折交叉验\n",
    "from sklearn.decomposition import PCA             # pca\n",
    "\n",
    "def rank2class(df):\n",
    "    if df['LgRk'] <= 6:\n",
    "        return 0\n",
    "    elif 6 < df['LgRk'] <= 13:\n",
    "        return 1\n",
    "    else:\n",
    "        return 2"
   ]
  },
  {
   "cell_type": "code",
   "execution_count": 2,
   "metadata": {},
   "outputs": [
    {
     "name": "stdout",
     "output_type": "stream",
     "text": [
      "(98, 405)\n"
     ]
    }
   ],
   "source": [
    "class myDataset():\n",
    "    def __init__(self, renorm=False, pca=False):\n",
    "        self.player = pd.read_csv('datacleaning/modified_data.csv', header=0, encoding='unicode_escape', delimiter=';')\n",
    "        self.player = self.player.drop(['Rk', 'Player', 'Nation', 'Pos', 'Comp', 'Age', 'Born'], axis=1)\n",
    "        if renorm:\n",
    "            scaler = StandardScaler()  # z score 归一化\n",
    "            for col in self.player.columns:\n",
    "                if col == 'Squad': continue\n",
    "                self.player[[col]] = scaler.fit_transform(self.player[[col]])\n",
    "\n",
    "\n",
    "        self.league = pd.read_excel('datacleaning/Big 5 European Leagues.xlsx', sheet_name='Big 5 European Leagues Stats')\n",
    "        self.league['tier'] = self.league.apply(rank2class, axis=1)\n",
    "        self.league = self.league[['Squad', 'tier']]\n",
    "\n",
    "        self.X = []\n",
    "        self.y = []\n",
    "        for id in self.league.index:\n",
    "            squad = self.league.at[id, 'Squad']\n",
    "            self.X.append(self.Squad2Player(squad).reshape((1, -1)))  # reshape (207,)  -> (1, 270)\n",
    "            self.y.append(self.league.at[id, 'tier'])\n",
    "\n",
    "        self.X = np.concatenate(self.X, axis=0)\n",
    "        self.y = np.array(self.y)\n",
    "\n",
    "        if pca:\n",
    "            pca = PCA(n_components=15)   # 15 is best\n",
    "            pca.fit(self.X)\n",
    "            self.X = pca.transform(self.X)\n",
    "            #print(sum(pca.explained_variance_ratio_))  # 测试此时的总解释方差达到 99%\n",
    "\n",
    "    def Squad2Player(self, squad):\n",
    "        \"输入squad的名字，输出球队球员的数据\"\n",
    "        re = self.player[self.player['Squad'] == squad].drop('Squad', axis=1)\n",
    "        re = re.values\n",
    "        mean = np.mean(re, axis=0)\n",
    "        max = np.max(re, axis=0)\n",
    "        min = np.min(re, axis=0)\n",
    "        re = np.concatenate((mean, max, min), axis=0)\n",
    "        #print(re.shape) # 135*5\n",
    "        return re      \n",
    "\n",
    "    # 使用K折交叉验证\n",
    "    def DataIter(self, K=10, shuffle=True):\n",
    "        KF = KFold(n_splits=K, shuffle=shuffle)  \n",
    "        for train_index, test_index in KF.split(self.X):\n",
    "            #print(\"TRAIN\", train_index, \"TEST\", test_index)\n",
    "            X_train, X_test = self.X[train_index], self.X[test_index]\n",
    "            Y_train, Y_test = self.y[train_index], self.y[test_index]\n",
    "            yield X_train, Y_train, X_test, Y_test\n",
    "    \n",
    "\n",
    "mydataset = myDataset()\n",
    "print(mydataset.X.shape)"
   ]
  },
  {
   "cell_type": "code",
   "execution_count": 3,
   "metadata": {},
   "outputs": [
    {
     "name": "stdout",
     "output_type": "stream",
     "text": [
      "训练集： 1.0  测试集： 0.7\n",
      "训练集： 1.0  测试集： 0.7\n",
      "训练集： 1.0  测试集： 0.5\n",
      "训练集： 1.0  测试集： 0.5\n",
      "训练集： 1.0  测试集： 0.4\n",
      "训练集： 1.0  测试集： 0.8\n",
      "训练集： 1.0  测试集： 0.3\n",
      "训练集： 1.0  测试集： 0.4\n",
      "训练集： 1.0  测试集： 0.4444444444444444\n",
      "训练集： 1.0  测试集： 0.6666666666666666\n",
      "估计泛化误差：0.541\n"
     ]
    }
   ],
   "source": [
    "# SVM\n",
    "from sklearn import svm\n",
    "mydataset = myDataset(renorm=0)\n",
    "record = []\n",
    "for X_train, Y_train, X_test, Y_test in mydataset.DataIter():\n",
    "    model = svm.SVC(\n",
    "        C=1.0,\n",
    "        kernel='linear',  # linear效果最好\n",
    "        gamma='scale',\n",
    "        decision_function_shape='ovo'\n",
    "    )\n",
    "    model.fit(X_train, Y_train.ravel())    #ravel函数在降维时默认是行序优先\n",
    "    #利用classifier.score（）分别计算训练集和测试集的准确率。\n",
    "    train_score = model.score(X_train, Y_train)\n",
    "    print(\"训练集：\",train_score, end='  ')\n",
    "    test_score = model.score(X_test, Y_test)\n",
    "    print(\"测试集：\",test_score)\n",
    "    record.append(test_score)\n",
    "    \n",
    "print(f'估计泛化误差：{sum(record)/len(record):.3f}')\n"
   ]
  },
  {
   "cell_type": "code",
   "execution_count": 4,
   "metadata": {},
   "outputs": [
    {
     "name": "stdout",
     "output_type": "stream",
     "text": [
      "(98, 15)\n",
      "训练集： 0.875  测试集： 0.5\n",
      "训练集： 0.8636363636363636  测试集： 0.6\n",
      "训练集： 0.8409090909090909  测试集： 0.6\n",
      "训练集： 0.7954545454545454  测试集： 0.7\n",
      "训练集： 0.8636363636363636  测试集： 0.5\n",
      "训练集： 0.8636363636363636  测试集： 0.4\n",
      "训练集： 0.8295454545454546  测试集： 0.7\n",
      "训练集： 0.8068181818181818  测试集： 0.5\n",
      "训练集： 0.8651685393258427  测试集： 0.4444444444444444\n",
      "训练集： 0.8089887640449438  测试集： 0.7777777777777778\n",
      "估计泛化误差：0.572\n"
     ]
    }
   ],
   "source": [
    "# SVM + pca\n",
    "# 感觉要被baseline薄纱了\n",
    "mydataset = myDataset(pca=1)\n",
    "print(mydataset.X.shape)\n",
    "record = []\n",
    "for X_train, Y_train, X_test, Y_test in mydataset.DataIter():\n",
    "    model = svm.SVC(\n",
    "        C=1.0,\n",
    "        kernel='linear',\n",
    "        gamma='scale',\n",
    "        decision_function_shape='ovo'\n",
    "    )\n",
    "    model.fit(X_train, Y_train.ravel())    #ravel函数在降维时默认是行序优先\n",
    "    #利用classifier.score（）分别计算训练集和测试集的准确率。\n",
    "    train_score = model.score(X_train, Y_train)\n",
    "    print(\"训练集：\", train_score,  end='  ')\n",
    "    test_score = model.score(X_test, Y_test)\n",
    "    print(\"测试集：\",test_score)\n",
    "    record.append(test_score)\n",
    "    \n",
    "print(f'估计泛化误差：{sum(record)/len(record):.3f}')\n"
   ]
  },
  {
   "cell_type": "code",
   "execution_count": 5,
   "metadata": {},
   "outputs": [
    {
     "data": {
      "application/vnd.plotly.v1+json": {
       "config": {
        "plotlyServerURL": "https://plot.ly"
       },
       "data": [
        {
         "marker": {
          "color": [
           0,
           1,
           2,
           3,
           4,
           5,
           6,
           7,
           8,
           9,
           10,
           11,
           12,
           13,
           14,
           15,
           16,
           17,
           18,
           19,
           20,
           21,
           22,
           23,
           24,
           25,
           26,
           27,
           28,
           29,
           30,
           31,
           32,
           33,
           34,
           35,
           36,
           37,
           38,
           39,
           40,
           41,
           42,
           43,
           44,
           45,
           46,
           47,
           48,
           49,
           50,
           51,
           52,
           53,
           54,
           55,
           56,
           57,
           58,
           59,
           60,
           61,
           62,
           63,
           64,
           65,
           66,
           67,
           68,
           69,
           70,
           71,
           72,
           73,
           74,
           75,
           76,
           77,
           78,
           79,
           80,
           81,
           82,
           83,
           84,
           85,
           86,
           87,
           88,
           89,
           90,
           91,
           92,
           93,
           94,
           95,
           96,
           97
          ],
          "colorscale": [
           [
            0,
            "#440154"
           ],
           [
            0.1111111111111111,
            "#482878"
           ],
           [
            0.2222222222222222,
            "#3e4989"
           ],
           [
            0.3333333333333333,
            "#31688e"
           ],
           [
            0.4444444444444444,
            "#26828e"
           ],
           [
            0.5555555555555556,
            "#1f9e89"
           ],
           [
            0.6666666666666666,
            "#35b779"
           ],
           [
            0.7777777777777778,
            "#6ece58"
           ],
           [
            0.8888888888888888,
            "#b5de2b"
           ],
           [
            1,
            "#fde725"
           ]
          ],
          "opacity": 0.8,
          "size": 4
         },
         "mode": "markers",
         "type": "scatter3d",
         "x": [
          556.9310186625722,
          330.9721273452487,
          954.7533880401969,
          771.2270093801433,
          584.1237841006641,
          62.375149203321975,
          164.93333209703624,
          44.96924201922089,
          1470.2873060100458,
          390.35718052335625,
          433.2285789198201,
          52.879948848377595,
          -58.3145714253428,
          321.03793908223065,
          -263.1240863969026,
          1862.9540052972675,
          114.74447748470483,
          881.5995960181058,
          -293.7052901059804,
          270.6735628052892,
          72.77039761364252,
          395.5175786831627,
          -216.960248603302,
          188.28408440976742,
          -395.48544036700065,
          -298.3508128118779,
          -45.10483956114671,
          1.981214699918831,
          180.68890684992724,
          -254.13233417787896,
          398.2372695445367,
          338.71733498533183,
          -21.469422561395692,
          -320.7374278566079,
          67.49742768249688,
          -236.52612438957314,
          43.56092480372916,
          319.67625056968404,
          -399.74495339209665,
          1269.4586609032724,
          -327.1608051123787,
          112.95586623183745,
          -508.88743161202893,
          281.95586397709087,
          86.3062874297798,
          -56.301916351513505,
          -463.77729379577545,
          156.53039476892576,
          22.658387013025028,
          -554.1830595468832,
          39.613072408123564,
          -508.8462060535897,
          -439.05465678069424,
          -349.8201477325193,
          -8.553250033388967,
          -178.46252308595797,
          122.27682160244909,
          -158.79172715610883,
          -115.66554434911068,
          -575.549392230119,
          -294.36394538598194,
          317.7458800773719,
          -382.26855986258255,
          -26.232102658388776,
          -590.195605519586,
          322.0495061635974,
          -391.61201705458143,
          -115.13663599338123,
          -188.47711988182084,
          -324.01352671768626,
          -521.704457277391,
          -500.6305512658788,
          -420.6450532181496,
          -409.24009074653884,
          -477.0368817080606,
          -215.75002207956385,
          -478.5870163348257,
          -349.6408052843644,
          390.11650607856546,
          -189.3433378405399,
          888.7067616933047,
          -208.8112915083334,
          -513.3226059023393,
          294.04558858072795,
          -345.77686073189415,
          -400.43107795305184,
          789.7647674859534,
          -22.587820339568076,
          -493.7157586354752,
          -322.9067810527414,
          -35.39139351569738,
          -380.0583021014002,
          -330.1069385700952,
          -304.6319926000434,
          1164.6270818458597,
          -568.4800257642795,
          -421.4835191886542,
          -262.498879757601
         ],
         "y": [
          -291.6097827687982,
          -183.41337579022965,
          134.87838713217724,
          155.72077071101475,
          -128.23215204585486,
          181.12319749040233,
          -275.69492106252164,
          33.65715614625038,
          421.11799163377617,
          -41.72114877519539,
          25.074800003971617,
          260.4933273339545,
          -389.388543574177,
          -194.56595688854154,
          -336.0220352332664,
          244.75692383227258,
          90.00933454310683,
          -305.09210850814975,
          -13.300843500204161,
          -138.6530313170455,
          -238.2288866887313,
          188.73788360449478,
          307.949981063502,
          -55.56585904406545,
          179.08877438977115,
          -274.4735893536693,
          -302.5040710980669,
          -247.14177692868378,
          -71.86434028566471,
          -155.64173042292896,
          94.35017242184796,
          95.34441991356348,
          178.85970829038231,
          183.14919915924295,
          441.682960694209,
          -311.8398284139621,
          -274.01030254767966,
          -315.66168371979734,
          -42.1901031252365,
          -494.0778108026308,
          45.43125811356235,
          -236.94649989412082,
          211.63814610248707,
          216.9010415909995,
          -284.1782903853431,
          -305.32895993489177,
          132.18774802178493,
          -255.7387106358028,
          132.2278903667206,
          281.8331174268609,
          -206.99756379620123,
          523.4646914574495,
          -365.478639640707,
          -52.1734122054598,
          220.19842125376542,
          168.6320378753391,
          244.85821295065193,
          -149.03097964630584,
          -353.9079773566389,
          -182.835640963959,
          -189.188636682216,
          -10.78244947780262,
          -186.9387957172864,
          78.52254411123167,
          58.52605212882936,
          -116.37309293867699,
          216.24015724775444,
          -193.2285554329389,
          -72.58275713798001,
          -323.46901886943834,
          -169.02529624523683,
          -270.4203988689439,
          -205.3921920319421,
          2.839827530753404,
          9.966698153590707,
          225.15150380258294,
          149.14162827676384,
          -261.2836742173147,
          322.776377834364,
          794.6924548193364,
          88.64189132217408,
          -96.66319515395723,
          -94.70513612710303,
          -275.64557835647133,
          -192.19658921342267,
          394.88661145435645,
          166.97280838343062,
          199.90098654467644,
          508.73336501424563,
          88.69835320353424,
          673.028492683308,
          678.2381173214505,
          -151.4340382784937,
          -46.843399072525685,
          118.79761133332441,
          -68.65927305797582,
          -142.41020330242685,
          371.6298018474396
         ],
         "z": [
          -157.6202819887894,
          -175.9338877994425,
          210.2349687425873,
          -61.40021767964218,
          -66.54007183435223,
          -136.1073057630675,
          -117.3467960916239,
          -117.14216851580312,
          -188.10804640660788,
          -126.11918041965826,
          86.44653724680242,
          -1.2065593521246616,
          -122.45042072701708,
          -9.88984397532233,
          -137.0508114505157,
          -330.3579044795529,
          182.16764937614224,
          -102.14758010104016,
          -150.51633353738922,
          42.538254792102364,
          -158.98291510803293,
          -148.41935445749675,
          -72.66014990529177,
          -142.8808029692782,
          -50.3824614589683,
          -61.32336634718409,
          -64.01588559868199,
          -42.97597145406535,
          -53.91670421332763,
          5.20057538805472,
          -34.28652261726577,
          -161.8861094062129,
          -31.51559091369285,
          90.50202870366856,
          -110.3740174923697,
          -86.93730106281394,
          -115.39061150459516,
          -296.1176363039518,
          -49.48988341086067,
          852.6420995236531,
          155.45366573276127,
          -104.66167966436609,
          -10.470032899758989,
          263.6336397812515,
          -105.02562852906591,
          -152.40801322142414,
          60.91333554704329,
          194.71837696450157,
          -4.83139703193642,
          -3.0758985194001762,
          -271.59981726587944,
          107.38272949198686,
          -48.05919853354198,
          -18.629738713064413,
          -157.21574765432595,
          36.11221014068157,
          196.81113210906707,
          287.5407046479911,
          -107.99894843087326,
          41.21478156114774,
          185.89051386394954,
          266.9622160129908,
          109.14067825301551,
          -78.85557130386094,
          -54.11701550118701,
          -156.1430605837709,
          -126.53318410837377,
          311.14407843649496,
          -37.37924241787303,
          11.515252607725236,
          -31.110878035234112,
          328.9297446998774,
          59.917868907872595,
          262.0708934794326,
          -21.211137975278202,
          -3.1962925004329255,
          65.19292870474708,
          0.9203685041237452,
          -83.65360866489293,
          141.98315052176895,
          315.84583219496665,
          -170.7209049020579,
          13.014234307868888,
          135.11352024741655,
          -16.338158092109676,
          -88.70525768176869,
          -17.766449465659605,
          -9.097526035391926,
          7.6293521777011595,
          24.22538074503154,
          -30.407466546463166,
          184.29805858731729,
          160.72743285743485,
          154.08697132643954,
          208.38094121046407,
          4.1436273308724125,
          -124.29733756607817,
          -49.64384853682773
         ]
        }
       ],
       "layout": {
        "scene": {
         "xaxis": {
          "exponentformat": "e",
          "showexponent": "all",
          "title": {
           "text": "0th"
          },
          "type": "linear"
         },
         "yaxis": {
          "exponentformat": "e",
          "showexponent": "all",
          "title": {
           "text": "1st"
          },
          "type": "linear"
         },
         "zaxis": {
          "exponentformat": "e",
          "showexponent": "all",
          "title": {
           "text": "2nd"
          },
          "type": "linear"
         }
        },
        "template": {
         "data": {
          "bar": [
           {
            "error_x": {
             "color": "#2a3f5f"
            },
            "error_y": {
             "color": "#2a3f5f"
            },
            "marker": {
             "line": {
              "color": "#E5ECF6",
              "width": 0.5
             },
             "pattern": {
              "fillmode": "overlay",
              "size": 10,
              "solidity": 0.2
             }
            },
            "type": "bar"
           }
          ],
          "barpolar": [
           {
            "marker": {
             "line": {
              "color": "#E5ECF6",
              "width": 0.5
             },
             "pattern": {
              "fillmode": "overlay",
              "size": 10,
              "solidity": 0.2
             }
            },
            "type": "barpolar"
           }
          ],
          "carpet": [
           {
            "aaxis": {
             "endlinecolor": "#2a3f5f",
             "gridcolor": "white",
             "linecolor": "white",
             "minorgridcolor": "white",
             "startlinecolor": "#2a3f5f"
            },
            "baxis": {
             "endlinecolor": "#2a3f5f",
             "gridcolor": "white",
             "linecolor": "white",
             "minorgridcolor": "white",
             "startlinecolor": "#2a3f5f"
            },
            "type": "carpet"
           }
          ],
          "choropleth": [
           {
            "colorbar": {
             "outlinewidth": 0,
             "ticks": ""
            },
            "type": "choropleth"
           }
          ],
          "contour": [
           {
            "colorbar": {
             "outlinewidth": 0,
             "ticks": ""
            },
            "colorscale": [
             [
              0,
              "#0d0887"
             ],
             [
              0.1111111111111111,
              "#46039f"
             ],
             [
              0.2222222222222222,
              "#7201a8"
             ],
             [
              0.3333333333333333,
              "#9c179e"
             ],
             [
              0.4444444444444444,
              "#bd3786"
             ],
             [
              0.5555555555555556,
              "#d8576b"
             ],
             [
              0.6666666666666666,
              "#ed7953"
             ],
             [
              0.7777777777777778,
              "#fb9f3a"
             ],
             [
              0.8888888888888888,
              "#fdca26"
             ],
             [
              1,
              "#f0f921"
             ]
            ],
            "type": "contour"
           }
          ],
          "contourcarpet": [
           {
            "colorbar": {
             "outlinewidth": 0,
             "ticks": ""
            },
            "type": "contourcarpet"
           }
          ],
          "heatmap": [
           {
            "colorbar": {
             "outlinewidth": 0,
             "ticks": ""
            },
            "colorscale": [
             [
              0,
              "#0d0887"
             ],
             [
              0.1111111111111111,
              "#46039f"
             ],
             [
              0.2222222222222222,
              "#7201a8"
             ],
             [
              0.3333333333333333,
              "#9c179e"
             ],
             [
              0.4444444444444444,
              "#bd3786"
             ],
             [
              0.5555555555555556,
              "#d8576b"
             ],
             [
              0.6666666666666666,
              "#ed7953"
             ],
             [
              0.7777777777777778,
              "#fb9f3a"
             ],
             [
              0.8888888888888888,
              "#fdca26"
             ],
             [
              1,
              "#f0f921"
             ]
            ],
            "type": "heatmap"
           }
          ],
          "heatmapgl": [
           {
            "colorbar": {
             "outlinewidth": 0,
             "ticks": ""
            },
            "colorscale": [
             [
              0,
              "#0d0887"
             ],
             [
              0.1111111111111111,
              "#46039f"
             ],
             [
              0.2222222222222222,
              "#7201a8"
             ],
             [
              0.3333333333333333,
              "#9c179e"
             ],
             [
              0.4444444444444444,
              "#bd3786"
             ],
             [
              0.5555555555555556,
              "#d8576b"
             ],
             [
              0.6666666666666666,
              "#ed7953"
             ],
             [
              0.7777777777777778,
              "#fb9f3a"
             ],
             [
              0.8888888888888888,
              "#fdca26"
             ],
             [
              1,
              "#f0f921"
             ]
            ],
            "type": "heatmapgl"
           }
          ],
          "histogram": [
           {
            "marker": {
             "pattern": {
              "fillmode": "overlay",
              "size": 10,
              "solidity": 0.2
             }
            },
            "type": "histogram"
           }
          ],
          "histogram2d": [
           {
            "colorbar": {
             "outlinewidth": 0,
             "ticks": ""
            },
            "colorscale": [
             [
              0,
              "#0d0887"
             ],
             [
              0.1111111111111111,
              "#46039f"
             ],
             [
              0.2222222222222222,
              "#7201a8"
             ],
             [
              0.3333333333333333,
              "#9c179e"
             ],
             [
              0.4444444444444444,
              "#bd3786"
             ],
             [
              0.5555555555555556,
              "#d8576b"
             ],
             [
              0.6666666666666666,
              "#ed7953"
             ],
             [
              0.7777777777777778,
              "#fb9f3a"
             ],
             [
              0.8888888888888888,
              "#fdca26"
             ],
             [
              1,
              "#f0f921"
             ]
            ],
            "type": "histogram2d"
           }
          ],
          "histogram2dcontour": [
           {
            "colorbar": {
             "outlinewidth": 0,
             "ticks": ""
            },
            "colorscale": [
             [
              0,
              "#0d0887"
             ],
             [
              0.1111111111111111,
              "#46039f"
             ],
             [
              0.2222222222222222,
              "#7201a8"
             ],
             [
              0.3333333333333333,
              "#9c179e"
             ],
             [
              0.4444444444444444,
              "#bd3786"
             ],
             [
              0.5555555555555556,
              "#d8576b"
             ],
             [
              0.6666666666666666,
              "#ed7953"
             ],
             [
              0.7777777777777778,
              "#fb9f3a"
             ],
             [
              0.8888888888888888,
              "#fdca26"
             ],
             [
              1,
              "#f0f921"
             ]
            ],
            "type": "histogram2dcontour"
           }
          ],
          "mesh3d": [
           {
            "colorbar": {
             "outlinewidth": 0,
             "ticks": ""
            },
            "type": "mesh3d"
           }
          ],
          "parcoords": [
           {
            "line": {
             "colorbar": {
              "outlinewidth": 0,
              "ticks": ""
             }
            },
            "type": "parcoords"
           }
          ],
          "pie": [
           {
            "automargin": true,
            "type": "pie"
           }
          ],
          "scatter": [
           {
            "fillpattern": {
             "fillmode": "overlay",
             "size": 10,
             "solidity": 0.2
            },
            "type": "scatter"
           }
          ],
          "scatter3d": [
           {
            "line": {
             "colorbar": {
              "outlinewidth": 0,
              "ticks": ""
             }
            },
            "marker": {
             "colorbar": {
              "outlinewidth": 0,
              "ticks": ""
             }
            },
            "type": "scatter3d"
           }
          ],
          "scattercarpet": [
           {
            "marker": {
             "colorbar": {
              "outlinewidth": 0,
              "ticks": ""
             }
            },
            "type": "scattercarpet"
           }
          ],
          "scattergeo": [
           {
            "marker": {
             "colorbar": {
              "outlinewidth": 0,
              "ticks": ""
             }
            },
            "type": "scattergeo"
           }
          ],
          "scattergl": [
           {
            "marker": {
             "colorbar": {
              "outlinewidth": 0,
              "ticks": ""
             }
            },
            "type": "scattergl"
           }
          ],
          "scattermapbox": [
           {
            "marker": {
             "colorbar": {
              "outlinewidth": 0,
              "ticks": ""
             }
            },
            "type": "scattermapbox"
           }
          ],
          "scatterpolar": [
           {
            "marker": {
             "colorbar": {
              "outlinewidth": 0,
              "ticks": ""
             }
            },
            "type": "scatterpolar"
           }
          ],
          "scatterpolargl": [
           {
            "marker": {
             "colorbar": {
              "outlinewidth": 0,
              "ticks": ""
             }
            },
            "type": "scatterpolargl"
           }
          ],
          "scatterternary": [
           {
            "marker": {
             "colorbar": {
              "outlinewidth": 0,
              "ticks": ""
             }
            },
            "type": "scatterternary"
           }
          ],
          "surface": [
           {
            "colorbar": {
             "outlinewidth": 0,
             "ticks": ""
            },
            "colorscale": [
             [
              0,
              "#0d0887"
             ],
             [
              0.1111111111111111,
              "#46039f"
             ],
             [
              0.2222222222222222,
              "#7201a8"
             ],
             [
              0.3333333333333333,
              "#9c179e"
             ],
             [
              0.4444444444444444,
              "#bd3786"
             ],
             [
              0.5555555555555556,
              "#d8576b"
             ],
             [
              0.6666666666666666,
              "#ed7953"
             ],
             [
              0.7777777777777778,
              "#fb9f3a"
             ],
             [
              0.8888888888888888,
              "#fdca26"
             ],
             [
              1,
              "#f0f921"
             ]
            ],
            "type": "surface"
           }
          ],
          "table": [
           {
            "cells": {
             "fill": {
              "color": "#EBF0F8"
             },
             "line": {
              "color": "white"
             }
            },
            "header": {
             "fill": {
              "color": "#C8D4E3"
             },
             "line": {
              "color": "white"
             }
            },
            "type": "table"
           }
          ]
         },
         "layout": {
          "annotationdefaults": {
           "arrowcolor": "#2a3f5f",
           "arrowhead": 0,
           "arrowwidth": 1
          },
          "autotypenumbers": "strict",
          "coloraxis": {
           "colorbar": {
            "outlinewidth": 0,
            "ticks": ""
           }
          },
          "colorscale": {
           "diverging": [
            [
             0,
             "#8e0152"
            ],
            [
             0.1,
             "#c51b7d"
            ],
            [
             0.2,
             "#de77ae"
            ],
            [
             0.3,
             "#f1b6da"
            ],
            [
             0.4,
             "#fde0ef"
            ],
            [
             0.5,
             "#f7f7f7"
            ],
            [
             0.6,
             "#e6f5d0"
            ],
            [
             0.7,
             "#b8e186"
            ],
            [
             0.8,
             "#7fbc41"
            ],
            [
             0.9,
             "#4d9221"
            ],
            [
             1,
             "#276419"
            ]
           ],
           "sequential": [
            [
             0,
             "#0d0887"
            ],
            [
             0.1111111111111111,
             "#46039f"
            ],
            [
             0.2222222222222222,
             "#7201a8"
            ],
            [
             0.3333333333333333,
             "#9c179e"
            ],
            [
             0.4444444444444444,
             "#bd3786"
            ],
            [
             0.5555555555555556,
             "#d8576b"
            ],
            [
             0.6666666666666666,
             "#ed7953"
            ],
            [
             0.7777777777777778,
             "#fb9f3a"
            ],
            [
             0.8888888888888888,
             "#fdca26"
            ],
            [
             1,
             "#f0f921"
            ]
           ],
           "sequentialminus": [
            [
             0,
             "#0d0887"
            ],
            [
             0.1111111111111111,
             "#46039f"
            ],
            [
             0.2222222222222222,
             "#7201a8"
            ],
            [
             0.3333333333333333,
             "#9c179e"
            ],
            [
             0.4444444444444444,
             "#bd3786"
            ],
            [
             0.5555555555555556,
             "#d8576b"
            ],
            [
             0.6666666666666666,
             "#ed7953"
            ],
            [
             0.7777777777777778,
             "#fb9f3a"
            ],
            [
             0.8888888888888888,
             "#fdca26"
            ],
            [
             1,
             "#f0f921"
            ]
           ]
          },
          "colorway": [
           "#636efa",
           "#EF553B",
           "#00cc96",
           "#ab63fa",
           "#FFA15A",
           "#19d3f3",
           "#FF6692",
           "#B6E880",
           "#FF97FF",
           "#FECB52"
          ],
          "font": {
           "color": "#2a3f5f"
          },
          "geo": {
           "bgcolor": "white",
           "lakecolor": "white",
           "landcolor": "#E5ECF6",
           "showlakes": true,
           "showland": true,
           "subunitcolor": "white"
          },
          "hoverlabel": {
           "align": "left"
          },
          "hovermode": "closest",
          "mapbox": {
           "style": "light"
          },
          "paper_bgcolor": "white",
          "plot_bgcolor": "#E5ECF6",
          "polar": {
           "angularaxis": {
            "gridcolor": "white",
            "linecolor": "white",
            "ticks": ""
           },
           "bgcolor": "#E5ECF6",
           "radialaxis": {
            "gridcolor": "white",
            "linecolor": "white",
            "ticks": ""
           }
          },
          "scene": {
           "xaxis": {
            "backgroundcolor": "#E5ECF6",
            "gridcolor": "white",
            "gridwidth": 2,
            "linecolor": "white",
            "showbackground": true,
            "ticks": "",
            "zerolinecolor": "white"
           },
           "yaxis": {
            "backgroundcolor": "#E5ECF6",
            "gridcolor": "white",
            "gridwidth": 2,
            "linecolor": "white",
            "showbackground": true,
            "ticks": "",
            "zerolinecolor": "white"
           },
           "zaxis": {
            "backgroundcolor": "#E5ECF6",
            "gridcolor": "white",
            "gridwidth": 2,
            "linecolor": "white",
            "showbackground": true,
            "ticks": "",
            "zerolinecolor": "white"
           }
          },
          "shapedefaults": {
           "line": {
            "color": "#2a3f5f"
           }
          },
          "ternary": {
           "aaxis": {
            "gridcolor": "white",
            "linecolor": "white",
            "ticks": ""
           },
           "baxis": {
            "gridcolor": "white",
            "linecolor": "white",
            "ticks": ""
           },
           "bgcolor": "#E5ECF6",
           "caxis": {
            "gridcolor": "white",
            "linecolor": "white",
            "ticks": ""
           }
          },
          "title": {
           "x": 0.05
          },
          "xaxis": {
           "automargin": true,
           "gridcolor": "white",
           "linecolor": "white",
           "ticks": "",
           "title": {
            "standoff": 15
           },
           "zerolinecolor": "white",
           "zerolinewidth": 2
          },
          "yaxis": {
           "automargin": true,
           "gridcolor": "white",
           "linecolor": "white",
           "ticks": "",
           "title": {
            "standoff": 15
           },
           "zerolinecolor": "white",
           "zerolinewidth": 2
          }
         }
        }
       }
      }
     },
     "metadata": {},
     "output_type": "display_data"
    }
   ],
   "source": [
    "# Random Forest\n",
    "from gtda.plotting import plot_point_cloud\n",
    "plot_point_cloud(mydataset.X)"
   ]
  }
 ],
 "metadata": {
  "kernelspec": {
   "display_name": "base",
   "language": "python",
   "name": "python3"
  },
  "language_info": {
   "codemirror_mode": {
    "name": "ipython",
    "version": 3
   },
   "file_extension": ".py",
   "mimetype": "text/x-python",
   "name": "python",
   "nbconvert_exporter": "python",
   "pygments_lexer": "ipython3",
   "version": "3.9.13"
  }
 },
 "nbformat": 4,
 "nbformat_minor": 2
}
